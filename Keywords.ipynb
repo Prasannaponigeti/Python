{
 "cells": [
  {
   "cell_type": "markdown",
   "id": "6810fc50-49b6-4908-ba65-bbc38ae598ce",
   "metadata": {},
   "source": [
    "#### keywords\n",
    "- In Python keywords  are the reserved words that have special meanings and serve specific purposes in the language syntax.\n",
    "- Python keywords cannot be used as the names of variables, functions, and classes or any other identifier."
   ]
  },
  {
   "cell_type": "code",
   "execution_count": 1,
   "id": "22b6decd-1510-42f7-919b-b43cc7b24af6",
   "metadata": {},
   "outputs": [
    {
     "name": "stdout",
     "output_type": "stream",
     "text": [
      "The list of keywords is : \n",
      "['False', 'None', 'True', 'and', 'as', 'assert', 'async', 'await', 'break', 'class', 'continue', 'def', 'del', 'elif', 'else', 'except', 'finally', 'for', 'from', 'global', 'if', 'import', 'in', 'is', 'lambda', 'nonlocal', 'not', 'or', 'pass', 'raise', 'return', 'try', 'while', 'with', 'yield']\n"
     ]
    }
   ],
   "source": [
    "#Getting all keywords list\n",
    "import keyword\n",
    "print(\"The list of keywords is : \")\n",
    "print(keyword.kwlist)"
   ]
  },
  {
   "cell_type": "code",
   "execution_count": null,
   "id": "7b7d70e4-9606-4420-a408-a75200818be5",
   "metadata": {},
   "outputs": [],
   "source": []
  }
 ],
 "metadata": {
  "kernelspec": {
   "display_name": "Python 3 (ipykernel)",
   "language": "python",
   "name": "python3"
  },
  "language_info": {
   "codemirror_mode": {
    "name": "ipython",
    "version": 3
   },
   "file_extension": ".py",
   "mimetype": "text/x-python",
   "name": "python",
   "nbconvert_exporter": "python",
   "pygments_lexer": "ipython3",
   "version": "3.13.5"
  }
 },
 "nbformat": 4,
 "nbformat_minor": 5
}
