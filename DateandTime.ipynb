{
 "cells": [
  {
   "cell_type": "code",
   "execution_count": 1,
   "id": "98f6aa56-cdc4-41cb-bc5a-4656599b90bd",
   "metadata": {},
   "outputs": [],
   "source": [
    "import datetime"
   ]
  },
  {
   "cell_type": "code",
   "execution_count": 2,
   "id": "c6f8ea5a-1d6f-4b6d-a9a8-a314a14cb9af",
   "metadata": {},
   "outputs": [
    {
     "name": "stdout",
     "output_type": "stream",
     "text": [
      "['MAXYEAR', 'MINYEAR', 'UTC', '__all__', '__builtins__', '__cached__', '__doc__', '__file__', '__loader__', '__name__', '__package__', '__spec__', 'date', 'datetime', 'datetime_CAPI', 'time', 'timedelta', 'timezone', 'tzinfo']\n"
     ]
    }
   ],
   "source": [
    "print(dir(datetime))"
   ]
  },
  {
   "cell_type": "code",
   "execution_count": 3,
   "id": "58af1fd8-f3a9-430a-baa5-be1d52e6475e",
   "metadata": {},
   "outputs": [
    {
     "name": "stdout",
     "output_type": "stream",
     "text": [
      "['__add__', '__class__', '__delattr__', '__dir__', '__doc__', '__eq__', '__format__', '__ge__', '__getattribute__', '__getstate__', '__gt__', '__hash__', '__init__', '__init_subclass__', '__le__', '__lt__', '__ne__', '__new__', '__radd__', '__reduce__', '__reduce_ex__', '__replace__', '__repr__', '__rsub__', '__setattr__', '__sizeof__', '__str__', '__sub__', '__subclasshook__', 'ctime', 'day', 'fromisocalendar', 'fromisoformat', 'fromordinal', 'fromtimestamp', 'isocalendar', 'isoformat', 'isoweekday', 'max', 'min', 'month', 'replace', 'resolution', 'strftime', 'timetuple', 'today', 'toordinal', 'weekday', 'year']\n"
     ]
    }
   ],
   "source": [
    "from datetime import date\n",
    "print(dir(date))"
   ]
  },
  {
   "cell_type": "code",
   "execution_count": 4,
   "id": "4f555a1e-a692-480c-a5f6-5bd828afc484",
   "metadata": {},
   "outputs": [
    {
     "name": "stdout",
     "output_type": "stream",
     "text": [
      "today's date: 2025-09-14\n",
      "current year: 2025\n",
      "current month: 9\n",
      "today's day: 14\n"
     ]
    }
   ],
   "source": [
    "today = date.today()\n",
    "print(\"today's date:\", today)\n",
    "print(\"current year:\", today.year)\n",
    "print(\"current month:\", today.month)\n",
    "print(\"today's day:\", today.day)"
   ]
  },
  {
   "cell_type": "code",
   "execution_count": 5,
   "id": "77492546-9a58-404d-b4f2-9ad11b330747",
   "metadata": {},
   "outputs": [
    {
     "data": {
      "text/plain": [
       "['__add__',\n",
       " '__class__',\n",
       " '__delattr__',\n",
       " '__dir__',\n",
       " '__doc__',\n",
       " '__eq__',\n",
       " '__format__',\n",
       " '__ge__',\n",
       " '__getattribute__',\n",
       " '__getstate__',\n",
       " '__gt__',\n",
       " '__hash__',\n",
       " '__init__',\n",
       " '__init_subclass__',\n",
       " '__le__',\n",
       " '__lt__',\n",
       " '__ne__',\n",
       " '__new__',\n",
       " '__radd__',\n",
       " '__reduce__',\n",
       " '__reduce_ex__',\n",
       " '__replace__',\n",
       " '__repr__',\n",
       " '__rsub__',\n",
       " '__setattr__',\n",
       " '__sizeof__',\n",
       " '__str__',\n",
       " '__sub__',\n",
       " '__subclasshook__',\n",
       " 'ctime',\n",
       " 'day',\n",
       " 'fromisocalendar',\n",
       " 'fromisoformat',\n",
       " 'fromordinal',\n",
       " 'fromtimestamp',\n",
       " 'isocalendar',\n",
       " 'isoformat',\n",
       " 'isoweekday',\n",
       " 'max',\n",
       " 'min',\n",
       " 'month',\n",
       " 'replace',\n",
       " 'resolution',\n",
       " 'strftime',\n",
       " 'timetuple',\n",
       " 'today',\n",
       " 'toordinal',\n",
       " 'weekday',\n",
       " 'year']"
      ]
     },
     "execution_count": 5,
     "metadata": {},
     "output_type": "execute_result"
    }
   ],
   "source": [
    "dir(today)"
   ]
  },
  {
   "cell_type": "code",
   "execution_count": 6,
   "id": "acba6718-a20d-4ea0-b8e3-c9da8c89f134",
   "metadata": {},
   "outputs": [
    {
     "name": "stdout",
     "output_type": "stream",
     "text": [
      "2000-09-14\n",
      "2000-10-14\n"
     ]
    }
   ],
   "source": [
    "today = date.today()\n",
    "print(today.replace(year = 2000, day =14))\n",
    "print(today.replace(year = 2000, month = 10, day = 14))"
   ]
  },
  {
   "cell_type": "code",
   "execution_count": 7,
   "id": "ab0ef9be-d12e-4680-bd13-b263b9658a75",
   "metadata": {},
   "outputs": [
    {
     "name": "stdout",
     "output_type": "stream",
     "text": [
      "0001-01-01\n",
      "9999-12-31\n"
     ]
    }
   ],
   "source": [
    "today = date.today()\n",
    "print(today.min) # minimum date\n",
    "print(today.max) # maximum date"
   ]
  },
  {
   "cell_type": "code",
   "execution_count": 8,
   "id": "29de3b3e-32f6-460f-960f-5abb74b7c9b6",
   "metadata": {},
   "outputs": [
    {
     "name": "stdout",
     "output_type": "stream",
     "text": [
      "6\n",
      "7\n"
     ]
    }
   ],
   "source": [
    "today = date.today()\n",
    "print(today.weekday())# returns weekday number(monday =0 and saturday =5) \n",
    "print(today.isoweekday())# monday =1 and saturday =6"
   ]
  },
  {
   "cell_type": "code",
   "execution_count": 9,
   "id": "a97a01fd-42e9-402f-bedf-53e12e1ddae0",
   "metadata": {},
   "outputs": [
    {
     "name": "stdout",
     "output_type": "stream",
     "text": [
      "2025-05-13\n"
     ]
    }
   ],
   "source": [
    "d = date(2025,5,13)\n",
    "print(d)"
   ]
  },
  {
   "cell_type": "code",
   "execution_count": 10,
   "id": "9659f3ea-3eb6-4d9e-9e73-cb87c8d50a81",
   "metadata": {},
   "outputs": [
    {
     "name": "stdout",
     "output_type": "stream",
     "text": [
      "2025-12-10 00:00:00\n"
     ]
    }
   ],
   "source": [
    "print(datetime.datetime(2025,12,10))"
   ]
  },
  {
   "cell_type": "code",
   "execution_count": 11,
   "id": "2c441220-fa8f-4fb5-9d40-873660b87983",
   "metadata": {},
   "outputs": [
    {
     "name": "stdin",
     "output_type": "stream",
     "text": [
      " 2025 2 27\n"
     ]
    },
    {
     "ename": "ValueError",
     "evalue": "too many values to unpack (expected 3)",
     "output_type": "error",
     "traceback": [
      "\u001b[1;31m---------------------------------------------------------------------------\u001b[0m",
      "\u001b[1;31mValueError\u001b[0m                                Traceback (most recent call last)",
      "Cell \u001b[1;32mIn[11], line 25\u001b[0m\n\u001b[0;32m     23\u001b[0m     \u001b[38;5;28mprint\u001b[39m(\u001b[38;5;124m\"\u001b[39m\u001b[38;5;124mtotal_days:\u001b[39m\u001b[38;5;124m\"\u001b[39m, days)\n\u001b[0;32m     24\u001b[0m     \u001b[38;5;28mprint\u001b[39m(\u001b[38;5;124m\"\u001b[39m\u001b[38;5;124mtotal sundays:\u001b[39m\u001b[38;5;124m\"\u001b[39m, sundays)\n\u001b[1;32m---> 25\u001b[0m year, month, day \u001b[38;5;241m=\u001b[39m \u001b[38;5;28mmap\u001b[39m(\u001b[38;5;28mint\u001b[39m, \u001b[38;5;28minput\u001b[39m()\u001b[38;5;241m.\u001b[39mstrip())\n\u001b[0;32m     26\u001b[0m main(date(year, month, day))\n",
      "\u001b[1;31mValueError\u001b[0m: too many values to unpack (expected 3)"
     ]
    }
   ],
   "source": [
    "days = [31,28,31,30,31,30,31,30,31,30,31]\n",
    "leap_days = [31,28,31,30,31,30,31,30,31,30,31]\n",
    "def leap_year(year):\n",
    "    if year % 4 == 0 and year % 100 != 0 or year %400 == 0:\n",
    "        return True\n",
    "    else:\n",
    "        return False\n",
    "def total_sundays(days):\n",
    "    return days//7\n",
    "def total_days(date:date):\n",
    "    days = 0\n",
    "    month = date.month\n",
    "    for i in range(1, month+1):\n",
    "        days += days[i]\n",
    "    \n",
    "    return days+1 if leap else total_days\n",
    "def main(date:date):\n",
    "    while date.isoweekday() != 7:\n",
    "        non_sunday_days += 1\n",
    "        date = date + datetime.timedelta(days = 1)\n",
    "    days = total_days(date,leap_year(date.year))\n",
    "    sundays = total_sundays(days)\n",
    "    print(\"total_days:\", days)\n",
    "    print(\"total sundays:\", sundays)\n",
    "year, month, day = map(int, input().strip())\n",
    "main(date(year, month, day))"
   ]
  },
  {
   "cell_type": "code",
   "execution_count": 3,
   "id": "4f5c1ee1-0c3e-4b45-bd06-b635ba47474d",
   "metadata": {},
   "outputs": [
    {
     "name": "stdin",
     "output_type": "stream",
     "text": [
      "Enter date (dd mm yyyy):  15 09 2025\n"
     ]
    },
    {
     "name": "stdout",
     "output_type": "stream",
     "text": [
      "Total days until 2025-09-15: 258\n",
      "Total Sundays until 2025-09-15: 37\n",
      "Total hours: 6192\n",
      "Total minutes: 371520\n",
      "Total seconds: 22291200\n",
      "Total milliseconds: 22291200000\n"
     ]
    }
   ],
   "source": [
    "from datetime import date, datetime, timedelta\n",
    "\n",
    "def is_leap_year(year):\n",
    "    \"\"\"Check if a year is a leap year.\"\"\"\n",
    "    return (year % 4 == 0 and year % 100 != 0) or (year % 400 == 0)\n",
    "\n",
    "def total_days_in_year_until(d):\n",
    "    \"\"\"Return total days from Jan 1st to the given date (inclusive).\"\"\"\n",
    "    start = date(d.year, 1, 1)\n",
    "    delta = d - start\n",
    "    return delta.days + 1  # +1 to include the current day\n",
    "\n",
    "def total_sundays_until(d):\n",
    "    \"\"\"Return total Sundays from Jan 1st to the given date.\"\"\"\n",
    "    count = 0\n",
    "    current = date(d.year, 1, 1)\n",
    "    while current <= d:\n",
    "        if current.weekday() == 6:  # Sunday (0=Monday ... 6=Sunday)\n",
    "            count += 1\n",
    "        current += timedelta(days=1)\n",
    "    return count\n",
    "\n",
    "def time_components(days):\n",
    "    \"\"\"Convert days into hours, minutes, seconds, milliseconds.\"\"\"\n",
    "    total_seconds = days * 24 * 60 * 60\n",
    "    hours = total_seconds // 3600\n",
    "    minutes = total_seconds // 60\n",
    "    seconds = total_seconds\n",
    "    milliseconds = total_seconds * 1000\n",
    "    return hours, minutes, seconds, milliseconds\n",
    "\n",
    "def main():\n",
    "    \n",
    "    day, month, year = map(int, input(\"Enter date (dd mm yyyy): \").split())\n",
    "    d = date(year, month, day)\n",
    "\n",
    "    \n",
    "    days_passed = total_days_in_year_until(d)\n",
    "\n",
    "    \n",
    "    sundays = total_sundays_until(d)\n",
    "\n",
    "    \n",
    "    hours, minutes, seconds, milliseconds = time_components(days_passed)\n",
    "\n",
    "    print(f\"Total days until {d}: {days_passed}\")\n",
    "    print(f\"Total Sundays until {d}: {sundays}\")\n",
    "    print(f\"Total hours: {hours}\")\n",
    "    print(f\"Total minutes: {minutes}\")\n",
    "    print(f\"Total seconds: {seconds}\")\n",
    "    print(f\"Total milliseconds: {milliseconds}\")\n",
    "\n",
    "if __name__ == \"__main__\":\n",
    "    main()"
   ]
  },
  {
   "cell_type": "code",
   "execution_count": null,
   "id": "ad2533cd-ec09-4ca9-8e64-a9583376f40a",
   "metadata": {},
   "outputs": [],
   "source": []
  }
 ],
 "metadata": {
  "kernelspec": {
   "display_name": "Python 3 (ipykernel)",
   "language": "python",
   "name": "python3"
  },
  "language_info": {
   "codemirror_mode": {
    "name": "ipython",
    "version": 3
   },
   "file_extension": ".py",
   "mimetype": "text/x-python",
   "name": "python",
   "nbconvert_exporter": "python",
   "pygments_lexer": "ipython3",
   "version": "3.13.5"
  }
 },
 "nbformat": 4,
 "nbformat_minor": 5
}
