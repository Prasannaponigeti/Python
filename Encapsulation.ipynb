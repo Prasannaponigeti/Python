{
 "cells": [
  {
   "cell_type": "markdown",
   "id": "5c0713d0-f94d-4b0d-a416-12d898f012af",
   "metadata": {},
   "source": [
    "#### Encapsulation\n",
    "- Wrapping the data and methods in single unit and the main aim of encapsulation is to prevent the direct access of attributes and method.\n",
    "by using encapsulation hiding the unneccessary things and exposing the necessary things. In encapsulation to prevent direct acess of attributes and methods by using access modifiers\n",
    "acesss modifiers -in python\n",
    "public,private,protected "
   ]
  },
  {
   "cell_type": "code",
   "execution_count": 7,
   "id": "06730c80-c3cc-4ea9-9f0a-a563e1547639",
   "metadata": {},
   "outputs": [
    {
     "data": {
      "text/plain": [
       "' Student name is Geetha and marks is 96'"
      ]
     },
     "execution_count": 7,
     "metadata": {},
     "output_type": "execute_result"
    }
   ],
   "source": [
    "class Student:\n",
    "    school=\"Codegnan\"\n",
    "    def __init__(self, name, marks):\n",
    "        self.name=name\n",
    "        self.__marks=marks\n",
    "    def display(self):\n",
    "        return f\" Student name is {self.name} and marks is {self.__marks}\"\n",
    "s3=Student (\"Geetha\", 96)\n",
    "s3.display()"
   ]
  },
  {
   "cell_type": "markdown",
   "id": "5f6fbe15-b8dc-4d5a-9648-0d7ba2d3368a",
   "metadata": {},
   "source": [
    "#### public\n",
    "- In public access modifiers we can acess the public members means attributes and methods.inside the class, outoff the class, throughout the class"
   ]
  },
  {
   "cell_type": "code",
   "execution_count": 10,
   "id": "d19616a5-0274-4fd7-be55-92c1ed657ea8",
   "metadata": {},
   "outputs": [
    {
     "data": {
      "text/plain": [
       "96"
      ]
     },
     "execution_count": 10,
     "metadata": {},
     "output_type": "execute_result"
    }
   ],
   "source": [
    "#public\n",
    "class Student:\n",
    "    school=\"Codegnan\"\n",
    "    def __init__(self, name, marks):\n",
    "        self.name=name\n",
    "        self.marks=marks\n",
    "    def display(self):\n",
    "        return f\" Student name is {self.name} and marks is {self.marks}\"\n",
    "s1=Student (\"Geetha\", 96)\n",
    "s2 = Student(\"Ravi\", 95)\n",
    "s1.marks"
   ]
  },
  {
   "cell_type": "markdown",
   "id": "bcfea798-7bf0-4410-bd8d-856e58771815",
   "metadata": {},
   "source": [
    "####  protected: \n",
    "- The protected members we can can access throughout the class but we cant access protected member directly outside the class .  in python protected member starsts with single underscore and splitting. in python it doesnt strictly protect the members but we can access the protected members out of the class by using obj._name._attribute_name\n"
   ]
  },
  {
   "cell_type": "code",
   "execution_count": 14,
   "id": "a21fd23e-86e7-41f3-9513-07c17285fa0c",
   "metadata": {},
   "outputs": [
    {
     "name": "stdout",
     "output_type": "stream",
     "text": [
      "Geetha\n",
      "96\n",
      "Student name is Geetha and marks is 96\n"
     ]
    }
   ],
   "source": [
    "#protected\n",
    "class Student:\n",
    "    def __init__(self, name, marks):\n",
    "        self.name=name #instance attribute\n",
    "        self._marks=marks# protected attribute\n",
    "    def _display(self):\n",
    "        return f\"Student name is {self.name} and marks is {self._marks}\"\n",
    "s1=Student (\"Geetha\", 96)\n",
    "print(s1.name)\n",
    "print(s1._marks)\n",
    "print(s1._display())\n"
   ]
  },
  {
   "cell_type": "markdown",
   "id": "3b070237-fe55-4055-8cb5-ee754b6f1fc2",
   "metadata": {},
   "source": [
    "#### private\n",
    "- private members can access throughout the class but directly we cant access in outside class. In python private members starts with double underscore. private members can access outside class by using name mangling. private members we cannot access in subclasses.   "
   ]
  },
  {
   "cell_type": "code",
   "execution_count": 1,
   "id": "1019413d-4b76-4343-b22b-5fdc0adf1c85",
   "metadata": {},
   "outputs": [
    {
     "name": "stdout",
     "output_type": "stream",
     "text": [
      "Geetha\n",
      "96\n",
      "Student name is Geetha and marks is 96\n"
     ]
    }
   ],
   "source": [
    "class Student:\n",
    "    def __init__(self, name, marks):\n",
    "        self.name=name #instance attribute\n",
    "        self.__marks=marks# private attribute\n",
    "    def __display(self):\n",
    "        return f\"Student name is {self.name} and marks is {self.__marks}\"\n",
    "s1=Student (\"Geetha\", 96)\n",
    "print(s1.name)\n",
    "print(s1._Student__marks)\n",
    "print(s1._Student__display())\n"
   ]
  },
  {
   "cell_type": "markdown",
   "id": "3374efa7-009c-4e1b-8d77-468bab2638e7",
   "metadata": {},
   "source": [
    "#### name mangling syntax:\n",
    "-obj_name._class_name__attributename<br>\n",
    "eg: print(s4.student__marks)<br>\n",
    "    print(s4.student.display)<br>\n",
    "python does not private particular restrictions"
   ]
  },
  {
   "cell_type": "code",
   "execution_count": null,
   "id": "48e50cd1-ecee-42cf-ad9a-b91d59b45e14",
   "metadata": {},
   "outputs": [],
   "source": []
  }
 ],
 "metadata": {
  "kernelspec": {
   "display_name": "Python 3 (ipykernel)",
   "language": "python",
   "name": "python3"
  },
  "language_info": {
   "codemirror_mode": {
    "name": "ipython",
    "version": 3
   },
   "file_extension": ".py",
   "mimetype": "text/x-python",
   "name": "python",
   "nbconvert_exporter": "python",
   "pygments_lexer": "ipython3",
   "version": "3.13.5"
  }
 },
 "nbformat": 4,
 "nbformat_minor": 5
}
