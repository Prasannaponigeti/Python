{
 "cells": [
  {
   "cell_type": "markdown",
   "id": "e876be30-f555-45d1-8f50-cafd6e1a349d",
   "metadata": {},
   "source": [
    "#### Recursion \n",
    "- recursion in python is a programming   technique where function call itself directly or indirectly, this approach breaks down a problem into smaller until unless problem reaches to base condition."
   ]
  },
  {
   "cell_type": "markdown",
   "id": "5b6c617c-8828-4a82-997b-72f0acb7b4cf",
   "metadata": {},
   "source": [
    "#### structure of recursion\n",
    "#def fun_name(parameter):<br>\n",
    "      #base condition<br>\n",
    "      #recursive condition\n"
   ]
  },
  {
   "cell_type": "code",
   "execution_count": null,
   "id": "b0917530-3dd0-464c-a843-6f40641e3455",
   "metadata": {},
   "outputs": [],
   "source": [
    "#def fun_name(parameter):\n",
    "    #base condition\n",
    "    #recursive condition"
   ]
  },
  {
   "cell_type": "code",
   "execution_count": 2,
   "id": "e7f036ca-b90f-484e-945b-591266cc52b9",
   "metadata": {},
   "outputs": [],
   "source": [
    "#base condition-small problem\n",
    "#in recursion base condition is used to stop the recursive function call"
   ]
  },
  {
   "cell_type": "code",
   "execution_count": 24,
   "id": "c3ad42d0-1b4e-4f2e-9cdc-1d8b4fd5e3f8",
   "metadata": {},
   "outputs": [],
   "source": [
    "#recursive-big problem\n",
    "# in recursive case recursive function calls directly or indirectly until unless it reaches to base condition."
   ]
  },
  {
   "cell_type": "code",
   "execution_count": 17,
   "id": "eee3af83-7533-4f82-b706-606591b09703",
   "metadata": {},
   "outputs": [
    {
     "name": "stdin",
     "output_type": "stream",
     "text": [
      " 6\n"
     ]
    },
    {
     "name": "stdout",
     "output_type": "stream",
     "text": [
      "Factorial of 6 is 720\n"
     ]
    }
   ],
   "source": [
    "#ex factorial of a number\n",
    "def Factorial(x):\n",
    "    if x==1:\n",
    "        return 1   #base condition\n",
    "    return x* Factorial(x-1) #recursive\n",
    "n=int(input())\n",
    "print(\"Factorial of\", n, \"is\", Factorial(n))"
   ]
  },
  {
   "cell_type": "code",
   "execution_count": 25,
   "id": "c24f1a4a-35dc-4b2b-92f3-f18ecc60b2a6",
   "metadata": {},
   "outputs": [
    {
     "name": "stdin",
     "output_type": "stream",
     "text": [
      "Enter how many terms:  10\n"
     ]
    },
    {
     "name": "stdout",
     "output_type": "stream",
     "text": [
      "0 1 1 2 3 5 8 13 21 34 "
     ]
    }
   ],
   "source": [
    "#febinocci series\n",
    "def fibonacci(x):\n",
    "    if x==0:\n",
    "        return 0\n",
    "    elif x==1:\n",
    "        return 1\n",
    "    else:\n",
    "        return fibonacci(x-1)+fibonacci(x-2)\n",
    "n = int(input(\"Enter how many terms: \"))\n",
    "\n",
    "for i in range(n):\n",
    "    print(fibonacci(i), end=\" \")"
   ]
  },
  {
   "cell_type": "code",
   "execution_count": 22,
   "id": "f9a132f7-9332-4dc5-9ed0-8fc83951890c",
   "metadata": {},
   "outputs": [
    {
     "name": "stdout",
     "output_type": "stream",
     "text": [
      "1\n",
      "2\n",
      "3\n",
      "4\n",
      "5\n"
     ]
    }
   ],
   "source": [
    "def fun(x):\n",
    "    if x==1:  # base case\n",
    "        print(1)\n",
    "        return\n",
    "    fun(x-1)  # recursive \n",
    "    print(x)\n",
    "fun(5)\n",
    "    "
   ]
  },
  {
   "cell_type": "code",
   "execution_count": 21,
   "id": "dc9bda0f-ff33-4b80-9092-97a5a4f84efb",
   "metadata": {},
   "outputs": [
    {
     "name": "stdout",
     "output_type": "stream",
     "text": [
      "5\n",
      "4\n",
      "3\n",
      "2\n",
      "1\n"
     ]
    }
   ],
   "source": [
    "\n",
    "def fun(x):\n",
    "    if x==1:  # base case\n",
    "        print(1)\n",
    "        return\n",
    "    print(x)\n",
    "    fun(x-1)  # recursive \n",
    "   \n",
    "fun(5)\n",
    "    "
   ]
  },
  {
   "cell_type": "code",
   "execution_count": 26,
   "id": "b6a8d587-b298-4d91-91d5-c0b78ca4c145",
   "metadata": {},
   "outputs": [
    {
     "name": "stdout",
     "output_type": "stream",
     "text": [
      "1\n",
      "3\n",
      "5\n",
      "7\n",
      "9\n",
      "11\n"
     ]
    }
   ],
   "source": [
    "#odd numbers\n",
    "def fun(x):\n",
    "    if x==0:  # base case\n",
    "        print(0)\n",
    "        return\n",
    "    elif x==1:\n",
    "        print(1)\n",
    "        return\n",
    "    elif x%2==0:\n",
    "        print(x)\n",
    "        fun(x-2)\n",
    "    else:\n",
    "        fun(x-2)\n",
    "        print(x) # recursive \n",
    "   \n",
    "fun(11)\n",
    "    "
   ]
  },
  {
   "cell_type": "code",
   "execution_count": 38,
   "id": "7b7c12b6-9091-44fc-806d-c16b564cacaf",
   "metadata": {},
   "outputs": [
    {
     "name": "stdout",
     "output_type": "stream",
     "text": [
      "11\n",
      "9\n",
      "7\n",
      "5\n",
      "3\n",
      "1\n"
     ]
    }
   ],
   "source": [
    "# reverse ofodd numbers\n",
    "def fun(x):\n",
    "    if x==0:  # base case\n",
    "        print(0)\n",
    "        return\n",
    "    elif x==1:\n",
    "        print(1)\n",
    "        return\n",
    "    elif x%2==0:\n",
    "        print(x)\n",
    "        fun(x-2)\n",
    "    else:\n",
    "        print(x)\n",
    "        fun(x-2)\n",
    "         # recursive \n",
    "   \n",
    "fun(11)\n",
    "    "
   ]
  },
  {
   "cell_type": "code",
   "execution_count": 32,
   "id": "549de8c9-bca0-47bf-9757-91cb7289f3b0",
   "metadata": {},
   "outputs": [
    {
     "name": "stdout",
     "output_type": "stream",
     "text": [
      "0\n",
      "2\n",
      "4\n",
      "6\n",
      "8\n",
      "10\n"
     ]
    }
   ],
   "source": [
    "#even numbers\n",
    "def fun(x):\n",
    "    if x==0 or x==1:  # base case\n",
    "        print(0)\n",
    "        return\n",
    "    fun(x-2)\n",
    "    print(x) # recursive \n",
    "   \n",
    "fun(10)\n",
    "    "
   ]
  },
  {
   "cell_type": "code",
   "execution_count": 34,
   "id": "354b4315-2fc2-4264-bd56-579e56ae66ee",
   "metadata": {},
   "outputs": [
    {
     "name": "stdout",
     "output_type": "stream",
     "text": [
      "0\n",
      "2\n",
      "4\n",
      "6\n",
      "8\n",
      "10\n",
      "12\n",
      "14\n",
      "16\n",
      "18\n",
      "20\n"
     ]
    }
   ],
   "source": [
    "def fun(x):\n",
    "    if x==0:  # base case\n",
    "        print(0)\n",
    "        return\n",
    "    elif x==1:\n",
    "        print(1)\n",
    "        return\n",
    "    fun(x-2)\n",
    "    print(x)\n",
    "fun(20)"
   ]
  },
  {
   "cell_type": "code",
   "execution_count": 37,
   "id": "5dedb2d3-05f7-4e0f-8fb7-ced5bf39c675",
   "metadata": {},
   "outputs": [
    {
     "name": "stdout",
     "output_type": "stream",
     "text": [
      "20\n",
      "18\n",
      "16\n",
      "14\n",
      "12\n",
      "10\n",
      "8\n",
      "6\n",
      "4\n",
      "2\n",
      "0\n"
     ]
    }
   ],
   "source": [
    "#reverse of even numbers\n",
    "def fun(x):\n",
    "    if x==0:  # base case\n",
    "        print(0)\n",
    "        return\n",
    "    elif x==1:\n",
    "        print(1)\n",
    "        return\n",
    "    print(x)\n",
    "    fun(x-2)\n",
    "   \n",
    "fun(20)"
   ]
  },
  {
   "cell_type": "code",
   "execution_count": null,
   "id": "79cadb1f-7602-422b-8bc4-6c7ca6c36c7e",
   "metadata": {},
   "outputs": [],
   "source": []
  }
 ],
 "metadata": {
  "kernelspec": {
   "display_name": "Python 3 (ipykernel)",
   "language": "python",
   "name": "python3"
  },
  "language_info": {
   "codemirror_mode": {
    "name": "ipython",
    "version": 3
   },
   "file_extension": ".py",
   "mimetype": "text/x-python",
   "name": "python",
   "nbconvert_exporter": "python",
   "pygments_lexer": "ipython3",
   "version": "3.13.5"
  }
 },
 "nbformat": 4,
 "nbformat_minor": 5
}
