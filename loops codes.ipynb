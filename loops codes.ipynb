{
 "cells": [
  {
   "cell_type": "code",
   "execution_count": 2,
   "id": "1257188f-2e02-469a-93f3-8d22eac19722",
   "metadata": {},
   "outputs": [
    {
     "name": "stdin",
     "output_type": "stream",
     "text": [
      "Enter number of elements:  4\n",
      "Enter element:  23\n",
      "Enter element:  12\n",
      "Enter element:  24\n",
      "Enter element:  34\n"
     ]
    },
    {
     "name": "stdout",
     "output_type": "stream",
     "text": [
      "Sum of array elements: 93\n"
     ]
    }
   ],
   "source": [
    "#Write a python program to find sum of array#\n",
    "n = int(input(\"Enter number of elements: \"))\n",
    "total = 0\n",
    "for i in range(n):\n",
    "    num = int(input(\"Enter element: \"))\n",
    "    total += num\n",
    "print(\"Sum of array elements:\", total)\n"
   ]
  },
  {
   "cell_type": "code",
   "execution_count": 6,
   "id": "986aad83-0eff-4747-b708-7148c68014c5",
   "metadata": {},
   "outputs": [
    {
     "name": "stdin",
     "output_type": "stream",
     "text": [
      " 4\n",
      "Enter element:  1\n",
      "Enter element:  2\n",
      "Enter element:  3\n",
      "Enter element:  4\n"
     ]
    },
    {
     "name": "stdout",
     "output_type": "stream",
     "text": [
      "Largest number is: 4\n"
     ]
    }
   ],
   "source": [
    "#write a python program to find largest element in an array#\n",
    "n = int(input())\n",
    "largest = int(input(\"Enter element: \"))\n",
    "for i in range(n - 1):\n",
    "    num = int(input(\"Enter element: \"))\n",
    "    if num > largest:\n",
    "        largest = num\n",
    "print(\"Largest number is:\", largest)\n"
   ]
  },
  {
   "cell_type": "code",
   "execution_count": 10,
   "id": "7e5cfb70-ab15-4045-bfd8-7b54dbad9350",
   "metadata": {},
   "outputs": [
    {
     "name": "stdin",
     "output_type": "stream",
     "text": [
      "Enter array:  1 2 3 4 5\n",
      "Enter split position:  2\n"
     ]
    },
    {
     "name": "stdout",
     "output_type": "stream",
     "text": [
      "Resulting array: [3, 4, 5, 1, 2]\n"
     ]
    }
   ],
   "source": [
    "#write a python program to split the array and add the first part to the end#\n",
    "arr = list(map(int, input(\"Enter array: \").split()))\n",
    "k = int(input(\"Enter split position: \"))\n",
    "for _ in range(k):\n",
    "    arr.append(arr.pop(0))\n",
    "print(\"Resulting array:\", arr)\n",
    "\n"
   ]
  },
  {
   "cell_type": "code",
   "execution_count": 2,
   "id": "95bc5419-1f51-42a9-9676-56f92613de2b",
   "metadata": {},
   "outputs": [
    {
     "name": "stdin",
     "output_type": "stream",
     "text": [
      " 7\n"
     ]
    },
    {
     "name": "stdout",
     "output_type": "stream",
     "text": [
      "0\n",
      "1\n",
      "4\n",
      "9\n",
      "16\n",
      "25\n",
      "36\n"
     ]
    }
   ],
   "source": [
    "n=int(input())\n",
    "for i in range (n):\n",
    "    print(i*i)"
   ]
  },
  {
   "cell_type": "code",
   "execution_count": 7,
   "id": "493873e4-6bd8-4ee3-b414-d6f3b7b428cb",
   "metadata": {},
   "outputs": [
    {
     "name": "stdin",
     "output_type": "stream",
     "text": [
      " 6\n"
     ]
    },
    {
     "name": "stdout",
     "output_type": "stream",
     "text": [
      "123456"
     ]
    }
   ],
   "source": [
    " n = int(input())\n",
    "for i in range(1,n+1):\n",
    "    print(i, end=\"\")\n"
   ]
  },
  {
   "cell_type": "code",
   "execution_count": 1,
   "id": "5a3a4b21-2faa-4df2-a61d-9c9b0b39693c",
   "metadata": {},
   "outputs": [
    {
     "name": "stdin",
     "output_type": "stream",
     "text": [
      " 9\n"
     ]
    },
    {
     "name": "stdout",
     "output_type": "stream",
     "text": [
      "9 is perfect square number\n"
     ]
    }
   ],
   "source": [
    "# checking whether the given number is perfect square or not\n",
    "\n",
    "n=int(input())\n",
    "for i in range(n):\n",
    "    if n==(i**2):\n",
    "        print(f'{n} is perfect square number')\n",
    "        break\n",
    "else:\n",
    "    print(f'{n} is not perfect square number')\n"
   ]
  },
  {
   "cell_type": "code",
   "execution_count": 2,
   "id": "6c5e3401-04ea-4e80-8004-1eb29eef0a01",
   "metadata": {},
   "outputs": [
    {
     "name": "stdin",
     "output_type": "stream",
     "text": [
      " 3\n"
     ]
    },
    {
     "name": "stdout",
     "output_type": "stream",
     "text": [
      "3 is a prime number\n"
     ]
    }
   ],
   "source": [
    "#checking whether the number is prime or not\n",
    "n=int(input())\n",
    "for i in range(2,n//2+1):\n",
    "    if n%i==0:\n",
    "        print( f'{n} is not a prime number')\n",
    "        break\n",
    "else:\n",
    "    print(f'{n} is a prime number')"
   ]
  },
  {
   "cell_type": "code",
   "execution_count": null,
   "id": "1f72edb6-165c-4f70-85e6-5543694ec9d6",
   "metadata": {},
   "outputs": [],
   "source": []
  }
 ],
 "metadata": {
  "kernelspec": {
   "display_name": "Python 3 (ipykernel)",
   "language": "python",
   "name": "python3"
  },
  "language_info": {
   "codemirror_mode": {
    "name": "ipython",
    "version": 3
   },
   "file_extension": ".py",
   "mimetype": "text/x-python",
   "name": "python",
   "nbconvert_exporter": "python",
   "pygments_lexer": "ipython3",
   "version": "3.13.5"
  }
 },
 "nbformat": 4,
 "nbformat_minor": 5
}
