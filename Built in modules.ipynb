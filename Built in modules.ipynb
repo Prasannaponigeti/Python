{
 "cells": [
  {
   "cell_type": "markdown",
   "id": "401e155f-a6d3-4093-9820-f60724ee1301",
   "metadata": {},
   "source": [
    "#### Built in modules"
   ]
  },
  {
   "cell_type": "code",
   "execution_count": 18,
   "id": "02fc4413-73fa-4ff1-be25-191f836399e8",
   "metadata": {},
   "outputs": [
    {
     "name": "stdout",
     "output_type": "stream",
     "text": [
      "0.6150363141994452\n",
      "6\n",
      "1\n",
      "['b', 'c']\n",
      "[2, 'a', 3]\n",
      "['a', 1, 'c', 3, 'b', 2]\n"
     ]
    }
   ],
   "source": [
    "import random\n",
    "print(random.random())\n",
    "print(random.randint(1,6))\n",
    "print(random.choice([1,2,3, 'a','b','c']))\n",
    "print(random.choices([1,2,3,'a','b','c'],k=2))\n",
    "print(random.sample([1,2,3,'a','b','c',],k=3))\n",
    "l=[1,2,3,'a','b','c',]\n",
    "random.shuffle(l)\n",
    "print(l)"
   ]
  },
  {
   "cell_type": "code",
   "execution_count": 5,
   "id": "416d0160-b036-4143-9b41-c8f98f2334d8",
   "metadata": {},
   "outputs": [
    {
     "data": {
      "text/plain": [
       "['__doc__',\n",
       " '__loader__',\n",
       " '__name__',\n",
       " '__package__',\n",
       " '__spec__',\n",
       " 'acos',\n",
       " 'acosh',\n",
       " 'asin',\n",
       " 'asinh',\n",
       " 'atan',\n",
       " 'atan2',\n",
       " 'atanh',\n",
       " 'cbrt',\n",
       " 'ceil',\n",
       " 'comb',\n",
       " 'copysign',\n",
       " 'cos',\n",
       " 'cosh',\n",
       " 'degrees',\n",
       " 'dist',\n",
       " 'e',\n",
       " 'erf',\n",
       " 'erfc',\n",
       " 'exp',\n",
       " 'exp2',\n",
       " 'expm1',\n",
       " 'fabs',\n",
       " 'factorial',\n",
       " 'floor',\n",
       " 'fma',\n",
       " 'fmod',\n",
       " 'frexp',\n",
       " 'fsum',\n",
       " 'gamma',\n",
       " 'gcd',\n",
       " 'hypot',\n",
       " 'inf',\n",
       " 'isclose',\n",
       " 'isfinite',\n",
       " 'isinf',\n",
       " 'isnan',\n",
       " 'isqrt',\n",
       " 'lcm',\n",
       " 'ldexp',\n",
       " 'lgamma',\n",
       " 'log',\n",
       " 'log10',\n",
       " 'log1p',\n",
       " 'log2',\n",
       " 'modf',\n",
       " 'nan',\n",
       " 'nextafter',\n",
       " 'perm',\n",
       " 'pi',\n",
       " 'pow',\n",
       " 'prod',\n",
       " 'radians',\n",
       " 'remainder',\n",
       " 'sin',\n",
       " 'sinh',\n",
       " 'sqrt',\n",
       " 'sumprod',\n",
       " 'tan',\n",
       " 'tanh',\n",
       " 'tau',\n",
       " 'trunc',\n",
       " 'ulp']"
      ]
     },
     "execution_count": 5,
     "metadata": {},
     "output_type": "execute_result"
    }
   ],
   "source": [
    "dir(math) "
   ]
  },
  {
   "cell_type": "markdown",
   "id": "e32470e6-9ada-4543-8c8c-149f66db4f79",
   "metadata": {},
   "source": [
    "### Math module\n",
    "- The math module is used to do advanced mathematical calculations<br>\n",
    "EX: Engineering applications and Data Analysis,Syntefic calculations\n"
   ]
  },
  {
   "cell_type": "code",
   "execution_count": 4,
   "id": "1f38b702-95db-4797-a227-8cb751b5b60a",
   "metadata": {},
   "outputs": [
    {
     "name": "stdout",
     "output_type": "stream",
     "text": [
      "3.4641016151377544\n",
      "120\n",
      "6\n",
      "6\n",
      "6\n",
      "5\n",
      "-5\n",
      "1000.0\n"
     ]
    }
   ],
   "source": [
    "import math\n",
    "print(math.sqrt(12))\n",
    "print(math.factorial(5))\n",
    "print(math.ceil(5.2))    # it rounded to upper bound\n",
    "print(math.ceil(5.9))\n",
    "print(math.floor(6.3))    # it rounded to lower bound\n",
    "print(math.floor(5.8))\n",
    "print(math.trunc(-5.69))\n",
    "print(math.pow(10,3))     # here 10 raises 3\n",
    "\n"
   ]
  },
  {
   "cell_type": "markdown",
   "id": "592e23d5-776a-421d-a135-0d8162ef4316",
   "metadata": {},
   "source": [
    "#### System module\n",
    "- The system module is used to interact with system parameters and functions by the interpreter"
   ]
  },
  {
   "cell_type": "code",
   "execution_count": 16,
   "id": "f330234f-0f10-4894-8827-d91e20f12f38",
   "metadata": {},
   "outputs": [
    {
     "name": "stdout",
     "output_type": "stream",
     "text": [
      "3.13.5 | packaged by Anaconda, Inc. | (main, Jun 12 2025, 16:37:03) [MSC v.1929 64 bit (AMD64)]\n",
      "C:\\Users\\prasa\\anaconda3\\python.exe\n",
      "win32\n",
      "28\n",
      "49\n",
      "56\n",
      "40\n"
     ]
    },
    {
     "ename": "SystemExit",
     "evalue": "",
     "output_type": "error",
     "traceback": [
      "An exception has occurred, use %tb to see the full traceback.\n",
      "\u001b[1;31mSystemExit\u001b[0m\n"
     ]
    },
    {
     "name": "stderr",
     "output_type": "stream",
     "text": [
      "C:\\Users\\prasa\\anaconda3\\Lib\\site-packages\\IPython\\core\\interactiveshell.py:3585: UserWarning: To exit: use 'exit', 'quit', or Ctrl-D.\n",
      "  warn(\"To exit: use 'exit', 'quit', or Ctrl-D.\", stacklevel=1)\n"
     ]
    }
   ],
   "source": [
    "import sys\n",
    "print(sys.version)   #it returns the python version\n",
    "print(sys.executable)  # it returns the where the file executing\n",
    "print(sys.platform)     # it returns system operating system platform\n",
    "print(sys.getsizeof(45))  # it returns size of an object in terms of byte\n",
    "print(sys.getsizeof(\"prasanna\"))\n",
    "print(sys.getsizeof([]))\n",
    "print(sys.getsizeof(()))\n",
    "sys.exit()   # it exit from current file immediately\n",
    "print(\"program done\")"
   ]
  },
  {
   "cell_type": "code",
   "execution_count": 11,
   "id": "4c12a42d-8f57-4e0a-956b-afc65fc37ea7",
   "metadata": {},
   "outputs": [
    {
     "data": {
      "text/plain": [
       "['__breakpointhook__',\n",
       " '__displayhook__',\n",
       " '__doc__',\n",
       " '__excepthook__',\n",
       " '__interactivehook__',\n",
       " '__loader__',\n",
       " '__name__',\n",
       " '__package__',\n",
       " '__spec__',\n",
       " '__stderr__',\n",
       " '__stdin__',\n",
       " '__stdout__',\n",
       " '__unraisablehook__',\n",
       " '__warningregistry__',\n",
       " '_base_executable',\n",
       " '_baserepl',\n",
       " '_clear_internal_caches',\n",
       " '_clear_type_cache',\n",
       " '_current_exceptions',\n",
       " '_current_frames',\n",
       " '_debugmallocstats',\n",
       " '_enablelegacywindowsfsencoding',\n",
       " '_framework',\n",
       " '_get_cpu_count_config',\n",
       " '_getframe',\n",
       " '_getframemodulename',\n",
       " '_git',\n",
       " '_home',\n",
       " '_is_gil_enabled',\n",
       " '_is_interned',\n",
       " '_setprofileallthreads',\n",
       " '_settraceallthreads',\n",
       " '_stdlib_dir',\n",
       " '_vpath',\n",
       " '_xoptions',\n",
       " 'activate_stack_trampoline',\n",
       " 'addaudithook',\n",
       " 'api_version',\n",
       " 'argv',\n",
       " 'audit',\n",
       " 'base_exec_prefix',\n",
       " 'base_prefix',\n",
       " 'breakpointhook',\n",
       " 'builtin_module_names',\n",
       " 'byteorder',\n",
       " 'call_tracing',\n",
       " 'copyright',\n",
       " 'deactivate_stack_trampoline',\n",
       " 'displayhook',\n",
       " 'dllhandle',\n",
       " 'dont_write_bytecode',\n",
       " 'exc_info',\n",
       " 'excepthook',\n",
       " 'exception',\n",
       " 'exec_prefix',\n",
       " 'executable',\n",
       " 'exit',\n",
       " 'flags',\n",
       " 'float_info',\n",
       " 'float_repr_style',\n",
       " 'get_asyncgen_hooks',\n",
       " 'get_coroutine_origin_tracking_depth',\n",
       " 'get_int_max_str_digits',\n",
       " 'getallocatedblocks',\n",
       " 'getdefaultencoding',\n",
       " 'getfilesystemencodeerrors',\n",
       " 'getfilesystemencoding',\n",
       " 'getprofile',\n",
       " 'getrecursionlimit',\n",
       " 'getrefcount',\n",
       " 'getsizeof',\n",
       " 'getswitchinterval',\n",
       " 'gettrace',\n",
       " 'getunicodeinternedsize',\n",
       " 'getwindowsversion',\n",
       " 'hash_info',\n",
       " 'hexversion',\n",
       " 'implementation',\n",
       " 'int_info',\n",
       " 'intern',\n",
       " 'is_finalizing',\n",
       " 'is_stack_trampoline_active',\n",
       " 'last_traceback',\n",
       " 'last_type',\n",
       " 'last_value',\n",
       " 'maxsize',\n",
       " 'maxunicode',\n",
       " 'meta_path',\n",
       " 'modules',\n",
       " 'monitoring',\n",
       " 'orig_argv',\n",
       " 'path',\n",
       " 'path_hooks',\n",
       " 'path_importer_cache',\n",
       " 'platform',\n",
       " 'platlibdir',\n",
       " 'prefix',\n",
       " 'ps1',\n",
       " 'ps2',\n",
       " 'ps3',\n",
       " 'pycache_prefix',\n",
       " 'set_asyncgen_hooks',\n",
       " 'set_coroutine_origin_tracking_depth',\n",
       " 'set_int_max_str_digits',\n",
       " 'setprofile',\n",
       " 'setrecursionlimit',\n",
       " 'setswitchinterval',\n",
       " 'settrace',\n",
       " 'stderr',\n",
       " 'stdin',\n",
       " 'stdlib_module_names',\n",
       " 'stdout',\n",
       " 'thread_info',\n",
       " 'unraisablehook',\n",
       " 'version',\n",
       " 'version_info',\n",
       " 'warnoptions',\n",
       " 'winver']"
      ]
     },
     "execution_count": 11,
     "metadata": {},
     "output_type": "execute_result"
    }
   ],
   "source": [
    "dir(sys)"
   ]
  },
  {
   "cell_type": "markdown",
   "id": "5065b758-9608-4772-8283-92932dacf565",
   "metadata": {},
   "source": [
    "#### OS module\n",
    "- "
   ]
  },
  {
   "cell_type": "code",
   "execution_count": 24,
   "id": "7c583c75-7179-492f-8599-c292bb4977fc",
   "metadata": {},
   "outputs": [],
   "source": [
    "import os\n",
    "os.mkdir(\"New_dir\")   # it creates a new directory"
   ]
  },
  {
   "cell_type": "code",
   "execution_count": 23,
   "id": "55b0f11b-c888-4ac2-9a5b-dec26d71539b",
   "metadata": {},
   "outputs": [],
   "source": [
    "os.mkdir(\"old\")"
   ]
  },
  {
   "cell_type": "code",
   "execution_count": 19,
   "id": "d9fa49cc-9895-4cb6-b8cd-199d1ab3be58",
   "metadata": {},
   "outputs": [
    {
     "data": {
      "text/plain": [
       "'C:\\\\Users\\\\prasa'"
      ]
     },
     "execution_count": 19,
     "metadata": {},
     "output_type": "execute_result"
    }
   ],
   "source": [
    "os.getcwd()"
   ]
  },
  {
   "cell_type": "code",
   "execution_count": null,
   "id": "bf803b1d-21d6-4bc2-aba0-8eb0e771a2a7",
   "metadata": {},
   "outputs": [],
   "source": []
  }
 ],
 "metadata": {
  "kernelspec": {
   "display_name": "Python 3 (ipykernel)",
   "language": "python",
   "name": "python3"
  },
  "language_info": {
   "codemirror_mode": {
    "name": "ipython",
    "version": 3
   },
   "file_extension": ".py",
   "mimetype": "text/x-python",
   "name": "python",
   "nbconvert_exporter": "python",
   "pygments_lexer": "ipython3",
   "version": "3.13.5"
  }
 },
 "nbformat": 4,
 "nbformat_minor": 5
}
