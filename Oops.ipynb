{
 "cells": [
  {
   "cell_type": "code",
   "execution_count": null,
   "id": "f2a8ff4a-5340-40af-b6b6-1021c3b6af2c",
   "metadata": {},
   "outputs": [],
   "source": [
    "# Class syntax\n",
    "class class_name:\n",
    "    #Attributes\n",
    "    #Methods"
   ]
  },
  {
   "cell_type": "code",
   "execution_count": 4,
   "id": "db59f1d4-0a56-4b11-8dc7-c224e6957699",
   "metadata": {},
   "outputs": [
    {
     "name": "stdout",
     "output_type": "stream",
     "text": [
      "prasanna\n",
      "codegnan\n"
     ]
    }
   ],
   "source": [
    "class student:\n",
    "    #Attributes\n",
    "    school = \"codegnan\"\n",
    "    name = \"prasanna\"\n",
    "    marks = 95\n",
    "s1=student()\n",
    "print(s1.name)\n",
    "print(s1.school)"
   ]
  },
  {
   "cell_type": "markdown",
   "id": "1abc282b-3fb5-4585-9484-efa210d3dac3",
   "metadata": {},
   "source": [
    "#### Types of Attributes\n",
    "- Attribute is a variable it can stores the state of  an object\n",
    "- There are two types of attributes\n",
    "-- Instance and Class attributes"
   ]
  },
  {
   "cell_type": "markdown",
   "id": "2929fc02-f2b8-4be1-a800-65a1bd53cbbe",
   "metadata": {},
   "source": [
    "#### Instance attribute\n",
    "- The attributes are defined inside __init__ constructor\n",
    "- The instance attribute can access for specified object only"
   ]
  },
  {
   "cell_type": "markdown",
   "id": "15f62fb8-7767-48eb-a88b-f18e218426ca",
   "metadata": {},
   "source": [
    "#### Class attribute\n",
    "- The attributes are defined outside the init constructor and this attributes can access entire  for  all class objects."
   ]
  },
  {
   "cell_type": "markdown",
   "id": "306d4cab-dff1-43fd-b125-df1d81abf351",
   "metadata": {},
   "source": [
    "#### init constructor\n",
    "- init function is a special type of python function it is used to define instance attribute after the self paramater\n",
    "- The init constructor will excute whenever created a object for a class"
   ]
  },
  {
   "cell_type": "code",
   "execution_count": 10,
   "id": "cbb239fc-b2d5-45e5-93b6-ffec71bb7362",
   "metadata": {},
   "outputs": [
    {
     "name": "stdout",
     "output_type": "stream",
     "text": [
      "25\n",
      "coden\n",
      "codegnan\n",
      "Prassu\n",
      "codegnan\n",
      "88\n"
     ]
    }
   ],
   "source": [
    "class Student:\n",
    "    #attributes\n",
    "    school = \"codegnan\"   #class attributes\n",
    "    def __init__(self, name,marks):\n",
    "        self.name = name    #instance attributes\n",
    "        self.marks = marks\n",
    "s1 = Student(\"coden\", 25)   #Creating object\n",
    "s2 = Student(\"Prassu\",88)\n",
    "print(s1.marks)   #access the attributes using object\n",
    "print(s1.name)\n",
    "print(s1.school)\n",
    "print(s2.name)\n",
    "print(s2.school)\n",
    "print(s2.marks)\n"
   ]
  },
  {
   "cell_type": "code",
   "execution_count": 14,
   "id": "a51d1918-59de-489e-8894-bfde79277922",
   "metadata": {},
   "outputs": [
    {
     "name": "stdout",
     "output_type": "stream",
     "text": [
      "prassu\n",
      "buddy\n"
     ]
    }
   ],
   "source": [
    "class Student:\n",
    "    #attributes\n",
    "    school = \"codegnan\"   #class attributes\n",
    "    def __init__(self, name,marks):\n",
    "        self.name = name    #instance attributes\n",
    "        self.marks = marks\n",
    "s1 = Student(\"prassu\", 22)   #Creating object\n",
    "#Attibutes updation   \n",
    "print(s1.name)   #access the attributes using object\n",
    "s1.name=\"buddy\"\n",
    "print(s1.name)"
   ]
  },
  {
   "cell_type": "code",
   "execution_count": 6,
   "id": "a5629c27-52c5-41ca-9044-b1b6006223d4",
   "metadata": {},
   "outputs": [
    {
     "name": "stdout",
     "output_type": "stream",
     "text": [
      "Student1 name is: coden\n",
      "Student1 name after updation is buddy\n",
      "Student 1 school name is codegnan\n",
      "Student 1 school name after updation is abc school\n",
      "Student 2 school name after updation is codegnan\n"
     ]
    }
   ],
   "source": [
    "class Student:\n",
    "    #attributes\n",
    "    school = \"codegnan\"   #class attributes\n",
    "    def __init__(self, name,marks):\n",
    "        self.name = name    #instance attributes\n",
    "        self.marks = marks\n",
    "s1 = Student(\"coden\", 25)   #Creating object\n",
    "s2 = Student(\"Prassu\",88)\n",
    "print(\"Student1 name is:\",s1.name)\n",
    "s1.name=\"buddy\"\n",
    "print(\"Student1 name after updation is\", s1.name)\n",
    "print(\"Student 1 school name is\", s1.school)\n",
    "s1.school=\"abc school\"\n",
    "print(\"Student 1 school name after updation is\", s1.school)\n",
    "print(\"Student 2 school name after updation is\", s2.school)\n"
   ]
  },
  {
   "cell_type": "code",
   "execution_count": 18,
   "id": "c7a09eda-bf9a-4217-97fe-088d5228365f",
   "metadata": {},
   "outputs": [
    {
     "name": "stdout",
     "output_type": "stream",
     "text": [
      "Student name is coden and 25\n",
      "Student name is Prassu and 88\n"
     ]
    }
   ],
   "source": [
    "class Student:\n",
    "    #attributes\n",
    "    school = \"codegnan\"   #class attributes\n",
    "    def __init__(self, name,marks):\n",
    "        self.name = name    #instance attributes\n",
    "        self.marks = marks\n",
    "    #method\n",
    "    def display(self):\n",
    "        return f\"Student name is {self.name} and {self.marks}\"\n",
    "s1 = Student(\"coden\", 25)   #Creating object\n",
    "s2 = Student(\"Prassu\",88)\n",
    "res= s1.display()\n",
    "print(res)\n",
    "print(s2.display())\n"
   ]
  },
  {
   "cell_type": "markdown",
   "id": "ee20c285-d628-4249-9ddb-a7ba385020ad",
   "metadata": {},
   "source": [
    "#### Methods\n",
    "- The function defination is inside the class that function we can call it is as methods.\n",
    "- Types of methods\n",
    "-    1. instance method\n",
    "     2. class method\n",
    "     3. static method\n",
    "- Instance method - it is a normal method it takes first parameter as self, instance methods can access by using objects like \"obj.instance method name\"\n",
    "- Class method - class method defination start with \"@class method\" decorator, the method takes first argument as class and followed by parameters\n",
    "- Static method - the method defination starts with \"@staticmethod\" decorator, the method defination does not take 'self' or 'cls' as parameters\n"
   ]
  },
  {
   "cell_type": "code",
   "execution_count": 3,
   "id": "07adc78e-be20-42ca-b352-b3c9e0555e97",
   "metadata": {},
   "outputs": [
    {
     "name": "stdout",
     "output_type": "stream",
     "text": [
      "Student name is prassu and 99\n"
     ]
    }
   ],
   "source": [
    "#example for instance method\n",
    "class Student:\n",
    "    def __init__(self, name, marks):\n",
    "        self.name = name    #instance attributes\n",
    "        self.marks = marks\n",
    "    #method\n",
    "    def display(self):   #instance method\n",
    "        return f\"Student name is {self.name} and {self.marks}\"\n",
    "obj= Student('prassu', 99)\n",
    "print(obj.display())"
   ]
  },
  {
   "cell_type": "code",
   "execution_count": 7,
   "id": "84985b12-16e6-4300-b097-62b2c685ebba",
   "metadata": {},
   "outputs": [
    {
     "name": "stdout",
     "output_type": "stream",
     "text": [
      "Codegnan\n",
      "Codegnan\n",
      "Baby school\n",
      "Baby school\n"
     ]
    }
   ],
   "source": [
    "#class method\n",
    "class Student:\n",
    "    school=\"Codegnan\"\n",
    "    def __init__(self, name, marks):\n",
    "        self.name=name\n",
    "        self.marks=marks\n",
    "    @classmethod\n",
    "    def class_method(cls, new_school):\n",
    "        cls.school= new_school\n",
    "s1 = Student(\"coden\", 25)   #Creating object\n",
    "s2 = Student(\"Prassu\",88)\n",
    "print(s1.school)\n",
    "print(s2.school)\n",
    "s1.class_method(\"Baby school\")\n",
    "print(s1.school)                  \n",
    "print(s2.school)"
   ]
  },
  {
   "cell_type": "code",
   "execution_count": 8,
   "id": "721a6026-be58-4758-a51a-0d976d9aba85",
   "metadata": {},
   "outputs": [
    {
     "name": "stdout",
     "output_type": "stream",
     "text": [
      "Codegnan\n",
      "Codegnan\n",
      "Baby school\n",
      "Codegnan\n"
     ]
    }
   ],
   "source": [
    "#class method\n",
    "class Student:\n",
    "    school=\"Codegnan\"\n",
    "    def __init__(self, name, marks):\n",
    "        self.name=name\n",
    "        self.marks=marks\n",
    "    def class_method(self, new_school):\n",
    "        self.school= new_school\n",
    "s1 = Student(\"coden\", 25)   #Creating object\n",
    "s2 = Student(\"Prassu\",88)\n",
    "print(s1.school)\n",
    "print(s2.school)\n",
    "s1.class_method(\"Baby school\")\n",
    "print(s1.school)                  \n",
    "print(s2.school)"
   ]
  },
  {
   "cell_type": "code",
   "execution_count": 9,
   "id": "0d30f663-e395-4754-9023-85736ea14288",
   "metadata": {},
   "outputs": [
    {
     "name": "stdout",
     "output_type": "stream",
     "text": [
      " The got 100 marks in maths and 86 marks in science\n"
     ]
    }
   ],
   "source": [
    "#static method\n",
    "class Student:\n",
    "    school=\"Codegnan\"\n",
    "    def __init__(self, name, marks):\n",
    "        self.name=name\n",
    "        self.marks=marks\n",
    "    @staticmethod\n",
    "    def static_method(math, science):\n",
    "        return f\" The got {math} marks in maths and {science} marks in science\"\n",
    "s1 = Student(\"coden\", 25)   #Creating object\n",
    "s2 = Student(\"Prassu\",88)\n",
    "print(s1.static_method(100, 86))\n"
   ]
  },
  {
   "cell_type": "code",
   "execution_count": null,
   "id": "64825470-3b04-4c3a-8df8-c862e68ccec0",
   "metadata": {},
   "outputs": [],
   "source": []
  },
  {
   "cell_type": "code",
   "execution_count": null,
   "id": "a3c43ef4-0584-4263-a1a2-88720c462003",
   "metadata": {},
   "outputs": [],
   "source": []
  }
 ],
 "metadata": {
  "kernelspec": {
   "display_name": "Python 3 (ipykernel)",
   "language": "python",
   "name": "python3"
  },
  "language_info": {
   "codemirror_mode": {
    "name": "ipython",
    "version": 3
   },
   "file_extension": ".py",
   "mimetype": "text/x-python",
   "name": "python",
   "nbconvert_exporter": "python",
   "pygments_lexer": "ipython3",
   "version": "3.13.5"
  }
 },
 "nbformat": 4,
 "nbformat_minor": 5
}
