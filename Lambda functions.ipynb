{
 "cells": [
  {
   "cell_type": "markdown",
   "id": "4e823475-47c4-4bcf-b92d-f239d5bf5b25",
   "metadata": {},
   "source": [
    "#### Anonymous functions"
   ]
  },
  {
   "cell_type": "code",
   "execution_count": 1,
   "id": "fbe110ea-b465-4d56-aeab-f0b53657edfc",
   "metadata": {},
   "outputs": [],
   "source": [
    "# syntax -  lambda arguments : expression\n",
    "# in python anonymous functions start with lambda keyword followed by arguments and single line expression. this function does not have function name.\n"
   ]
  },
  {
   "cell_type": "code",
   "execution_count": 2,
   "id": "10553a00-6e7d-428f-b75c-8949fe51f756",
   "metadata": {},
   "outputs": [
    {
     "name": "stdout",
     "output_type": "stream",
     "text": [
      "25\n",
      "64\n"
     ]
    }
   ],
   "source": [
    "square=lambda x: x**2\n",
    "print(square(5))\n",
    "print(square(8))"
   ]
  },
  {
   "cell_type": "code",
   "execution_count": 8,
   "id": "b38cf8d1-5816-414e-913b-f605756db826",
   "metadata": {},
   "outputs": [
    {
     "name": "stdout",
     "output_type": "stream",
     "text": [
      "Positive\n",
      "Negative\n"
     ]
    }
   ],
   "source": [
    "#if else in single line\n",
    "#True_statements if condition else False_statements\n",
    "state= lambda x: \"Positive\" if x>=0 else \"Negative\"\n",
    "print(state(5))\n",
    "print(state(-8))"
   ]
  },
  {
   "cell_type": "code",
   "execution_count": 12,
   "id": "873ac629-ba58-462e-9555-24fc4ec7ba8c",
   "metadata": {},
   "outputs": [
    {
     "name": "stdout",
     "output_type": "stream",
     "text": [
      "[1, 4, 9, 16, 25, 36]\n"
     ]
    }
   ],
   "source": [
    "#map with lambda\n",
    "l=[1,2,3,4,5,6]\n",
    "lst=list(map(lambda x: x**2, l))\n",
    "print(lst)"
   ]
  },
  {
   "cell_type": "code",
   "execution_count": 11,
   "id": "13a9d8f2-5ecf-4f0d-a57a-404439a4f156",
   "metadata": {},
   "outputs": [
    {
     "name": "stdout",
     "output_type": "stream",
     "text": [
      "[1, 2, 4, 5]\n"
     ]
    }
   ],
   "source": [
    "#filter with lambda\n",
    "l=[1,2,-3,4,5,-6]\n",
    "lst=list(filter(lambda x: x>=0, l))\n",
    "print(lst)"
   ]
  },
  {
   "cell_type": "code",
   "execution_count": 14,
   "id": "eb9fa907-2b27-4538-a27e-cf31f9516820",
   "metadata": {},
   "outputs": [
    {
     "name": "stdout",
     "output_type": "stream",
     "text": [
      "[54, 74, 24]\n"
     ]
    }
   ],
   "source": [
    "#find even numbers from list\n",
    "l=[23,43,54,65,74,24]\n",
    "lst=list(filter(lambda x: x%2==0, l))\n",
    "print(lst)"
   ]
  },
  {
   "cell_type": "code",
   "execution_count": 16,
   "id": "0433bd52-3069-41dd-af52-f30e6a38c8f0",
   "metadata": {},
   "outputs": [
    {
     "name": "stdout",
     "output_type": "stream",
     "text": [
      "AWbCcjyu\n"
     ]
    }
   ],
   "source": [
    "#list of numbers to string\n",
    "l=[65,87,98,67,99,106,121,117]\n",
    "print(\"\".join(list(map(lambda x: chr(x), l))))\n"
   ]
  },
  {
   "cell_type": "code",
   "execution_count": 17,
   "id": "df95e899-a766-44c9-a28f-c5c386e49f2c",
   "metadata": {},
   "outputs": [
    {
     "name": "stdout",
     "output_type": "stream",
     "text": [
      "['apple', 'banana', 'cherry', 'orange']\n"
     ]
    }
   ],
   "source": [
    "l=['apple', 'orange', 'cherry', 'banana']\n",
    "l.sort()\n",
    "print(l)"
   ]
  },
  {
   "cell_type": "code",
   "execution_count": 19,
   "id": "c8eaf0e1-217c-4fea-88df-dcfa398b27e8",
   "metadata": {},
   "outputs": [
    {
     "name": "stdout",
     "output_type": "stream",
     "text": [
      "['apple', 'orange', 'cherry', 'banana']\n"
     ]
    }
   ],
   "source": [
    "#sort with lambda functiomn\n",
    "l=['apple', 'orange', 'cherry', 'banana']\n",
    "l.sort(key=lambda x: len(x))\n",
    "print(l)"
   ]
  },
  {
   "cell_type": "code",
   "execution_count": 31,
   "id": "896a127f-08b2-4f38-a80f-78f01e918ec4",
   "metadata": {},
   "outputs": [
    {
     "name": "stdout",
     "output_type": "stream",
     "text": [
      "dict_items([('P', 1), ('r', 1), ('a', 3), ('s', 1), ('n', 2)])\n",
      "a-3\n",
      "n-2\n",
      "s-1\n",
      "r-1\n",
      "P-1\n"
     ]
    }
   ],
   "source": [
    "#character frequency \n",
    "a= \"Prasanna\"\n",
    "d={}\n",
    "for char in a:\n",
    "    if char in d:\n",
    "        d[char]+=1\n",
    "    else:\n",
    "        d[char]=1\n",
    "#print(d)\n",
    "#sorted as per the frequency\n",
    "#print(d.items())\n",
    "sorted_dict=sorted(d.items(), key=lambda x: (x[1],x[0]), reverse=True)\n",
    "for key,val in sorted_dict:\n",
    "    print(f'{key}-{val}')\n"
   ]
  },
  {
   "cell_type": "markdown",
   "id": "ac51adeb-b010-4c23-ae76-e547e7b0a8f6",
   "metadata": {},
   "source": [
    "#### List comprehension"
   ]
  },
  {
   "cell_type": "code",
   "execution_count": 33,
   "id": "feed47a2-fb59-4a28-986e-58224dba0e7f",
   "metadata": {},
   "outputs": [
    {
     "name": "stdout",
     "output_type": "stream",
     "text": [
      "[2, 4, 6, 8, 10]\n"
     ]
    }
   ],
   "source": [
    "#1-10 even numbers\n",
    "l=[x for x in range(1,11) if x%2==0]\n",
    "print(l)"
   ]
  },
  {
   "cell_type": "code",
   "execution_count": 36,
   "id": "8127b864-c7d2-4e77-8b18-77efd2136621",
   "metadata": {},
   "outputs": [
    {
     "name": "stdout",
     "output_type": "stream",
     "text": [
      "[0, 2, 4, 6, 8, 10]\n"
     ]
    }
   ],
   "source": [
    "#without using if condition\n",
    "l=[x for x in range(0,11,2)]\n",
    "print(l)"
   ]
  },
  {
   "cell_type": "code",
   "execution_count": 37,
   "id": "d90c3335-3c39-4095-a951-2cdcf9b6c785",
   "metadata": {},
   "outputs": [
    {
     "name": "stdout",
     "output_type": "stream",
     "text": [
      "[1, 3, 6, 10, 15, 21]\n"
     ]
    }
   ],
   "source": [
    "#prefix sum\n",
    "l=[1,2,3,4,5,6]\n",
    "pre_sum = [1,3,6,10,15,21]\n",
    "suffix_sum=[6,11,15,13,20,21]\n",
    "res=0\n",
    "pre_sum=[]\n",
    "for num in l:\n",
    "    res+=num\n",
    "    pre_sum.append(res)\n",
    "print(pre_sum)"
   ]
  },
  {
   "cell_type": "code",
   "execution_count": 38,
   "id": "b2b75f6d-ac43-44d4-8184-b525f8a5772d",
   "metadata": {},
   "outputs": [
    {
     "name": "stdout",
     "output_type": "stream",
     "text": [
      "[6, 11, 15, 18, 20, 21]\n"
     ]
    }
   ],
   "source": [
    "#prefix sum\n",
    "# l=[1,2,3,4,5,6]\n",
    "# pre_sum = [1,3,6,10,15,21]\n",
    "# suffix_sum=[6,11,15,13,20,21]\n",
    "res=0\n",
    "suf_sum=[]\n",
    "n=len(l)\n",
    "for i in range(n-1, -1, -1):\n",
    "    res+=l[i]\n",
    "    suf_sum.append(res)\n",
    "print(suf_sum)"
   ]
  },
  {
   "cell_type": "code",
   "execution_count": null,
   "id": "1bc40605-e8fa-451a-b870-a79fa8398888",
   "metadata": {},
   "outputs": [],
   "source": []
  }
 ],
 "metadata": {
  "kernelspec": {
   "display_name": "Python 3 (ipykernel)",
   "language": "python",
   "name": "python3"
  },
  "language_info": {
   "codemirror_mode": {
    "name": "ipython",
    "version": 3
   },
   "file_extension": ".py",
   "mimetype": "text/x-python",
   "name": "python",
   "nbconvert_exporter": "python",
   "pygments_lexer": "ipython3",
   "version": "3.13.5"
  }
 },
 "nbformat": 4,
 "nbformat_minor": 5
}
