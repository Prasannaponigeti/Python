{
 "cells": [
  {
   "cell_type": "code",
   "execution_count": 18,
   "id": "4f94f602-5fae-4055-92ad-0087994b9e24",
   "metadata": {},
   "outputs": [
    {
     "name": "stdin",
     "output_type": "stream",
     "text": [
      " 6\n"
     ]
    },
    {
     "name": "stdout",
     "output_type": "stream",
     "text": [
      "The number is positive\n",
      "The number is even\n"
     ]
    }
   ],
   "source": [
    "# 1.Check whether a number is positive, negative, or zero and even/odd#\n",
    "num = int(input())\n",
    "if num > 0:\n",
    "    print(\"The number is positive\")\n",
    "elif num < 0:\n",
    "    print(\"The number is negative\")\n",
    "else:\n",
    "    print(\"The number is zero\")\n",
    "if num % 2 == 0:\n",
    "    print(\"The number is even\")\n",
    "else:\n",
    "    print(\"The number is odd\")\n"
   ]
  },
  {
   "cell_type": "code",
   "execution_count": 6,
   "id": "bb843c4e-1f1f-4f32-afb1-2ca70b64dff4",
   "metadata": {},
   "outputs": [
    {
     "name": "stdin",
     "output_type": "stream",
     "text": [
      " 50\n"
     ]
    },
    {
     "name": "stdout",
     "output_type": "stream",
     "text": [
      "Grade: D\n"
     ]
    }
   ],
   "source": [
    "# 2.Assign grades based on marks (90+: A+, 80-89: A, etc.).#\n",
    "marks = int(input())\n",
    "if marks >= 90:\n",
    "    print(\"Grade: A+\")\n",
    "elif marks >= 80:\n",
    "    print(\"Grade: A\")\n",
    "elif marks >= 70:\n",
    "    print(\"Grade: B\")\n",
    "elif marks >= 60:\n",
    "    print(\"Grade: C\")\n",
    "elif marks >= 50:\n",
    "    print(\"Grade: D\")\n",
    "else:\n",
    "    print(\"Grade: F\")\n"
   ]
  },
  {
   "cell_type": "code",
   "execution_count": 8,
   "id": "c7f6b129-ed26-44e3-953b-e4114190c4d8",
   "metadata": {},
   "outputs": [
    {
     "name": "stdin",
     "output_type": "stream",
     "text": [
      " 6\n",
      " 9\n",
      "Enter operator (+, -, *, /):  //\n"
     ]
    },
    {
     "name": "stdout",
     "output_type": "stream",
     "text": [
      "Invalid operator\n"
     ]
    }
   ],
   "source": [
    "# 3.Create a simple calculator using +, -, *, / operators#\n",
    "a = int(input())\n",
    "b = int(input())\n",
    "op = input(\"Enter operator (+, -, *, /): \")\n",
    "\n",
    "if op == '+':\n",
    "    print(\"Result:\", a + b)\n",
    "elif op == '-':\n",
    "    print(\"Result:\", a - b)\n",
    "elif op == '*':\n",
    "    print(\"Result:\", a * b)\n",
    "elif op == '/':\n",
    "    print(\"Result:\", a / b)\n",
    "else:\n",
    "    print(\"Invalid operator\")\n",
    "\n"
   ]
  },
  {
   "cell_type": "code",
   "execution_count": 10,
   "id": "0dfc07f3-58a1-467a-bd5e-64a02fb4f9ab",
   "metadata": {},
   "outputs": [
    {
     "name": "stdin",
     "output_type": "stream",
     "text": [
      " 15\n"
     ]
    },
    {
     "name": "stdout",
     "output_type": "stream",
     "text": [
      "The number is divisible by 3 and 5\n"
     ]
    }
   ],
   "source": [
    "# 4. Check if a number is divisible by 3 and 5#\n",
    "num = int(input())\n",
    "if num % 3 == 0 and num % 5 == 0:\n",
    "    print(\"The number is divisible by 3 and 5\")\n",
    "else:\n",
    "    print(\"The number is not divisible by 3 and 5\")\n"
   ]
  },
  {
   "cell_type": "code",
   "execution_count": 14,
   "id": "f3fd6591-cf5b-48df-bbb3-8cef372aef05",
   "metadata": {},
   "outputs": [
    {
     "name": "stdin",
     "output_type": "stream",
     "text": [
      " 99\n"
     ]
    },
    {
     "name": "stdout",
     "output_type": "stream",
     "text": [
      "It is not a three-digit number\n"
     ]
    }
   ],
   "source": [
    "# 5. Determine if a number is a three-digit number#\n",
    "num = int(input())\n",
    "if num >= 100 and num <= 999:\n",
    "    print(\"It is a three-digit number\")\n",
    "elif num <= -100 and num >= -999:\n",
    "    print(\"It is a three-digit number\")\n",
    "else:\n",
    "    print(\"It is not a three-digit number\")\n"
   ]
  },
  {
   "cell_type": "code",
   "execution_count": 17,
   "id": "7316a3b0-ce2a-4d9c-830e-4c62bb8c0f5b",
   "metadata": {},
   "outputs": [
    {
     "name": "stdin",
     "output_type": "stream",
     "text": [
      " 56\n"
     ]
    },
    {
     "name": "stdout",
     "output_type": "stream",
     "text": [
      "Within range\n"
     ]
    }
   ],
   "source": [
    "# 6.Check if a number is within a range (e.g., 50–100).\n",
    "num = int(input())\n",
    "if num >= 25 and num <= 100:\n",
    "    print(\"Within range\")\n",
    "else:\n",
    "    print(\"Out of range\")\n",
    "\n"
   ]
  },
  {
   "cell_type": "code",
   "execution_count": 20,
   "id": "32ae132e-f447-4c6d-9c0c-69dd38537c30",
   "metadata": {},
   "outputs": [
    {
     "name": "stdin",
     "output_type": "stream",
     "text": [
      " 2000\n"
     ]
    },
    {
     "name": "stdout",
     "output_type": "stream",
     "text": [
      "It is a century year\n"
     ]
    }
   ],
   "source": [
    "# 7.Check whether a given year is a century year#\n",
    "year = int(input())\n",
    "if year % 100 == 0:\n",
    "    print(\"It is a century year\")\n",
    "else:\n",
    "    print(\"It is not a century year\")\n"
   ]
  },
  {
   "cell_type": "code",
   "execution_count": 23,
   "id": "eef5c3e3-e154-46a0-9a53-83f49af27e19",
   "metadata": {},
   "outputs": [
    {
     "name": "stdin",
     "output_type": "stream",
     "text": [
      " 65\n",
      " 8\n"
     ]
    },
    {
     "name": "stdout",
     "output_type": "stream",
     "text": [
      "Greater number: 65\n",
      "Difference: 57\n"
     ]
    }
   ],
   "source": [
    "# 8.Compare two numbers and display the greater and the difference#\n",
    "a = int(input())\n",
    "b = int(input())\n",
    "if a > b:\n",
    "    print(\"Greater number:\", a)\n",
    "    print(\"Difference:\", a - b)\n",
    "elif b > a:\n",
    "    print(\"Greater number:\", b)\n",
    "    print(\"Difference:\", b - a)\n",
    "else:\n",
    "    print(\"Both numbers are equal\")\n",
    "    print(\"Difference: 0\")\n"
   ]
  },
  {
   "cell_type": "code",
   "execution_count": 27,
   "id": "999a6a96-6ff7-4767-8c42-d9aa2a928ed2",
   "metadata": {},
   "outputs": [
    {
     "name": "stdin",
     "output_type": "stream",
     "text": [
      " 9\n"
     ]
    },
    {
     "name": "stdout",
     "output_type": "stream",
     "text": [
      "Invalid day \n"
     ]
    }
   ],
   "source": [
    "# 9. Check if a day number (1–7) corresponds to weekday or weekend\n",
    "day = int(input())\n",
    "if day >= 1 and day <= 5:\n",
    "    print(\"Weekday\")\n",
    "elif day == 6 or day == 7:\n",
    "    print(\"Weekend\")\n",
    "else:\n",
    "    print(\"Invalid day \")\n"
   ]
  },
  {
   "cell_type": "code",
   "execution_count": 3,
   "id": "407c17ad-b13e-40ef-811c-b5b8671df165",
   "metadata": {},
   "outputs": [
    {
     "name": "stdin",
     "output_type": "stream",
     "text": [
      "Enter first angle: 60\n",
      "Enter second angle:  60\n",
      "Enter third angle:  60\n"
     ]
    },
    {
     "name": "stdout",
     "output_type": "stream",
     "text": [
      "The triangle is valid.\n"
     ]
    }
   ],
   "source": [
    "# 10.Check whether a triangle is valid based on the sum of its angles.\n",
    "a = int(input(\"Enter first angle:\"))\n",
    "b = int(input(\"Enter second angle: \"))\n",
    "c = int(input(\"Enter third angle: \"))\n",
    "if a+ b + c == 180 and a > 0 and b > 0 and c> 0:\n",
    "    print(\"The triangle is valid.\")\n",
    "else:\n",
    "    print(\"The triangle is not valid.\")\n"
   ]
  },
  {
   "cell_type": "code",
   "execution_count": 7,
   "id": "84d1689c-a15d-478b-86de-75eb9574e6e3",
   "metadata": {},
   "outputs": [
    {
     "name": "stdin",
     "output_type": "stream",
     "text": [
      " 14\n"
     ]
    },
    {
     "name": "stdout",
     "output_type": "stream",
     "text": [
      "The number is even and a multiple of 7.\n"
     ]
    }
   ],
   "source": [
    "# 11.Check if a number is even and multiple of 7.\n",
    "num = int(input())\n",
    "if num % 2 == 0 and num % 7 == 0:\n",
    "    print(\"The number is even and a multiple of 7.\")\n",
    "else:\n",
    "    print(\"The number is not even and a multiple of 7.\")\n"
   ]
  },
  {
   "cell_type": "code",
   "execution_count": 14,
   "id": "6965e5a4-957d-4ef6-810c-5958f15c8daf",
   "metadata": {},
   "outputs": [
    {
     "name": "stdin",
     "output_type": "stream",
     "text": [
      "Enter first side:  3\n",
      "Enter second side:  2\n",
      "Enter third side:  3\n"
     ]
    },
    {
     "name": "stdout",
     "output_type": "stream",
     "text": [
      "The triangle is Isosceles.\n"
     ]
    }
   ],
   "source": [
    "# 12.Determine the type of triangle (Equilateral, Isosceles, Scalene) using sides.# Input side lengths\n",
    "a = int(input(\"Enter first side: \"))\n",
    "b = int(input(\"Enter second side: \"))\n",
    "c = int(input(\"Enter third side: \"))\n",
    "if a + b > c and a + c > b and b + c > a:\n",
    "    if a == b == c:\n",
    "        print(\"The triangle is Equilateral.\")\n",
    "    elif a == b or b == c or a == c:\n",
    "        print(\"The triangle is Isosceles.\")\n",
    "    else:\n",
    "        print(\"The triangle is Scalene.\")\n",
    "else:\n",
    "    print(\"The given sides do not form a valid triangle.\")\n"
   ]
  },
  {
   "cell_type": "code",
   "execution_count": 16,
   "id": "17ae18ed-99e2-4ad6-8bae-8df1ea39fd1f",
   "metadata": {},
   "outputs": [
    {
     "name": "stdin",
     "output_type": "stream",
     "text": [
      "Enter total units consumed:  305\n"
     ]
    },
    {
     "name": "stdout",
     "output_type": "stream",
     "text": [
      "Electricity Bill: ₹ 1055.0\n"
     ]
    }
   ],
   "source": [
    "# 13.Calculate electricity bill based on slab-wise rates.\n",
    "units = int(input(\"Enter total units consumed: \"))\n",
    "bill = 0\n",
    "if units <= 50:\n",
    "    bill = units * 1.5\n",
    "elif units <= 150:\n",
    "    bill = 50 * 1.5 + (units - 50) * 2.5\n",
    "elif units <= 250:\n",
    "    bill = 50 * 1.5 + 100 * 2.5 + (units - 150) * 4.0\n",
    "else:\n",
    "    bill = 50 * 1.5 + 100 * 2.5 + 100 * 4.0 + (units - 250) * 6.0\n",
    "print(\"Electricity Bill: ₹\", bill)\n"
   ]
  },
  {
   "cell_type": "code",
   "execution_count": 18,
   "id": "ec70c65b-18e8-411c-ab1a-f77d2b9fc692",
   "metadata": {},
   "outputs": [
    {
     "name": "stdin",
     "output_type": "stream",
     "text": [
      "Enter first side:  3\n",
      "Enter second side:  4\n",
      "Enter third side:  5\n"
     ]
    },
    {
     "name": "stdout",
     "output_type": "stream",
     "text": [
      "The triangle is a right-angled triangle.\n"
     ]
    }
   ],
   "source": [
    "#14.Check if three sides can form a right-angled triangle.\n",
    "a = int(input(\"Enter first side: \"))\n",
    "b = int(input(\"Enter second side: \"))\n",
    "c = int(input(\"Enter third side: \"))\n",
    "sides = sorted([a, b, c])\n",
    "if sides[0]**2 + sides[1]**2 == sides[2]**2:\n",
    "    print(\"The triangle is a right-angled triangle.\")\n",
    "else:\n",
    "    print(\"The triangle is NOT a right-angled triangle.\")\n"
   ]
  },
  {
   "cell_type": "code",
   "execution_count": null,
   "id": "e9851dc5-b034-4e64-871a-1a71d15720ac",
   "metadata": {},
   "outputs": [],
   "source": []
  }
 ],
 "metadata": {
  "kernelspec": {
   "display_name": "Python 3 (ipykernel)",
   "language": "python",
   "name": "python3"
  },
  "language_info": {
   "codemirror_mode": {
    "name": "ipython",
    "version": 3
   },
   "file_extension": ".py",
   "mimetype": "text/x-python",
   "name": "python",
   "nbconvert_exporter": "python",
   "pygments_lexer": "ipython3",
   "version": "3.13.5"
  }
 },
 "nbformat": 4,
 "nbformat_minor": 5
}
