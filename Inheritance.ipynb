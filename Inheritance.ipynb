{
 "cells": [
  {
   "cell_type": "code",
   "execution_count": 2,
   "id": "87179103-69f7-4fab-b200-e5c2da9f2ae2",
   "metadata": {},
   "outputs": [
    {
     "name": "stdout",
     "output_type": "stream",
     "text": [
      "Student name is prasanna and gender is female\n"
     ]
    }
   ],
   "source": [
    "class Student:\n",
    "    def __init__(self, name):\n",
    "        self.name = name\n",
    "class girl(Student):\n",
    "    def get_gender(self):\n",
    "        print(f\"Student name is {self.name} and gender is female\")\n",
    "g= girl(\"prasanna\")\n",
    "g.get_gender()"
   ]
  },
  {
   "cell_type": "markdown",
   "id": "23b45b0e-7bb1-4310-b42a-42fac3171a5a",
   "metadata": {},
   "source": [
    "#### Types of inheritance\n",
    "- Single inheritance\n",
    "- Multiple inheritance\n",
    "- Heirarical inheritance\n",
    "- Hybrid inheritance\n",
    "- Multilevel inheritance  A Class is derived from another class,"
   ]
  },
  {
   "cell_type": "code",
   "execution_count": 2,
   "id": "a1bfc314-fa7d-46b3-a932-40cd7aab3dee",
   "metadata": {},
   "outputs": [
    {
     "name": "stdout",
     "output_type": "stream",
     "text": [
      "Name is prassu and 4 years old\n"
     ]
    }
   ],
   "source": [
    "#Single inheritance\n",
    "class Person:\n",
    "    def __init__(self, name, age):\n",
    "        self.name=name\n",
    "        self.age=age\n",
    "    #method creation\n",
    "    def show(self):\n",
    "        return f\"Name is {self.name} and {self.age} years old\"\n",
    "class Student(Person):\n",
    "    pass\n",
    "p=Person(\"prassu\", 4)\n",
    "s=Student(\"srinu\", 9)\n",
    "print(p.show())\n"
   ]
  },
  {
   "cell_type": "code",
   "execution_count": 3,
   "id": "1629cff6-4dac-4ad5-9999-81a5a50a0711",
   "metadata": {},
   "outputs": [
    {
     "name": "stdout",
     "output_type": "stream",
     "text": [
      "Name is chiatanya and age is 22 years old\n",
      "Name is chiatanya and roll number is 8787\n",
      "Name is ashok and age is 38 years old\n"
     ]
    }
   ],
   "source": [
    "# Single Inheritence:-\n",
    "class Parent:\n",
    "    def __init__(self, name, age):\n",
    "        self.name = name\n",
    "        self.age = age\n",
    "    def show(self): # method creation\n",
    "        return f\"Name is {self.name} and age is {self.age} years old\"\n",
    "class Student(Parent):\n",
    "    def __init__(self,name,age,roll_no):\n",
    "        super().__init__(name,age)\n",
    "        self.roll_no = roll_no\n",
    "    def show(self):\n",
    "        print(super().show())\n",
    "        return f\"Name is {self.name} and roll number is {self.roll_no}\"\n",
    "    \n",
    "p = Parent(\"ashok\",38)\n",
    "s=Student(\"chiatanya\",22,8787)\n",
    "print(s.show())\n",
    "print(p.show())\n"
   ]
  },
  {
   "cell_type": "markdown",
   "id": "8b25f89f-c6a9-4318-96bb-d5831ef96b4d",
   "metadata": {},
   "source": [
    "#### Multilevel inheritence"
   ]
  },
  {
   "cell_type": "code",
   "execution_count": 4,
   "id": "56d65230-e81a-4b29-a95d-73f2439d581d",
   "metadata": {},
   "outputs": [
    {
     "name": "stdout",
     "output_type": "stream",
     "text": [
      "Name is bittu and age is 22 years old\n",
      "Name is bittu and Education is BTECH\n",
      "Name is Mallika and age is 38 years old\n",
      "Name is Prasanna and Salary is 25000\n"
     ]
    }
   ],
   "source": [
    "class Parent:\n",
    "    def __init__(self, name, age):\n",
    "        self.name = name\n",
    "        self.age = age\n",
    "    def show(self): # method creation\n",
    "        return f\"Name is {self.name} and age is {self.age} years old\"\n",
    "class Student(Parent):\n",
    "    def __init__(self,name,age,education):\n",
    "        super().__init__(name,age)\n",
    "        self.education = education\n",
    "    def show(self):\n",
    "        print(super().show())\n",
    "        return f\"Name is {self.name} and Education is {self.education}\"\n",
    "class Employee(Student):\n",
    "    def __init__(self,name,age,education,salary):\n",
    "        super().__init__(name,age,education)\n",
    "        self.salary = salary\n",
    "    def show(self):\n",
    "        return f\"Name is {self.name} and Salary is {self.salary}\"\n",
    "    \n",
    "p = Parent(\"Mallika\",38)\n",
    "s=Student(\"bittu\",22,\"BTECH\")\n",
    "print(s.show())\n",
    "print(p.show())\n",
    "e = Employee(\"Prasanna\",22,\"BTECH\",\"25000\")\n",
    "print(e.show())"
   ]
  },
  {
   "cell_type": "markdown",
   "id": "d2b4d8f1-8b1c-4d16-b139-df1b174a5587",
   "metadata": {},
   "source": [
    "#### Multiple inheritence"
   ]
  },
  {
   "cell_type": "code",
   "execution_count": 5,
   "id": "b82bb84e-94eb-45d0-acfe-cdaeaaacbd19",
   "metadata": {},
   "outputs": [
    {
     "name": "stdout",
     "output_type": "stream",
     "text": [
      "Child name is Prasanna and age is 22\n",
      "anu\n",
      "yogi\n"
     ]
    }
   ],
   "source": [
    "#first parent class\n",
    "class Father:\n",
    "    def __init__(self,name):\n",
    "        self.name = name\n",
    "    def show_name(self):\n",
    "        return self.name\n",
    "# Second parent class\n",
    "class Mother:\n",
    "    def __init__(self,name):\n",
    "        self.name = name\n",
    "    def show_name(self):\n",
    "        return self.name\n",
    "# child class\n",
    "class Child(Father,Mother):\n",
    "    def __init__(self,name,age):\n",
    "        super().__init__(name)\n",
    "        self.age = age\n",
    "    def show_name(self):\n",
    "        return f\"Child name is {self.name} and age is {self.age}\"\n",
    "c = Child(\"Prasanna\",22)\n",
    "print(c.show_name())\n",
    "m = Mother(\"anu\")\n",
    "print(m.show_name())\n",
    "f = Father(\"yogi\")\n",
    "print(f.show_name())"
   ]
  },
  {
   "cell_type": "code",
   "execution_count": 6,
   "id": "5e35afc0-96fe-419b-a0c8-6020075b233b",
   "metadata": {},
   "outputs": [
    {
     "name": "stdout",
     "output_type": "stream",
     "text": [
      "Name is bittu and age is 22 years old\n",
      "Name is Prasanna and Salary is 25000\n"
     ]
    }
   ],
   "source": [
    "#### Hierarical inheritence\n",
    "class Parent:\n",
    "    def __init__(self, name, age):\n",
    "        self.name = name\n",
    "        self.age = age\n",
    "    def show(self): # method creation\n",
    "        return f\"Name is {self.name} and age is {self.age} years old\"\n",
    "class Student(Parent):\n",
    "    def __init__(self,name,age,education):\n",
    "        super().__init__(name,age)\n",
    "        self.education = education\n",
    "    # def show(self):\n",
    "    #     print(super().show())\n",
    "    #     return f\"Name is {self.name} and Education is {self.education}\"\n",
    "class Employee(Student):\n",
    "    def __init__(self,name,age,education,salary):\n",
    "        super().__init__(name,age,education)\n",
    "        self.salary = salary\n",
    "    def show(self):\n",
    "        return f\"Name is {self.name} and Salary is {self.salary}\"\n",
    "    \n",
    "p = Parent(\"Mallika\",38)\n",
    "s=Student(\"bittu\",22,\"BTECH\")\n",
    "print(s.show())\n",
    "#print(p.show())\n",
    "e = Employee(\"Prasanna\",22,\"BTECH\",\"25000\")\n",
    "print(e.show())"
   ]
  },
  {
   "cell_type": "markdown",
   "id": "88a9d29a-fd2f-4095-851f-63df1d663939",
   "metadata": {},
   "source": [
    "#### Hybrid Inheritence"
   ]
  },
  {
   "cell_type": "code",
   "execution_count": 8,
   "id": "cba39650-de11-4cd6-ae5c-84eea04b4375",
   "metadata": {},
   "outputs": [
    {
     "name": "stdout",
     "output_type": "stream",
     "text": [
      "Feature Head from class Parent\n",
      "Feature Talent from class Boy\n",
      "Feature Hardwork from class Girl\n",
      "Feature Cook from class Mom\n"
     ]
    },
    {
     "ename": "NameError",
     "evalue": "name 'd' is not defined",
     "output_type": "error",
     "traceback": [
      "\u001b[1;31m---------------------------------------------------------------------------\u001b[0m",
      "\u001b[1;31mNameError\u001b[0m                                 Traceback (most recent call last)",
      "Cell \u001b[1;32mIn[8], line 29\u001b[0m\n\u001b[0;32m     26\u001b[0m obj\u001b[38;5;241m.\u001b[39mfeature_d()  \u001b[38;5;66;03m# from D\u001b[39;00m\n\u001b[0;32m     28\u001b[0m \u001b[38;5;66;03m# Check method resolution order (MRO)\u001b[39;00m\n\u001b[1;32m---> 29\u001b[0m \u001b[38;5;28mprint\u001b[39m(d\u001b[38;5;241m.\u001b[39mmro())\n",
      "\u001b[1;31mNameError\u001b[0m: name 'd' is not defined"
     ]
    }
   ],
   "source": [
    "# Base class\n",
    "class Parent:\n",
    "    def feature_a(self):\n",
    "        print(\"Feature Head from class Parent\")\n",
    "\n",
    "# Class B inherits from A (single inheritance)\n",
    "class Boy(Parent):\n",
    "    def feature_b(self):\n",
    "        print(\"Feature Talent from class Boy\")\n",
    "\n",
    "# Class C also inherits from A (hierarchical inheritance)\n",
    "class Girl(Parent):\n",
    "    def feature_c(self):\n",
    "        print(\"Feature Hardwork from class Girl\")\n",
    "\n",
    "# Class D inherits from B and C (multiple inheritance)\n",
    "class Mom(Boy, Girl):\n",
    "    def feature_d(self):\n",
    "        print(\"Feature Cook from class Mom\")\n",
    "\n",
    "# Create object of class D\n",
    "obj = Mom()\n",
    "obj.feature_a()  # from A (via B or C)\n",
    "obj.feature_b()  # from B\n",
    "obj.feature_c()  # from C\n",
    "obj.feature_d()  # from D\n",
    "\n",
    "# Check method resolution order (MRO)\n",
    "print(D.mro())\n"
   ]
  },
  {
   "cell_type": "code",
   "execution_count": null,
   "id": "bf95e7ca-2648-43f2-aeb1-c150ac5acb72",
   "metadata": {},
   "outputs": [],
   "source": []
  }
 ],
 "metadata": {
  "kernelspec": {
   "display_name": "Python 3 (ipykernel)",
   "language": "python",
   "name": "python3"
  },
  "language_info": {
   "codemirror_mode": {
    "name": "ipython",
    "version": 3
   },
   "file_extension": ".py",
   "mimetype": "text/x-python",
   "name": "python",
   "nbconvert_exporter": "python",
   "pygments_lexer": "ipython3",
   "version": "3.13.5"
  }
 },
 "nbformat": 4,
 "nbformat_minor": 5
}
