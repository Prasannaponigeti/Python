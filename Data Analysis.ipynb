{
 "cells": [
  {
   "cell_type": "code",
   "execution_count": 5,
   "id": "7eb19e61-b3d7-4f52-98cb-b82484d50278",
   "metadata": {},
   "outputs": [
    {
     "name": "stdout",
     "output_type": "stream",
     "text": [
      "<class 'numpy.ndarray'>\n",
      "[1 2 3 4]\n",
      "4 9\n",
      "1 2\n"
     ]
    }
   ],
   "source": [
    "#array creation\n",
    "import numpy as np\n",
    "array = np.array([1,2,3,4])\n",
    "twod_array = np.array([[1,2,3],[4,5,6],[7,8,9]])\n",
    "print(type(array))\n",
    "print(array)\n",
    "print(array.size, twod_array.size)  # it returns size of an array\n",
    "print(np.ndim(array), np.ndim(twod_array))  # it returns the dimensionality of an array"
   ]
  },
  {
   "cell_type": "code",
   "execution_count": 7,
   "id": "16ce2d13-33f3-441f-9c75-045284edc9de",
   "metadata": {},
   "outputs": [
    {
     "name": "stdout",
     "output_type": "stream",
     "text": [
      "[[0. 0. 0.]\n",
      " [0. 0. 0.]]\n",
      "[[1. 1. 1.]\n",
      " [1. 1. 1.]\n",
      " [1. 1. 1.]]\n"
     ]
    }
   ],
   "source": [
    "# zeros array creation\n",
    "zeros_array = np.zeros((2,3)) # it creates 2*3 matrix with zeros\n",
    "print(zeros_array)\n",
    "#1's array\n",
    "ones_array = np.ones((3,3))\n",
    "print(ones_array)"
   ]
  },
  {
   "cell_type": "code",
   "execution_count": 8,
   "id": "6f0b79fc-9c52-41fa-a059-7f0ee5cc307d",
   "metadata": {},
   "outputs": [
    {
     "name": "stdout",
     "output_type": "stream",
     "text": [
      "4\n",
      "[3 4]\n"
     ]
    }
   ],
   "source": [
    "#indexing\n",
    "import numpy as np\n",
    "array = np.array([1,2,3,4])\n",
    "twod_array = np.array([[1,2,3],[4,5,6],[7,8,9]])\n",
    "print(array[-1])\n",
    "print(array[2:5])"
   ]
  },
  {
   "cell_type": "code",
   "execution_count": 11,
   "id": "d309042c-9cb6-4005-b785-5d73905c9a5d",
   "metadata": {},
   "outputs": [
    {
     "name": "stdout",
     "output_type": "stream",
     "text": [
      "[ 6  8 10 12]\n",
      "[-4 -4 -4 -4]\n",
      "[ 5 12 21 32]\n",
      "[ 1  4  9 16]\n"
     ]
    }
   ],
   "source": [
    "# array operations\n",
    "array = np.array([1,2,3,4])\n",
    "array2 = np.array([5,6,7,8])\n",
    "print(array + array2)\n",
    "print(array - array2)\n",
    "print(array * array2)\n",
    "print(array ** 2)"
   ]
  },
  {
   "cell_type": "code",
   "execution_count": 13,
   "id": "30b387d6-25a2-470e-911c-76036f1012d6",
   "metadata": {},
   "outputs": [
    {
     "name": "stdout",
     "output_type": "stream",
     "text": [
      "10\n",
      "1\n",
      "4\n",
      "2.5\n",
      "1.118033988749895\n"
     ]
    }
   ],
   "source": [
    "# some statistical operations\n",
    "array = np.array([1,2,3,4])\n",
    "print(array.sum())\n",
    "print(array.min())\n",
    "print(array.max())\n",
    "print(array.mean())\n",
    "print(array.std())"
   ]
  },
  {
   "cell_type": "code",
   "execution_count": 14,
   "id": "76355234-51fd-4ba2-b35f-0800ef81e7ae",
   "metadata": {},
   "outputs": [],
   "source": [
    "import pandas as pd"
   ]
  },
  {
   "cell_type": "code",
   "execution_count": null,
   "id": "42dd081f-4066-4b38-a07f-b3b26c704023",
   "metadata": {},
   "outputs": [],
   "source": []
  }
 ],
 "metadata": {
  "kernelspec": {
   "display_name": "Python 3 (ipykernel)",
   "language": "python",
   "name": "python3"
  },
  "language_info": {
   "codemirror_mode": {
    "name": "ipython",
    "version": 3
   },
   "file_extension": ".py",
   "mimetype": "text/x-python",
   "name": "python",
   "nbconvert_exporter": "python",
   "pygments_lexer": "ipython3",
   "version": "3.13.5"
  }
 },
 "nbformat": 4,
 "nbformat_minor": 5
}
