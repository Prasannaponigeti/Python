{
 "cells": [
  {
   "cell_type": "code",
   "execution_count": 6,
   "id": "b65a07bc-1438-4347-bc0c-7ca3cccd9484",
   "metadata": {},
   "outputs": [
    {
     "name": "stdin",
     "output_type": "stream",
     "text": [
      " 8\n"
     ]
    },
    {
     "name": "stdout",
     "output_type": "stream",
     "text": [
      "  * * * * * *   \n",
      "*             * \n",
      "*             * \n",
      "*             * \n",
      "*             * \n",
      "*             * \n",
      "*             * \n",
      "  * * * * * *   \n"
     ]
    }
   ],
   "source": [
    "# pattern program to print zero\n",
    "n=int(input())\n",
    "for i in range(n):\n",
    "    for j in range(n):\n",
    "        if ((i==0 or i==n-1) and(j!=0 and j!=n-1)) or ((j==0 or j==n-1) and (i!=0 and i!=n-1)):\n",
    "            print(\"*\", end= \" \")\n",
    "        else:\n",
    "            print(\" \", end= \" \")\n",
    "    print()"
   ]
  },
  {
   "cell_type": "code",
   "execution_count": 47,
   "id": "eb41a13c-4886-44d0-b0e9-79c1f774a821",
   "metadata": {},
   "outputs": [
    {
     "name": "stdout",
     "output_type": "stream",
     "text": [
      "    *     \n",
      "  * *     \n",
      "    *     \n",
      "    *     \n",
      "    *     \n",
      "    *     \n",
      "* * * * * \n"
     ]
    }
   ],
   "source": [
    "# pattern program to print '1'\n",
    "for i in range(7):\n",
    "    for j in range(5):\n",
    "        if ((i==6) or (j==2) or (i==1 and (j<2 and j>0))):\n",
    "            print(\"*\", end= \" \")\n",
    "        else:\n",
    "            print(\" \", end=\" \")\n",
    "    print()"
   ]
  },
  {
   "cell_type": "code",
   "execution_count": 44,
   "id": "a9a394cd-3fa8-4a8e-a35f-5397496adf06",
   "metadata": {},
   "outputs": [
    {
     "name": "stdin",
     "output_type": "stream",
     "text": [
      " 10\n"
     ]
    },
    {
     "name": "stdout",
     "output_type": "stream",
     "text": [
      "* * * * * * * * * * \n",
      "                  * \n",
      "                  * \n",
      "                  * \n",
      "* * * * * * * * * * \n",
      "*                   \n",
      "*                   \n",
      "*                   \n",
      "* * * * * * * * * * \n",
      "                    \n"
     ]
    }
   ],
   "source": [
    "#pattern program to print'2'\n",
    "n=int(input())\n",
    "for i in range(n):\n",
    "    for j in range(n):\n",
    "        if ((i==0 or i==8 or i==4) or (j==9) and (i>0 and i<4) or (j==0) and (i>4 and i<9)):\n",
    "            print(\"*\", end=\" \")\n",
    "        else:\n",
    "            print(\" \", end=\" \")\n",
    "    print()"
   ]
  },
  {
   "cell_type": "code",
   "execution_count": 56,
   "id": "c5d2cda7-4138-4bcb-860e-90a8a46e3792",
   "metadata": {},
   "outputs": [
    {
     "name": "stdin",
     "output_type": "stream",
     "text": [
      " 7\n"
     ]
    },
    {
     "name": "stdout",
     "output_type": "stream",
     "text": [
      "* * * * * * * \n",
      "            * \n",
      "            * \n",
      "* * * * * * * \n",
      "            * \n",
      "            * \n",
      "* * * * * * * \n"
     ]
    }
   ],
   "source": [
    "#pattern program to print '3'\n",
    "n=int(input())\n",
    "for i in range(n):\n",
    "    for j in range(n):\n",
    "        if (i==0 or i==3 or i==6) or j==6:\n",
    "            print(\"*\", end = \" \")\n",
    "        else:\n",
    "            print(\" \", end= \" \")\n",
    "    print()"
   ]
  },
  {
   "cell_type": "code",
   "execution_count": 9,
   "id": "c2158ec5-9181-4dca-9ea2-f9da84d597d4",
   "metadata": {},
   "outputs": [
    {
     "name": "stdin",
     "output_type": "stream",
     "text": [
      " 10\n"
     ]
    },
    {
     "name": "stdout",
     "output_type": "stream",
     "text": [
      "*                 * \n",
      "*                 * \n",
      "*                 * \n",
      "*                 * \n",
      "*                 * \n",
      "* * * * * * * * * * \n",
      "                  * \n",
      "                  * \n",
      "                  * \n",
      "                  * \n"
     ]
    }
   ],
   "source": [
    "#pattern program to print '4'\n",
    "n=int(input())\n",
    "for i in range(n):\n",
    "    for j in range(n):\n",
    "        if (i==n/2 or j==n-1) or (j==0 and i<n//2):\n",
    "            print(\"*\", end= \" \")\n",
    "        else:\n",
    "            print(\" \", end=\" \")\n",
    "    print()"
   ]
  },
  {
   "cell_type": "code",
   "execution_count": 15,
   "id": "bdb83a93-bc87-4dee-afd8-f1250d5b4bdb",
   "metadata": {},
   "outputs": [
    {
     "name": "stdin",
     "output_type": "stream",
     "text": [
      " 8\n"
     ]
    },
    {
     "name": "stdout",
     "output_type": "stream",
     "text": [
      "* * * * * * * * \n",
      "*               \n",
      "*               \n",
      "*               \n",
      "* * * * * * * * \n",
      "              * \n",
      "              * \n",
      "* * * * * * * * \n"
     ]
    }
   ],
   "source": [
    "#pattern program to print '5'\n",
    "n=int(input())\n",
    "for i in range(n):\n",
    "    for j in range(n):\n",
    "        if (i==0 or i==n-1 or i==n/2) or (j==0 and i<n//2) or (j==n-1 and i>n//2):\n",
    "            print(\"*\", end= \" \")\n",
    "        else:\n",
    "            print(\" \", end=\" \")\n",
    "    print()"
   ]
  },
  {
   "cell_type": "code",
   "execution_count": 19,
   "id": "4867383b-68e5-4dbd-ad11-cc4eca8f5d29",
   "metadata": {},
   "outputs": [
    {
     "name": "stdin",
     "output_type": "stream",
     "text": [
      " 10\n"
     ]
    },
    {
     "name": "stdout",
     "output_type": "stream",
     "text": [
      "* * * * * * * * * * \n",
      "*                   \n",
      "*                   \n",
      "*                   \n",
      "*                   \n",
      "* * * * * * * * * * \n",
      "*                 * \n",
      "*                 * \n",
      "*                 * \n",
      "* * * * * * * * * * \n"
     ]
    }
   ],
   "source": [
    "#pattern program to print '6'\n",
    "n=int(input())\n",
    "for i in range(n):\n",
    "    for j in range(n):\n",
    "        if i==0 or i==n-1 or i==n/2 or j==0 or (j==n-1 and i>n//2):\n",
    "            print(\"*\", end= \" \")\n",
    "        else:\n",
    "            print(\" \", end=\" \")\n",
    "    print()"
   ]
  },
  {
   "cell_type": "code",
   "execution_count": 27,
   "id": "3b1b76a6-73ea-4e69-8a07-59c6db9284f5",
   "metadata": {},
   "outputs": [
    {
     "name": "stdout",
     "output_type": "stream",
     "text": [
      "* * * *   \n",
      "      *   \n",
      "      *   \n",
      "  * * * * \n",
      "      *   \n",
      "      *   \n",
      "      *   \n"
     ]
    }
   ],
   "source": [
    "#pattern program to print '7'\n",
    "for i in range(7):\n",
    "    for j in range(5):\n",
    "          if (i==0 and j<4) or (j==3) or (i==3 and j>0):\n",
    "              print(\"*\", end = \" \")\n",
    "          else:\n",
    "              print(\" \", end=\" \")\n",
    "    print()\n",
    "        "
   ]
  },
  {
   "cell_type": "code",
   "execution_count": 43,
   "id": "68c58a3b-cae4-433e-beac-7eb049d2ae2d",
   "metadata": {},
   "outputs": [
    {
     "name": "stdout",
     "output_type": "stream",
     "text": [
      "  * * *   \n",
      "*       * \n",
      "*       * \n",
      "  * * *   \n",
      "*       * \n",
      "*       * \n",
      "  * * *   \n"
     ]
    }
   ],
   "source": [
    "#pattern program to print '8'\n",
    "for i in range(7):\n",
    "    for j in range(5):\n",
    "        if ((i==0 or i==3 or i==6)  and ( j>0  and j<4)) or ((j==0 or j==4) and (i>0 and i<6) and i!=3) :\n",
    "            print(\"*\", end=\" \")\n",
    "        else:\n",
    "            print(\" \", end= \" \")\n",
    "    print()"
   ]
  },
  {
   "cell_type": "code",
   "execution_count": 46,
   "id": "7029185f-bc8e-426c-8eff-fbcdadcf5e10",
   "metadata": {},
   "outputs": [
    {
     "name": "stdout",
     "output_type": "stream",
     "text": [
      "* * * * * \n",
      "*       * \n",
      "*       * \n",
      "* * * * * \n",
      "        * \n",
      "        * \n",
      "* * * * * \n"
     ]
    }
   ],
   "source": [
    "#pattern program to print '9'\n",
    "for i in range(7):\n",
    "    for j in range(5):\n",
    "        if (i==0 or i==6 or i==3) or (j==4) or (j==0 and i<4):\n",
    "            print(\"*\", end= \" \")\n",
    "        else:\n",
    "            print(\" \", end= \" \")\n",
    "    print()"
   ]
  },
  {
   "cell_type": "code",
   "execution_count": null,
   "id": "31557270-9a15-40e8-a2fe-e1f9c005c885",
   "metadata": {},
   "outputs": [],
   "source": []
  }
 ],
 "metadata": {
  "kernelspec": {
   "display_name": "Python 3 (ipykernel)",
   "language": "python",
   "name": "python3"
  },
  "language_info": {
   "codemirror_mode": {
    "name": "ipython",
    "version": 3
   },
   "file_extension": ".py",
   "mimetype": "text/x-python",
   "name": "python",
   "nbconvert_exporter": "python",
   "pygments_lexer": "ipython3",
   "version": "3.13.5"
  }
 },
 "nbformat": 4,
 "nbformat_minor": 5
}
