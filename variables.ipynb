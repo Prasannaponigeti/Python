{
 "cells": [
  {
   "cell_type": "markdown",
   "id": "79d9a598-a9cf-4527-a84d-e0de3ef115ed",
   "metadata": {},
   "source": [
    "#### variables\n",
    "- In Python, variables are used to store data that can be referenced and manipulated during program execution.\n",
    "- Python variables do not require explicit declaration of type. \n",
    "- The type of the variable is inferred based on the value assigned.\n",
    "- Variables act as placeholders for data.\n",
    "- They allow us to store and reuse values in our program.\n"
   ]
  },
  {
   "cell_type": "markdown",
   "id": "682145b0-9c03-4fe6-ad44-b56fa074f7a7",
   "metadata": {},
   "source": [
    "#### rules for naming variables\n",
    "- Variable names can only contain letters, digits and underscores (_).\n",
    "- A variable name cannot start with a digit.\n",
    "- Variable names are case-sensitive (myVar and myvar are different)\n",
    "- Avoid using Python keywords (e.g., if, else, for) as variable names.\n"
   ]
  },
  {
   "cell_type": "code",
   "execution_count": 2,
   "id": "c651cbfa-1a58-4ebe-96ca-15a83c7f1736",
   "metadata": {},
   "outputs": [
    {
     "name": "stdout",
     "output_type": "stream",
     "text": [
      "123 pretty gmail_com\n"
     ]
    }
   ],
   "source": [
    "#example\n",
    "a=123\n",
    "b=\"pretty\"\n",
    "c=\"gmail_com\"\n",
    "print(a,b,c)"
   ]
  },
  {
   "cell_type": "code",
   "execution_count": 3,
   "id": "1c874ac6-d146-42c1-8b70-8626af6ec663",
   "metadata": {},
   "outputs": [
    {
     "name": "stdout",
     "output_type": "stream",
     "text": [
      "23 hi 23.5\n"
     ]
    }
   ],
   "source": [
    "#Assigning values to variables\n",
    "#variables in python are assigned by using the \"=\" operator\n",
    "a=23\n",
    "b=\"hi\"\n",
    "c=23.5\n",
    "print(a,b,c)"
   ]
  },
  {
   "cell_type": "code",
   "execution_count": 4,
   "id": "5484a7b8-3bbb-462e-adc5-e48b867cba4c",
   "metadata": {},
   "outputs": [
    {
     "name": "stdout",
     "output_type": "stream",
     "text": [
      "hi\n"
     ]
    }
   ],
   "source": [
    "#Dynamic typing\n",
    "#Python variables are dynamically typed, meaning the same variable can hold different types of values during execution.\n",
    "a=10\n",
    "a=\"hi\"\n",
    "print(a)"
   ]
  },
  {
   "cell_type": "code",
   "execution_count": 5,
   "id": "c0fde0a9-27fd-4667-87fb-567f32581b7b",
   "metadata": {},
   "outputs": [
    {
     "name": "stdout",
     "output_type": "stream",
     "text": [
      "20 20 20\n"
     ]
    }
   ],
   "source": [
    "#Assigning the same value to multiple variables\n",
    "a=b=c=20\n",
    "print(a,b,c)"
   ]
  },
  {
   "cell_type": "code",
   "execution_count": 6,
   "id": "8530768a-2ea4-4603-9d2c-fa27d4b116a3",
   "metadata": {},
   "outputs": [
    {
     "name": "stdout",
     "output_type": "stream",
     "text": [
      "1 2.5 hello\n"
     ]
    }
   ],
   "source": [
    "#Assigning different values to multiple variables\n",
    "a,b,c= 1,2.5,\"hello\"\n",
    "print(a,b,c)"
   ]
  },
  {
   "cell_type": "code",
   "execution_count": 7,
   "id": "9a1fadad-6099-44ae-8250-aa96eef349de",
   "metadata": {},
   "outputs": [
    {
     "name": "stdout",
     "output_type": "stream",
     "text": [
      "10 5\n"
     ]
    }
   ],
   "source": [
    "#swapping of two variables \n",
    "a, b = 5, 10\n",
    "a, b = b, a\n",
    "print(a, b)"
   ]
  },
  {
   "cell_type": "code",
   "execution_count": 8,
   "id": "e63a0677-2fea-43ae-be2c-847e30844fe1",
   "metadata": {},
   "outputs": [
    {
     "name": "stdout",
     "output_type": "stream",
     "text": [
      "Length of the word: 6\n"
     ]
    }
   ],
   "source": [
    "#Counting characters in a string\n",
    "a = \"sweety\"\n",
    "length = len(a)\n",
    "print(\"Length of the word:\", length)"
   ]
  },
  {
   "cell_type": "code",
   "execution_count": 9,
   "id": "f3c4bdb6-6945-4589-be6c-f7458504c1cc",
   "metadata": {},
   "outputs": [
    {
     "name": "stdout",
     "output_type": "stream",
     "text": [
      "<class 'int'>\n",
      "<class 'float'>\n",
      "<class 'str'>\n",
      "<class 'list'>\n",
      "<class 'dict'>\n",
      "<class 'bool'>\n"
     ]
    }
   ],
   "source": [
    "#Getting the type of variable\n",
    "a = 42\n",
    "b = 3.14\n",
    "c = \"Hello, World!\"\n",
    "d = [1, 2, 3]\n",
    "e= {'key': 'value'}\n",
    "bool = True\n",
    "print(type(a))   \n",
    "print(type(b)) \n",
    "print(type(c))   \n",
    "print(type(d))     \n",
    "print(type(e))     \n",
    "print(type(bool))"
   ]
  },
  {
   "cell_type": "code",
   "execution_count": null,
   "id": "9a85b5aa-4e6c-4aa8-8a42-9311af321e9d",
   "metadata": {},
   "outputs": [],
   "source": []
  }
 ],
 "metadata": {
  "kernelspec": {
   "display_name": "Python 3 (ipykernel)",
   "language": "python",
   "name": "python3"
  },
  "language_info": {
   "codemirror_mode": {
    "name": "ipython",
    "version": 3
   },
   "file_extension": ".py",
   "mimetype": "text/x-python",
   "name": "python",
   "nbconvert_exporter": "python",
   "pygments_lexer": "ipython3",
   "version": "3.13.5"
  }
 },
 "nbformat": 4,
 "nbformat_minor": 5
}
