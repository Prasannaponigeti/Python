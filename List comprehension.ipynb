{
 "cells": [
  {
   "cell_type": "markdown",
   "id": "44f1e676-5282-4c4b-b88c-1fc1091c4413",
   "metadata": {},
   "source": [
    "#### List comprehensions"
   ]
  },
  {
   "cell_type": "code",
   "execution_count": 2,
   "id": "6c600569-5d6a-40c2-9f19-a45c771a2c93",
   "metadata": {},
   "outputs": [
    {
     "name": "stdout",
     "output_type": "stream",
     "text": [
      "[1, 2, 3, 4, 5, 6, 7, 8, 9, 10]\n"
     ]
    }
   ],
   "source": [
    "lt=[]\n",
    "for i in range(1,11):\n",
    "    lt.append(i)\n",
    "print(lt)"
   ]
  },
  {
   "cell_type": "code",
   "execution_count": 4,
   "id": "e850cc82-57ba-4587-8d5b-11e3e8bd0112",
   "metadata": {},
   "outputs": [
    {
     "name": "stdout",
     "output_type": "stream",
     "text": [
      "[1, 2, 3, 4, 5, 6, 7, 8, 9, 10]\n"
     ]
    }
   ],
   "source": [
    "#list comprehension\n",
    "#syntax :[expression for iterator in iterable condition]\n",
    "#print list of 1-10 numbers\n",
    "lt=[x for x in range(1,11)]\n",
    "print(lt)"
   ]
  },
  {
   "cell_type": "code",
   "execution_count": 10,
   "id": "31d1dd4d-b633-4219-9a82-e5419a254b37",
   "metadata": {},
   "outputs": [
    {
     "name": "stdout",
     "output_type": "stream",
     "text": [
      "[2, 4, 6, 8, 10, 12, 14, 16, 18, 20]\n"
     ]
    }
   ],
   "source": [
    "#print list of even numbers between 1-20\n",
    "even=[x for x in range(1, 21) if x%2==0]\n",
    "print(even)\n"
   ]
  },
  {
   "cell_type": "code",
   "execution_count": 43,
   "id": "c2da93f9-a310-42e4-a4be-a57e3942e39d",
   "metadata": {},
   "outputs": [
    {
     "name": "stdout",
     "output_type": "stream",
     "text": [
      "[0, 2, 4, 6, 8, 10, 12, 14, 16, 18, 20]\n"
     ]
    }
   ],
   "source": [
    "#without using if condition\n",
    "l=[x for x in range(0,21,2)]\n",
    "print(l)"
   ]
  },
  {
   "cell_type": "code",
   "execution_count": 7,
   "id": "50c2e7d2-9683-4930-9a1a-8bf8f0d0c0b5",
   "metadata": {},
   "outputs": [
    {
     "name": "stdout",
     "output_type": "stream",
     "text": [
      "[1, 3, 5, 7, 9, 11, 13, 15, 17, 19]\n"
     ]
    }
   ],
   "source": [
    "#print list of odd numbers between 1-20\n",
    "odd = [x for x in range(1, 21) if x%2]\n",
    "print(odd)"
   ]
  },
  {
   "cell_type": "code",
   "execution_count": 44,
   "id": "cb206865-f508-4278-97ff-b8ea64eca364",
   "metadata": {},
   "outputs": [
    {
     "name": "stdout",
     "output_type": "stream",
     "text": [
      "[2, 6, 24, 86, 888]\n"
     ]
    }
   ],
   "source": [
    "#find even numbers in the list\n",
    "l=[2,25,3,5,6, 65,24,86,888]\n",
    "lst=[l[x] for x in range (len(l)) if not l[x] % 2]\n",
    "print(lst)"
   ]
  },
  {
   "cell_type": "code",
   "execution_count": 14,
   "id": "b3b315de-c682-4714-aa83-9d9411543b57",
   "metadata": {},
   "outputs": [
    {
     "name": "stdout",
     "output_type": "stream",
     "text": [
      "[25, 3, 5, 65]\n"
     ]
    }
   ],
   "source": [
    "#find odd numbers in the list\n",
    "l=[2,25,3,5,6, 65,24,86,888]\n",
    "lst=[l[x] for x in range (len(l)) if  l[x] % 2]\n",
    "print(lst)"
   ]
  },
  {
   "cell_type": "code",
   "execution_count": 15,
   "id": "b056ee9b-3c40-4415-aa9e-4dfcb8e05222",
   "metadata": {},
   "outputs": [
    {
     "name": "stdout",
     "output_type": "stream",
     "text": [
      "even\n"
     ]
    }
   ],
   "source": [
    "#true_state if condition else false_state\n",
    "n=24\n",
    "res=\"even\" if n%2==0 else \"odd\"\n",
    "print(res)"
   ]
  },
  {
   "cell_type": "code",
   "execution_count": 20,
   "id": "5364fc8d-2fc7-43d3-8b0b-8d1cd82991de",
   "metadata": {},
   "outputs": [
    {
     "name": "stdout",
     "output_type": "stream",
     "text": [
      "['2-even', '25 - odd', '3 - odd', '5 - odd', '6-even', '65 - odd', '24-even', '86-even', '888-even']\n"
     ]
    }
   ],
   "source": [
    "l=[2,25,3,5,6, 65,24,86,888]\n",
    "res=[f\"{x}-even\" if x%2==0 else f\"{x} - odd\" for x in l]\n",
    "print(res)"
   ]
  },
  {
   "cell_type": "code",
   "execution_count": 23,
   "id": "ce586a13-b900-4557-a576-605bda5656fb",
   "metadata": {},
   "outputs": [
    {
     "name": "stdout",
     "output_type": "stream",
     "text": [
      "[(1, 1), (1, 2), (1, 3), (1, 4), (1, 5), (1, 6), (2, 1), (2, 2), (2, 3), (2, 4), (2, 5), (2, 6), (3, 1), (3, 2), (3, 3), (3, 4), (3, 5), (3, 6), (4, 1), (4, 2), (4, 3), (4, 4), (4, 5), (4, 6), (5, 1), (5, 2), (5, 3), (5, 4), (5, 5), (5, 6), (6, 1), (6, 2), (6, 3), (6, 4), (6, 5), (6, 6)]\n"
     ]
    }
   ],
   "source": [
    "#nested loops in list comprehension\n",
    "l = [(i,j) for i in range(1,7) for j in range(1,7)]\n",
    "print(l)"
   ]
  },
  {
   "cell_type": "code",
   "execution_count": 28,
   "id": "50bceda3-e231-4bfd-b95a-83cd9304a6c6",
   "metadata": {},
   "outputs": [
    {
     "name": "stdout",
     "output_type": "stream",
     "text": [
      "[(1, 5), (2, 4), (3, 3), (4, 2), (5, 1)]\n"
     ]
    }
   ],
   "source": [
    "#sum of two dices is 6\n",
    "l = [(i,j) for i in range(1,7) for j in range(1,7)  if i+j==6]\n",
    "print(l)"
   ]
  },
  {
   "cell_type": "code",
   "execution_count": 30,
   "id": "5170173b-691b-4d19-a56b-7218d8e1e24f",
   "metadata": {},
   "outputs": [
    {
     "name": "stdout",
     "output_type": "stream",
     "text": [
      "[(1, 4), (2, 4), (3, 4), (4, 1), (4, 2), (4, 3), (4, 4), (4, 5), (4, 6), (5, 4), (6, 4)]\n"
     ]
    }
   ],
   "source": [
    "#s at least one die face is 4\n",
    "l = [(i,j) for i in range(1,7) for j in range(1,7)  if i==4 or j==4]\n",
    "print(l)"
   ]
  },
  {
   "cell_type": "code",
   "execution_count": 39,
   "id": "56b938e3-904a-4186-ae39-100cc9d68721",
   "metadata": {},
   "outputs": [
    {
     "name": "stdout",
     "output_type": "stream",
     "text": [
      "[(1, 7), (2, 6), (3, 5), (4, 4)]\n"
     ]
    }
   ],
   "source": [
    "l = [1, 2, 3, 4, 6, 5, 7,4]\n",
    "target= 8\n",
    "lt=[(l[i], l[j]) for i in range(len(l)) for j in range( i+1, len(l))  if l[i] + l[j]==target]\n",
    "print(lt)"
   ]
  },
  {
   "cell_type": "code",
   "execution_count": 41,
   "id": "7a2f439d-67e4-49c9-88e7-c42dc2bb7932",
   "metadata": {},
   "outputs": [
    {
     "name": "stdout",
     "output_type": "stream",
     "text": [
      "4\n"
     ]
    }
   ],
   "source": [
    "l = [1, 2, 3, 4, 6, 5, 7,4]\n",
    "target= 8\n",
    "lt=[(l[i], l[j]) for i in range(len(l)) for j in range( i+1, len(l))  if l[i] + l[j]==target]\n",
    "print(len(lt))"
   ]
  },
  {
   "cell_type": "code",
   "execution_count": null,
   "id": "21c2b6dd-5143-42e6-9279-4ff0e52b5641",
   "metadata": {},
   "outputs": [],
   "source": []
  }
 ],
 "metadata": {
  "kernelspec": {
   "display_name": "Python 3 (ipykernel)",
   "language": "python",
   "name": "python3"
  },
  "language_info": {
   "codemirror_mode": {
    "name": "ipython",
    "version": 3
   },
   "file_extension": ".py",
   "mimetype": "text/x-python",
   "name": "python",
   "nbconvert_exporter": "python",
   "pygments_lexer": "ipython3",
   "version": "3.13.5"
  }
 },
 "nbformat": 4,
 "nbformat_minor": 5
}
