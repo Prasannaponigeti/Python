{
 "cells": [
  {
   "cell_type": "markdown",
   "id": "48fe2e46-0ebd-4a5a-a3f2-d2426fdea1dc",
   "metadata": {},
   "source": [
    "#### Pass by value\n",
    "- The function call taking inputs and those inputs are transfered to function defination parameters\n",
    "- in function defination it creates local variables after the  function execution original inputs values are not modified those values are called pass by value\n",
    "- immutable data type values acts as pass by value-int,float,string,tuple"
   ]
  },
  {
   "cell_type": "code",
   "execution_count": 1,
   "id": "9eae3af5-ad24-4e71-b3c3-056439898ab9",
   "metadata": {},
   "outputs": [
    {
     "name": "stdout",
     "output_type": "stream",
     "text": [
      "10\n",
      "5\n"
     ]
    }
   ],
   "source": [
    "#pass by value\n",
    "def add(x):\n",
    "    x=x+5\n",
    "    return x\n",
    "a=5\n",
    "res=add(a)\n",
    "print(res)\n",
    "print(a)"
   ]
  },
  {
   "cell_type": "markdown",
   "id": "e3b4d672-866e-43be-9845-badcea178e4c",
   "metadata": {},
   "source": [
    "#### Pass by reference\n",
    "- The function calling taking input value memory address after the function execution the values are updated in memory location those type input value we can call it as pass by reference.\n",
    "- the mutable data types  acts as pass by reference- list,set, dictionary"
   ]
  },
  {
   "cell_type": "code",
   "execution_count": 2,
   "id": "cc20906d-25e0-404e-9eae-d3717c6e9aa3",
   "metadata": {},
   "outputs": [
    {
     "name": "stdout",
     "output_type": "stream",
     "text": [
      "[1, 2, 3]\n",
      "[1, 2, 3, 70]\n"
     ]
    }
   ],
   "source": [
    "def add_ele(lst,ele):\n",
    "    lst.append(ele)\n",
    "l=[1,2,3]\n",
    "ele=70\n",
    "print(l)\n",
    "add_ele(l,ele)\n",
    "print(l)"
   ]
  },
  {
   "cell_type": "code",
   "execution_count": null,
   "id": "0b23215f-d0b1-405e-8449-0f94e9e9f860",
   "metadata": {},
   "outputs": [],
   "source": []
  }
 ],
 "metadata": {
  "kernelspec": {
   "display_name": "Python 3 (ipykernel)",
   "language": "python",
   "name": "python3"
  },
  "language_info": {
   "codemirror_mode": {
    "name": "ipython",
    "version": 3
   },
   "file_extension": ".py",
   "mimetype": "text/x-python",
   "name": "python",
   "nbconvert_exporter": "python",
   "pygments_lexer": "ipython3",
   "version": "3.13.5"
  }
 },
 "nbformat": 4,
 "nbformat_minor": 5
}
