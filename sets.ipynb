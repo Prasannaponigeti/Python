{
 "cells": [
  {
   "cell_type": "raw",
   "id": "e19aa08a-9a83-4d35-864a-2afa874a2268",
   "metadata": {},
   "source": [
    "        sets\n",
    "-set is unordered collection of different data type elements\n",
    "- it is define with '{}'\n",
    "-set is mutable and not index based and contain only unique values"
   ]
  },
  {
   "cell_type": "code",
   "execution_count": 21,
   "id": "c4017f2c-e13e-4ec5-a79c-abee124744e2",
   "metadata": {},
   "outputs": [
    {
     "name": "stdout",
     "output_type": "stream",
     "text": [
      "{1, 2, 4, 4.5, 'A', 'prasanna'}\n"
     ]
    }
   ],
   "source": [
    "s={1,2,4,'prasanna','A',4.5}\n",
    "print(s)"
   ]
  },
  {
   "cell_type": "code",
   "execution_count": 22,
   "id": "43641370-a16e-4e56-aa2d-0f8e287d8d2a",
   "metadata": {},
   "outputs": [
    {
     "name": "stdout",
     "output_type": "stream",
     "text": [
      "<class 'dict'> <class 'set'>\n"
     ]
    }
   ],
   "source": [
    "#creating empty set#\n",
    "s1={}\n",
    "s2=set()\n",
    "print(type(s1),type(s2))"
   ]
  },
  {
   "cell_type": "code",
   "execution_count": 23,
   "id": "8c4bf1f3-24a6-4d48-aa84-1c3d0153a699",
   "metadata": {},
   "outputs": [
    {
     "ename": "TypeError",
     "evalue": "'set' object is not subscriptable",
     "output_type": "error",
     "traceback": [
      "\u001b[1;31m---------------------------------------------------------------------------\u001b[0m",
      "\u001b[1;31mTypeError\u001b[0m                                 Traceback (most recent call last)",
      "Cell \u001b[1;32mIn[23], line 3\u001b[0m\n\u001b[0;32m      1\u001b[0m \u001b[38;5;66;03m#not indexed#\u001b[39;00m\n\u001b[0;32m      2\u001b[0m s\u001b[38;5;241m=\u001b[39m{\u001b[38;5;241m1\u001b[39m,\u001b[38;5;241m2\u001b[39m,\u001b[38;5;241m4\u001b[39m,\u001b[38;5;124m'\u001b[39m\u001b[38;5;124mprasanna\u001b[39m\u001b[38;5;124m'\u001b[39m}\n\u001b[1;32m----> 3\u001b[0m \u001b[38;5;28mprint\u001b[39m(s[\u001b[38;5;241m4\u001b[39m])\n",
      "\u001b[1;31mTypeError\u001b[0m: 'set' object is not subscriptable"
     ]
    }
   ],
   "source": [
    "#not indexed#\n",
    "s={1,2,4,'prasanna'}\n",
    "print(s[4])"
   ]
  },
  {
   "cell_type": "code",
   "execution_count": 24,
   "id": "2955a240-43bf-4bdf-80c7-eb286496213f",
   "metadata": {},
   "outputs": [
    {
     "name": "stdout",
     "output_type": "stream",
     "text": [
      "{1, 2, 4, 6}\n"
     ]
    }
   ],
   "source": [
    "#allows unique values\n",
    "a={1,2,4,6,4,2}\n",
    "print(a)"
   ]
  },
  {
   "cell_type": "code",
   "execution_count": 26,
   "id": "cdb63c91-9539-474e-9e1e-3162da136bca",
   "metadata": {},
   "outputs": [
    {
     "name": "stdin",
     "output_type": "stream",
     "text": [
      " 1 2 3 4 5\n"
     ]
    },
    {
     "name": "stdout",
     "output_type": "stream",
     "text": [
      "{1, 2, 3, 4, 5}\n"
     ]
    }
   ],
   "source": [
    "#read set of intergers from user#\n",
    "s=set(map(int,input().split()))\n",
    "print(s)"
   ]
  },
  {
   "cell_type": "code",
   "execution_count": 27,
   "id": "dd47167b-0bb7-453f-a487-58d6c4f6f3fa",
   "metadata": {},
   "outputs": [
    {
     "name": "stdin",
     "output_type": "stream",
     "text": [
      " prasssu\n"
     ]
    },
    {
     "name": "stdout",
     "output_type": "stream",
     "text": [
      "{'prasssu'}\n"
     ]
    }
   ],
   "source": [
    "#read set of strings  from user#\n",
    "s=set(map(str,input().split()))\n",
    "print(s)"
   ]
  },
  {
   "cell_type": "raw",
   "id": "49692ef7-d556-41a9-af2b-dfa06cb379b9",
   "metadata": {},
   "source": [
    "#set methods#\n",
    "-add adds element to set\n",
    "-update update the current set with new iterable element\n",
    "-remove removes the element from set otherwise keyerror\n",
    "-discard remove element from set otherwise does nothing\n",
    "-pop() removes random element from set\n",
    "-clear() removes all elements from set"
   ]
  },
  {
   "cell_type": "code",
   "execution_count": 15,
   "id": "dab7532c-45a7-4cb0-8b20-d651054c3898",
   "metadata": {},
   "outputs": [
    {
     "name": "stdout",
     "output_type": "stream",
     "text": [
      "original set: {1, 2, 3, 45}\n",
      "{1, 2, 3, 100, 45}\n",
      "{1, 2, 3, 100, 45, 20, 30}\n",
      "{1, 2, 100, 45, 20, 30}\n",
      "{1, 2, 100, 45, 30}\n",
      "1\n",
      "set()\n"
     ]
    }
   ],
   "source": [
    "s={1,2,3,45}\n",
    "print(\"original set:\",s)\n",
    "s.add(100)\n",
    "print(s)\n",
    "s.update([20,30])\n",
    "print(s)\n",
    "s.remove(3)\n",
    "print(s)\n",
    "s.discard(20)\n",
    "print(s)\n",
    "val=s.pop()\n",
    "print(val)\n",
    "s.clear()\n",
    "print(s)"
   ]
  },
  {
   "cell_type": "code",
   "execution_count": 18,
   "id": "062121b1-88c9-4559-b200-c10a204f0fd5",
   "metadata": {},
   "outputs": [
    {
     "name": "stdout",
     "output_type": "stream",
     "text": [
      "{1, 2, 3, 4, 5, 6} {3, 4} {1, 2} {1, 2, 5, 6}\n"
     ]
    }
   ],
   "source": [
    "#union(),intersection(),difference , symmetric_difference\n",
    "a={1,2,3,4}\n",
    "b={3,4,5,6}\n",
    "union=a.union(b)\n",
    "intersection=a.intersection(b)\n",
    "difference=a.difference(b)\n",
    "symmetric_difference=a.symmetric_difference(b)\n",
    "print(union,intersection,difference,symmetric_difference)"
   ]
  },
  {
   "cell_type": "code",
   "execution_count": 19,
   "id": "f22e44ae-5da4-4c29-84a5-8b0410f3cb15",
   "metadata": {},
   "outputs": [
    {
     "name": "stdout",
     "output_type": "stream",
     "text": [
      "False\n",
      "True\n",
      "False\n"
     ]
    }
   ],
   "source": [
    "#is subset(),is superset(),is disjoint()#\n",
    "s1={1,2,3,4,5,6}\n",
    "s2={4,6}\n",
    "print(s1.issubset(s2))\n",
    "print(s1.issuperset(s2))\n",
    "print(s1.isdisjoint(s2))"
   ]
  },
  {
   "cell_type": "code",
   "execution_count": 2,
   "id": "99e70f94-d786-46ef-8de1-0ea0588526ed",
   "metadata": {},
   "outputs": [
    {
     "data": {
      "text/plain": [
       "'C:\\\\Users\\\\prasa'"
      ]
     },
     "execution_count": 2,
     "metadata": {},
     "output_type": "execute_result"
    }
   ],
   "source": [
    "pwd"
   ]
  },
  {
   "cell_type": "code",
   "execution_count": null,
   "id": "4fb18f19-0a9f-4f40-b5e6-d2a763163803",
   "metadata": {},
   "outputs": [],
   "source": []
  },
  {
   "cell_type": "code",
   "execution_count": null,
   "id": "4c10be97-ac48-44f2-bfdd-817cce6a920c",
   "metadata": {},
   "outputs": [],
   "source": []
  }
 ],
 "metadata": {
  "kernelspec": {
   "display_name": "Python 3 (ipykernel)",
   "language": "python",
   "name": "python3"
  },
  "language_info": {
   "codemirror_mode": {
    "name": "ipython",
    "version": 3
   },
   "file_extension": ".py",
   "mimetype": "text/x-python",
   "name": "python",
   "nbconvert_exporter": "python",
   "pygments_lexer": "ipython3",
   "version": "3.13.5"
  }
 },
 "nbformat": 4,
 "nbformat_minor": 5
}
