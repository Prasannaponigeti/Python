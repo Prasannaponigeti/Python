{
 "cells": [
  {
   "cell_type": "markdown",
   "id": "a26c0dbe-6ad4-46cf-a35a-a6c007055f31",
   "metadata": {},
   "source": [
    "# 1.Create a function that takes three parameters where:\n",
    "- x is the start of the range (inclusive).\n",
    "- y is the end of the range (inclusive).\n",
    "- n is the divisor to be checked against.\n",
    "Return an ordered list with numbers in the range that are divisible by the third parameter n. Return an empty list if there are no numbers that are divisible by n.\n",
    "Examples:\n",
    "- list_operation(1, 10, 3) ➞ [3, 6, 9]\n",
    "- list_operation(7, 9, 2) ➞ [8]\n",
    "- list_operation(15, 20, 7) ➞ []\n"
   ]
  },
  {
   "cell_type": "code",
   "execution_count": 12,
   "id": "5e002cca-9b88-496b-a19c-cf7885897353",
   "metadata": {},
   "outputs": [
    {
     "name": "stdout",
     "output_type": "stream",
     "text": [
      "[3, 6, 9]\n",
      "[8]\n",
      "[]\n"
     ]
    }
   ],
   "source": [
    "def list_operations(s,e,d):\n",
    "    res=[]\n",
    "    for num in range(s, e+1):\n",
    "        if num%d==0:\n",
    "            res.append(num)\n",
    "    return res\n",
    "print(list_operations(1, 10, 3))\n",
    "print(list_operations(7, 9, 2))\n",
    "print(list_operations(15, 20, 7))\n",
    "\n"
   ]
  },
  {
   "cell_type": "code",
   "execution_count": 13,
   "id": "380470df-bccd-4267-b905-2f062f3891d0",
   "metadata": {},
   "outputs": [
    {
     "name": "stdout",
     "output_type": "stream",
     "text": [
      "[3, 6, 9]\n",
      "[8]\n",
      "[]\n"
     ]
    }
   ],
   "source": [
    "def list_operations(s,e,d):\n",
    "    return [x for x in range(s,e+1) if x%d==0]\n",
    "    \n",
    "print(list_operations(1, 10, 3))\n",
    "print(list_operations(7, 9, 2))\n",
    "print(list_operations(15, 20, 7))\n",
    "\n"
   ]
  },
  {
   "cell_type": "markdown",
   "id": "c63760d9-e312-4141-ac54-0f662691c57f",
   "metadata": {},
   "source": [
    " 2.A group of friends have decided to start a secret society. The name will be the first letter of each of their names, sorted in a alphabetical order ? Create a function that takes in a list of names and returns the name of the secret society ?\n",
    " \n",
    "**Examples:**\n",
    "- society_name([\"Adam\", \"Sarah\", \"Malcolm\"]) ➞ \"AMS\"\n",
    "- society_name([\"Harry\", \"Newt\", \"Luna\", \"Cho\"]) ➞ \"CHLN\"\n",
    "- society_name([\"Phoebe\", \"Chandler\", \"Rachel\", \"Ross\", \"Monica\", \"Joey\"])"
   ]
  },
  {
   "cell_type": "code",
   "execution_count": 14,
   "id": "775308d4-f963-4fd0-bacf-842b44d0a7e0",
   "metadata": {},
   "outputs": [
    {
     "name": "stdout",
     "output_type": "stream",
     "text": [
      "AMS\n",
      "CHLN\n",
      "CJMPRR\n"
     ]
    }
   ],
   "source": [
    "def society_name(lst_names):\n",
    "    res=[]\n",
    "    for name in lst_names:\n",
    "        res.append(name[0])\n",
    "    res.sort()\n",
    "    return \"\".join(res)\n",
    "print(society_name([\"Adam\", \"Sarah\", \"Malcolm\"]))\n",
    "print(society_name([\"Harry\", \"Newt\", \"Luna\", \"Cho\"])) \n",
    "print(society_name([\"Phoebe\", \"Chandler\", \"Rachel\", \"Ross\", \"Monica\", \"Joey\"]))"
   ]
  },
  {
   "cell_type": "markdown",
   "id": "ad18d421-214c-4b19-bf44-e5114ad6418a",
   "metadata": {},
   "source": [
    " 3.An isogram is a word that has no duplicate letters. Create a function that takes a string and returns either True or False depending on whether or not it's an \"isogram\".\n",
    "**Examples:**\n",
    "- is_isogram(\"Algorism\") ➞ True\n",
    "- is_isogram(\"PasSword\") ➞ False Not case sensitive.\n",
    "- is_isogram(\"Consecutive\") ➞ False\n",
    "Notes:\n",
    "- Ignore letter case (should not be case sensitive).\n",
    "- All test cases contain valid one word strings."
   ]
  },
  {
   "cell_type": "code",
   "execution_count": 18,
   "id": "eeea07e8-2c57-4ad4-a68e-daec57edf45c",
   "metadata": {},
   "outputs": [
    {
     "name": "stdout",
     "output_type": "stream",
     "text": [
      "False\n"
     ]
    }
   ],
   "source": [
    "def is_isogram(string):\n",
    "    lower_str = string.lower()\n",
    "    for char in lower_str:\n",
    "        if lower_str.count(char) > 1:\n",
    "            return False\n",
    "    else:\n",
    "        return True\n",
    "print(is_isogram(\"PasSword\"))\n",
    "    "
   ]
  },
  {
   "cell_type": "code",
   "execution_count": 20,
   "id": "0f08c27b-c04b-46dc-ab41-5f174c7e5f4b",
   "metadata": {},
   "outputs": [
    {
     "name": "stdout",
     "output_type": "stream",
     "text": [
      "False\n"
     ]
    }
   ],
   "source": [
    "def is_isogram(string):\n",
    "    lower_str = string.lower()\n",
    "    d={}\n",
    "    for char in lower_str:\n",
    "        if char not in d:\n",
    "            d[char]=1\n",
    "        else:\n",
    "            d[char]+=1\n",
    "    # print(d)\n",
    "    for val in d.values():\n",
    "        if val>1:\n",
    "            return False\n",
    "    else:\n",
    "        return True\n",
    "        \n",
    "print(is_isogram(\"PasSword\"))\n",
    "    "
   ]
  },
  {
   "cell_type": "markdown",
   "id": "94d8f0ef-f1a5-4243-969b-47ff7ee4f5d6",
   "metadata": {},
   "source": [
    "4.Create a function that takes a string and returns True or False, depending on whether the characters are in order or not ?\n",
    "\n",
    "**Examples:**\n",
    "- is_in_order(\"abc\") ➞ True\n",
    "- is_in_order(\"edabit\") ➞ False\n",
    "- is_in_order(\"123\") ➞ True\n",
    "- is_in_order(\"xyzz\") ➞ True"
   ]
  },
  {
   "cell_type": "code",
   "execution_count": 22,
   "id": "3810f9a5-b0ad-4f7a-83c1-dd3e15c0d1bb",
   "metadata": {},
   "outputs": [
    {
     "name": "stdout",
     "output_type": "stream",
     "text": [
      "False\n",
      "True\n"
     ]
    }
   ],
   "source": [
    "def is_in_order(string):\n",
    "    l=list(string)\n",
    "    l.sort()\n",
    "    new_str=\"\".join(l)\n",
    "    if string==new_str:\n",
    "        return True\n",
    "    else:\n",
    "        return False\n",
    "print(is_in_order(\"edabit\"))\n",
    "print(is_in_order(\"123\") )"
   ]
  },
  {
   "cell_type": "markdown",
   "id": "349144a9-e8ec-4971-be1a-f2cf6e88d494",
   "metadata": {},
   "source": [
    "5.Create a function that takes a number as an argument and returns True or False depending on whether the number is symmetrical or not. A number is symmetrical when it is the same as its reverse.\n",
    "\n",
    "**Examples:**\n",
    "- is_symmetrical(7227) ➞ True\n",
    "- is_symmetrical(12567) ➞ False\n",
    "- is_symmetrical(44444444) ➞ True\n",
    "- is_symmetrical(9939) ➞ False\n",
    "- is_symmetrical(1112111) ➞ True"
   ]
  },
  {
   "cell_type": "code",
   "execution_count": 23,
   "id": "a17a5e1a-e790-410e-8b26-92f6d43a5d9e",
   "metadata": {},
   "outputs": [
    {
     "name": "stdout",
     "output_type": "stream",
     "text": [
      "True\n",
      "False\n",
      "True\n",
      "False\n",
      "True\n"
     ]
    }
   ],
   "source": [
    "def is_symmetrical(num):\n",
    "    num_str = str(num)\n",
    "    return num_str == num_str[::-1]\n",
    "print(is_symmetrical(7227))      \n",
    "print(is_symmetrical(12567))     \n",
    "print(is_symmetrical(44444444))  \n",
    "print(is_symmetrical(9939))      \n",
    "print(is_symmetrical(1112111))"
   ]
  },
  {
   "cell_type": "markdown",
   "id": "c0605b3e-9305-4342-9684-4eb3a26307e9",
   "metadata": {},
   "source": [
    "6.Given a string of numbers separated by a comma and space, return the product of the numbers.<br>\n",
    "**Examples:**\n",
    "- multiply_nums(\"2, 3\") ➞ 6\n",
    "- multiply_nums(\"1, 2, 3, 4\") ➞ 24\n",
    "- multiply_nums(\"54, 75, 453, 0\") ➞ 0\n",
    "- multiply_nums(\"10, -2\") ➞ -20"
   ]
  },
  {
   "cell_type": "code",
   "execution_count": 24,
   "id": "5626aefb-719c-40f0-8077-8b3fc6ee5ec3",
   "metadata": {},
   "outputs": [
    {
     "name": "stdout",
     "output_type": "stream",
     "text": [
      "6\n",
      "24\n",
      "0\n",
      "-20\n"
     ]
    }
   ],
   "source": [
    "import math\n",
    "def multiply_nums(s):\n",
    "    return math.prod(map(int, s.split(\", \")))\n",
    "print(multiply_nums(\"2, 3\"))           \n",
    "print(multiply_nums(\"1, 2, 3, 4\"))    \n",
    "print(multiply_nums(\"54, 75, 453, 0\"))\n",
    "print(multiply_nums(\"10, -2\"))         \n"
   ]
  },
  {
   "cell_type": "code",
   "execution_count": null,
   "id": "cae4a702-1767-4a0d-97a3-f68579749fe4",
   "metadata": {},
   "outputs": [],
   "source": []
  }
 ],
 "metadata": {
  "kernelspec": {
   "display_name": "Python 3 (ipykernel)",
   "language": "python",
   "name": "python3"
  },
  "language_info": {
   "codemirror_mode": {
    "name": "ipython",
    "version": 3
   },
   "file_extension": ".py",
   "mimetype": "text/x-python",
   "name": "python",
   "nbconvert_exporter": "python",
   "pygments_lexer": "ipython3",
   "version": "3.13.5"
  }
 },
 "nbformat": 4,
 "nbformat_minor": 5
}
