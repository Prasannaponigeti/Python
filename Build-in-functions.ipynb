{
 "cells": [
  {
   "cell_type": "markdown",
   "id": "3a601f76-22e6-4a61-a0eb-662f4017007b",
   "metadata": {},
   "source": [
    "#### Build in functions\n",
    "- the functions are provided by python , without implementation and without importing from another modules\n",
    "- input()\n",
    "- print()\n",
    "- len()\n",
    "- min() - return minimum value from sequence\n",
    "- max() - return maximum value from sequence\n",
    "- sum() - returns the total sum of elements in seq\n",
    "- abs() - returns the absolute value  #whenever we want +ve value instead of -ve we use abs\n",
    "- reversed() - return the reverse value of seq\n",
    "- map() - it apply the function on each elements in seq\n",
    "- zip() - it returns the list of tuple values\n",
    "- filter() - it filters the seq based \n",
    "- enumerate - returns the list of tuple index and value pairs \n",
    "- any()\n",
    "- all\n",
    "- ord()\n",
    "- chr()"
   ]
  },
  {
   "cell_type": "code",
   "execution_count": 1,
   "id": "c8c3a625-7d70-49bd-a6f5-efb708289bf6",
   "metadata": {},
   "outputs": [
    {
     "name": "stdout",
     "output_type": "stream",
     "text": [
      "10\n"
     ]
    }
   ],
   "source": [
    "#abs()\n",
    "print(abs(-10))"
   ]
  },
  {
   "cell_type": "code",
   "execution_count": 3,
   "id": "bce5ee21-c3e5-4a91-81b4-22fd6ae2d6d8",
   "metadata": {},
   "outputs": [
    {
     "name": "stdout",
     "output_type": "stream",
     "text": [
      "['a', 'n', 'n', 'a', 's', 'a', 'r', 'p']\n"
     ]
    }
   ],
   "source": [
    "#reversed\n",
    "res=reversed('prasanna')\n",
    "print(list(res))\n"
   ]
  },
  {
   "cell_type": "code",
   "execution_count": 7,
   "id": "ef87ea4a-e7e1-407c-8c80-6bd262e46b55",
   "metadata": {},
   "outputs": [
    {
     "name": "stdout",
     "output_type": "stream",
     "text": [
      "[6, 7, 8, 9, 10]\n"
     ]
    }
   ],
   "source": [
    "#map\n",
    "def add(x):\n",
    "    return x+5\n",
    "l=[1,2,3,4,5]\n",
    "print(list(map(add, l)))"
   ]
  },
  {
   "cell_type": "code",
   "execution_count": 8,
   "id": "2714c004-23d1-4e77-8428-ccb24e67fa91",
   "metadata": {},
   "outputs": [
    {
     "name": "stdout",
     "output_type": "stream",
     "text": [
      "[2, 4]\n"
     ]
    }
   ],
   "source": [
    "#filter\n",
    "def add(x):\n",
    "    if x%2==0:\n",
    "        return x+5\n",
    "l=[1,2,3,4,5]\n",
    "print(list(filter(add, l)))"
   ]
  },
  {
   "cell_type": "code",
   "execution_count": 10,
   "id": "d33b46c1-4286-4a82-9ee9-41c3d8940134",
   "metadata": {},
   "outputs": [
    {
     "name": "stdout",
     "output_type": "stream",
     "text": [
      "[(1, 'a'), (2, 'b'), (3, 'c'), (4, 'd'), (5, 'e')]\n"
     ]
    }
   ],
   "source": [
    "#zip()\n",
    "l1 = [1,2,3,4,5]\n",
    "l2=['a', 'b', 'c', 'd', 'e']\n",
    "print(list(zip(l1,l2)))"
   ]
  },
  {
   "cell_type": "code",
   "execution_count": 11,
   "id": "dee42bd9-5d29-452e-9de5-67bc00b87138",
   "metadata": {},
   "outputs": [
    {
     "name": "stdout",
     "output_type": "stream",
     "text": [
      "[(1, 'a', 10), (2, 'b', 20), (3, 'c', 30), (4, 'd', 40)]\n"
     ]
    }
   ],
   "source": [
    "l1 = [1,2,3,4,5]\n",
    "l3=[10,20,30,40,50]\n",
    "l2=['a', 'b', 'c', 'd',]\n",
    "print(list(zip(l1,l2,l3)))"
   ]
  },
  {
   "cell_type": "code",
   "execution_count": 12,
   "id": "2adb43b1-84ee-4f56-9752-afee7388ddfc",
   "metadata": {},
   "outputs": [
    {
     "name": "stdout",
     "output_type": "stream",
     "text": [
      "[(0, 'a'), (1, 'b'), (2, 'c'), (3, 'd')]\n"
     ]
    }
   ],
   "source": [
    "#enumerate\n",
    "l2=['a', 'b', 'c', 'd',]\n",
    "print(list(enumerate(l2)))"
   ]
  },
  {
   "cell_type": "code",
   "execution_count": 13,
   "id": "99332578-a6e4-4d6a-92a5-0d7d47ba361e",
   "metadata": {},
   "outputs": [
    {
     "name": "stdout",
     "output_type": "stream",
     "text": [
      "True\n"
     ]
    }
   ],
   "source": [
    "#any() returns true, when any one element from seq are true\n",
    "print(any([1,2,3,4,5,0]))"
   ]
  },
  {
   "cell_type": "code",
   "execution_count": 15,
   "id": "a79b82f3-5ead-4d8b-8c93-3392c1812cd4",
   "metadata": {},
   "outputs": [
    {
     "name": "stdout",
     "output_type": "stream",
     "text": [
      "False\n",
      "True\n"
     ]
    }
   ],
   "source": [
    "#all()  rerturns true, when all seq elements are true\n",
    "print(all([1,2,3,4,5,0]))\n",
    "print(all([1, 'abc', 5,7]))"
   ]
  },
  {
   "cell_type": "code",
   "execution_count": 17,
   "id": "94a717fa-aef8-4990-8079-34763b1a7548",
   "metadata": {},
   "outputs": [
    {
     "name": "stdout",
     "output_type": "stream",
     "text": [
      "65\n",
      "97\n"
     ]
    }
   ],
   "source": [
    "#ord  returns the ASCII VALUES\n",
    "print(ord('A'))\n",
    "print(ord('a'))"
   ]
  },
  {
   "cell_type": "code",
   "execution_count": 23,
   "id": "f0f5bdb8-afd2-4140-b4d2-34d507d08863",
   "metadata": {},
   "outputs": [
    {
     "name": "stdout",
     "output_type": "stream",
     "text": [
      "A\n",
      "Z\n"
     ]
    }
   ],
   "source": [
    "#chr()  ASCII number to character conversion\n",
    "print(chr(65))\n",
    "print(chr(90))"
   ]
  },
  {
   "cell_type": "code",
   "execution_count": null,
   "id": "ddb4cf2c-fb1b-44da-bce8-eb140573b534",
   "metadata": {},
   "outputs": [],
   "source": []
  }
 ],
 "metadata": {
  "kernelspec": {
   "display_name": "Python 3 (ipykernel)",
   "language": "python",
   "name": "python3"
  },
  "language_info": {
   "codemirror_mode": {
    "name": "ipython",
    "version": 3
   },
   "file_extension": ".py",
   "mimetype": "text/x-python",
   "name": "python",
   "nbconvert_exporter": "python",
   "pygments_lexer": "ipython3",
   "version": "3.13.5"
  }
 },
 "nbformat": 4,
 "nbformat_minor": 5
}
