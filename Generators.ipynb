{
 "cells": [
  {
   "cell_type": "markdown",
   "id": "14cef5ea-5b41-4e5c-af0a-773444e57495",
   "metadata": {},
   "source": [
    "#### Generators\n",
    "- It is a one type of function, if the function defination contains at least one yeild keyword those functions we can call it as generators.\n",
    "- The generator function executes multiple yeild statements\n",
    "- The generator function returns the \"iterator type generator object\" ,in  generator function it remembers  where the function was paused.\n",
    "-  Generator function again start executes right after the yeild statement,  generator function result takes less memory to store,  generator function     are lazy\n",
    "-  The next function used to access the next value of generator object, if there is no next value if we try access the next value of generator object      it rises stopiterationerror\n",
    "-  To overcome the stop iteration error by using loops\n",
    "- syntax:\n",
    "  "
   ]
  },
  {
   "cell_type": "code",
   "execution_count": 1,
   "id": "03614aa4-9864-4e4a-aec8-6b5446f70f9d",
   "metadata": {},
   "outputs": [],
   "source": [
    " # def gen_name(parameters):\n",
    " #     statements \n",
    " #     yeild expression\n",
    " #     statements"
   ]
  },
  {
   "cell_type": "code",
   "execution_count": 18,
   "id": "aa82b5a0-4fd9-4cbb-9d51-aa86937d6b94",
   "metadata": {},
   "outputs": [
    {
     "name": "stdout",
     "output_type": "stream",
     "text": [
      "<generator object gen at 0x000001DC0042DC00>\n",
      "0\n",
      "1\n",
      "2\n",
      "3\n",
      "4\n"
     ]
    },
    {
     "ename": "StopIteration",
     "evalue": "",
     "output_type": "error",
     "traceback": [
      "\u001b[1;31m---------------------------------------------------------------------------\u001b[0m",
      "\u001b[1;31mStopIteration\u001b[0m                             Traceback (most recent call last)",
      "Cell \u001b[1;32mIn[18], line 14\u001b[0m\n\u001b[0;32m     12\u001b[0m \u001b[38;5;28mprint\u001b[39m(\u001b[38;5;28mnext\u001b[39m(res))\n\u001b[0;32m     13\u001b[0m \u001b[38;5;28mprint\u001b[39m(\u001b[38;5;28mnext\u001b[39m(res))\n\u001b[1;32m---> 14\u001b[0m \u001b[38;5;28mprint\u001b[39m(\u001b[38;5;28mnext\u001b[39m(res))\n",
      "\u001b[1;31mStopIteration\u001b[0m: "
     ]
    }
   ],
   "source": [
    "def gen(x):\n",
    "    i=0\n",
    "    while i<x:\n",
    "        yield i\n",
    "        i+=1\n",
    "res=gen(5)\n",
    "print(res)\n",
    "#by using next function\n",
    "print(next(res))\n",
    "print(next(res))\n",
    "print(next(res))\n",
    "print(next(res))\n",
    "print(next(res))\n",
    "print(next(res))#stop iteration error\n",
    "\n"
   ]
  },
  {
   "cell_type": "code",
   "execution_count": 19,
   "id": "cd6e29b3-cad0-4870-94db-0af34a65414a",
   "metadata": {},
   "outputs": [
    {
     "name": "stdout",
     "output_type": "stream",
     "text": [
      "<generator object gen at 0x000001DC0042E440>\n",
      "0\n",
      "1\n",
      "2\n",
      "3\n",
      "4\n"
     ]
    }
   ],
   "source": [
    "#without using next \n",
    "def gen(x):\n",
    "    i=0\n",
    "    while i<x:\n",
    "        yield i\n",
    "        i+=1\n",
    "res=gen(5)\n",
    "print(res)\n",
    "for num in res:\n",
    "    print(num)"
   ]
  },
  {
   "cell_type": "code",
   "execution_count": 20,
   "id": "99bbcf08-9621-4d67-ac9e-c35c62fd5d7d",
   "metadata": {},
   "outputs": [
    {
     "name": "stdout",
     "output_type": "stream",
     "text": [
      "list of 1000000 numbers memory in bytes: 8448728\n",
      "<class 'generator'>\n",
      "generator of 1000000 numbers memory in bytes: 192\n"
     ]
    }
   ],
   "source": [
    "#generator takes less memory\n",
    "import sys\n",
    "lst=[x for x in range(1_000_000)]\n",
    "print(\"list of 1000000 numbers memory in bytes:\", sys.getsizeof(lst))\n",
    "#generator\n",
    "gen=(x for x in range(1_000_000))\n",
    "print(type(gen))\n",
    "print(\"generator of 1000000 numbers memory in bytes:\", sys.getsizeof(gen))"
   ]
  },
  {
   "cell_type": "markdown",
   "id": "82d27ac4-edbd-416a-8d30-c992391d38f6",
   "metadata": {},
   "source": [
    "#### Write a python program that yields the first n Fibonacci numbers?"
   ]
  },
  {
   "cell_type": "code",
   "execution_count": 2,
   "id": "c885172a-8c2c-4dd6-9212-a850b83cf40b",
   "metadata": {},
   "outputs": [
    {
     "name": "stdout",
     "output_type": "stream",
     "text": [
      "0 1 1 2 3 5 8 13 21 34 55 89 144 233 377 610 987 1597 2584 4181 "
     ]
    }
   ],
   "source": [
    "def fibonacci(n):\n",
    "    a, b = 0, 1\n",
    "    for _ in range(n):\n",
    "        yield a\n",
    "        a, b = b, a+b\n",
    "for num in fibonacci(20):\n",
    "    print(num, end=\" \")\n"
   ]
  },
  {
   "cell_type": "markdown",
   "id": "a744a7e9-821a-4a39-bb97-181e39fcba31",
   "metadata": {},
   "source": [
    "#### Write a python program that yields squares of numbers from 1 to n?"
   ]
  },
  {
   "cell_type": "code",
   "execution_count": 4,
   "id": "6cc214d5-4d4b-4003-bad8-7dbb627decba",
   "metadata": {},
   "outputs": [
    {
     "name": "stdout",
     "output_type": "stream",
     "text": [
      "[1, 4, 9, 16, 25, 36, 49, 64, 81, 100]\n"
     ]
    }
   ],
   "source": [
    "def squares(n):\n",
    "    for i in range(1, n+1):\n",
    "        yield i*i\n",
    "print(list(squares(10)))\n"
   ]
  },
  {
   "cell_type": "markdown",
   "id": "9a7dbf78-d00f-4c17-8704-59b2894749b5",
   "metadata": {},
   "source": [
    "#### Write a program that counts down from n to 0?"
   ]
  },
  {
   "cell_type": "code",
   "execution_count": 7,
   "id": "90fca359-17e4-450e-a42a-e1744fd8b392",
   "metadata": {},
   "outputs": [
    {
     "name": "stdout",
     "output_type": "stream",
     "text": [
      "[10, 9, 8, 7, 6, 5, 4, 3, 2, 1, 0]\n"
     ]
    }
   ],
   "source": [
    "def countdown(n):\n",
    "    while n >= 0:\n",
    "        yield n\n",
    "        n -= 1\n",
    "print(list(countdown(10)))"
   ]
  },
  {
   "cell_type": "markdown",
   "id": "b7a7042e-9132-4255-909d-8993fb56a095",
   "metadata": {},
   "source": [
    "#### Write a program that yields characters of a string in reverse order?"
   ]
  },
  {
   "cell_type": "code",
   "execution_count": 8,
   "id": "5d723aaa-220c-41a0-b147-7f2d03a7032c",
   "metadata": {},
   "outputs": [
    {
     "name": "stdout",
     "output_type": "stream",
     "text": [
      "olleh\n"
     ]
    }
   ],
   "source": [
    "def reverse_string(s):\n",
    "    for i in range(len(s)-1, -1, -1):\n",
    "        yield s[i]\n",
    "print(\"\".join(reverse_string(\"hello\")))\n"
   ]
  },
  {
   "cell_type": "markdown",
   "id": "d6beecce-b734-4d62-9ffe-b38de81ed524",
   "metadata": {},
   "source": [
    "#### Write a program to find odd numbers?"
   ]
  },
  {
   "cell_type": "code",
   "execution_count": 9,
   "id": "0b145191-3d53-4436-80b0-8e7823eabf57",
   "metadata": {},
   "outputs": [
    {
     "name": "stdout",
     "output_type": "stream",
     "text": [
      "[1, 3, 5, 7, 9]\n"
     ]
    }
   ],
   "source": [
    "def odd_numbers(n):\n",
    "    for i in range(1, n+1, 2):\n",
    "        yield i\n",
    "print(list(odd_numbers(10)))\n"
   ]
  },
  {
   "cell_type": "markdown",
   "id": "1570fc72-7986-4661-a76b-52125e5ff36d",
   "metadata": {},
   "source": [
    "#### Write a program to print alphabets?"
   ]
  },
  {
   "cell_type": "code",
   "execution_count": 10,
   "id": "7fc20cab-9b4c-4d9c-91ab-35ae49b5c3ea",
   "metadata": {},
   "outputs": [
    {
     "name": "stdout",
     "output_type": "stream",
     "text": [
      "['a', 'b', 'c', 'd', 'e', 'f', 'g', 'h', 'i', 'j', 'k', 'l', 'm', 'n', 'o', 'p', 'q', 'r', 's', 't', 'u', 'v', 'w', 'x', 'y', 'z']\n"
     ]
    }
   ],
   "source": [
    "def alphabets():\n",
    "    for ch in \"abcdefghijklmnopqrstuvwxyz\":\n",
    "        yield ch\n",
    "print(list(alphabets()))\n"
   ]
  },
  {
   "cell_type": "markdown",
   "id": "9023af80-d23f-4ebc-9de0-1f7c19e85c28",
   "metadata": {},
   "source": [
    "#### Write a program to print multiplication table?"
   ]
  },
  {
   "cell_type": "code",
   "execution_count": 11,
   "id": "570c7613-d823-40bc-9a0d-ac3aebf2a512",
   "metadata": {},
   "outputs": [
    {
     "name": "stdout",
     "output_type": "stream",
     "text": [
      "[5, 10, 15, 20, 25, 30, 35, 40, 45, 50]\n"
     ]
    }
   ],
   "source": [
    "def multiplication_table(n, limit):\n",
    "    for i in range(1, limit+1):\n",
    "        yield n * i\n",
    "print(list(multiplication_table(5, 10)))\n"
   ]
  },
  {
   "cell_type": "markdown",
   "id": "f9b45baf-4fe6-4d34-bec4-07f7c6e75588",
   "metadata": {},
   "source": [
    "#### Write a program to print characters of a string?"
   ]
  },
  {
   "cell_type": "code",
   "execution_count": 13,
   "id": "9149ef67-9197-4d26-a315-d97fd7f4b86d",
   "metadata": {},
   "outputs": [
    {
     "name": "stdout",
     "output_type": "stream",
     "text": [
      "['p', 'y', 't', 'h', 'o', 'n']\n"
     ]
    }
   ],
   "source": [
    "def string_chars(s):\n",
    "    for ch in s:\n",
    "        yield ch\n",
    "print(list(string_chars(\"python\")))\n"
   ]
  },
  {
   "cell_type": "markdown",
   "id": "f87679ef-e1f7-46fa-a555-29b0adf3ff99",
   "metadata": {},
   "source": [
    "#### Write a program to find natural numbers?"
   ]
  },
  {
   "cell_type": "code",
   "execution_count": 14,
   "id": "efa09f4c-6a6e-4846-8074-7efc857b3bbe",
   "metadata": {},
   "outputs": [
    {
     "name": "stdout",
     "output_type": "stream",
     "text": [
      "[1, 2, 3, 4, 5, 6, 7, 8, 9, 10]\n"
     ]
    }
   ],
   "source": [
    "def naturals(n):\n",
    "    for i in range(1, n+1):\n",
    "        yield i\n",
    "print(list(naturals(10)))\n"
   ]
  },
  {
   "cell_type": "markdown",
   "id": "3d5c4108-ce21-45c5-b12e-8ff8efba486f",
   "metadata": {},
   "source": [
    "#### Write a program to print factorial in a sequence?"
   ]
  },
  {
   "cell_type": "code",
   "execution_count": 17,
   "id": "1445f00a-4cfc-4f7a-8b5c-ba735fa1eb96",
   "metadata": {},
   "outputs": [
    {
     "name": "stdout",
     "output_type": "stream",
     "text": [
      "[1, 2, 6, 24, 120, 720, 5040, 40320, 362880, 3628800]\n"
     ]
    }
   ],
   "source": [
    "def factorial_sequence(n):\n",
    "    fact = 1\n",
    "    for i in range(1, n+1):\n",
    "        fact *= i\n",
    "        yield fact\n",
    "print(list(factorial_sequence(10)))\n"
   ]
  },
  {
   "cell_type": "code",
   "execution_count": null,
   "id": "f8ebed3f-2338-4109-8914-bb7b1e00f149",
   "metadata": {},
   "outputs": [],
   "source": []
  }
 ],
 "metadata": {
  "kernelspec": {
   "display_name": "Python 3 (ipykernel)",
   "language": "python",
   "name": "python3"
  },
  "language_info": {
   "codemirror_mode": {
    "name": "ipython",
    "version": 3
   },
   "file_extension": ".py",
   "mimetype": "text/x-python",
   "name": "python",
   "nbconvert_exporter": "python",
   "pygments_lexer": "ipython3",
   "version": "3.13.5"
  }
 },
 "nbformat": 4,
 "nbformat_minor": 5
}
