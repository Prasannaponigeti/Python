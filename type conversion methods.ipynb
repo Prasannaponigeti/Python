{
 "cells": [
  {
   "cell_type": "code",
   "execution_count": 1,
   "id": "e08610f2-a8aa-4bf2-a048-1eb9bd4b6c15",
   "metadata": {},
   "outputs": [
    {
     "name": "stdout",
     "output_type": "stream",
     "text": [
      "21.0\n",
      "21\n"
     ]
    }
   ],
   "source": [
    "                    #type conversion methods#\n",
    "#integer to float, string conversion\n",
    "num=21\n",
    "print(float(num))\n",
    "print(str(num))"
   ]
  },
  {
   "cell_type": "code",
   "execution_count": 2,
   "id": "75c5811e-1986-402f-8521-9280745606e3",
   "metadata": {},
   "outputs": [
    {
     "name": "stdout",
     "output_type": "stream",
     "text": [
      "<class 'int'>\n",
      "21\n",
      "21.0\n"
     ]
    }
   ],
   "source": [
    "#float to int, string conversion#\n",
    "num=21.0\n",
    "number=int(num)\n",
    "print(type(number))\n",
    "print(number)\n",
    "print(str(num))"
   ]
  },
  {
   "cell_type": "code",
   "execution_count": 3,
   "id": "06ddc5e9-d7d0-410e-a420-a3cd0af84ecf",
   "metadata": {},
   "outputs": [
    {
     "name": "stdout",
     "output_type": "stream",
     "text": [
      "1234\n",
      "1234.0\n",
      "['a', 'b', 'c', '7', '6', '5']\n",
      "('a', 'b', 'c', '7', '6', '5')\n",
      "{'7', 'a', 'c', 'b', '6', '5'}\n"
     ]
    }
   ],
   "source": [
    "#string to integer, float, list, tuple, set#\n",
    "a='1234'\n",
    "b='abc765'\n",
    "print(int(a))\n",
    "print(float(a))\n",
    "print(list(b))\n",
    "print(tuple(b))\n",
    "print(set(b))"
   ]
  },
  {
   "cell_type": "code",
   "execution_count": 5,
   "id": "6bee8c11-e0fd-4e5b-804c-945f7ea3ce4d",
   "metadata": {},
   "outputs": [
    {
     "name": "stdout",
     "output_type": "stream",
     "text": [
      "[1, 3, 5, 'p', 'r', 'a']\n",
      "(1, 3, 5, 'p', 'r', 'a')\n",
      "{1, 3, 5, 'a', 'p', 'r'}\n"
     ]
    }
   ],
   "source": [
    "#list to tuple , set, string#\n",
    "lst=[1, 3, 5 , 'p', 'r', 'a']\n",
    "print(str(lst))\n",
    "print(tuple(lst))\n",
    "print(set(lst))"
   ]
  },
  {
   "cell_type": "code",
   "execution_count": 6,
   "id": "032d52a0-8335-4e74-ad13-3e78316ae569",
   "metadata": {},
   "outputs": [
    {
     "name": "stdout",
     "output_type": "stream",
     "text": [
      "{'a': 1, 'b': 2, 'c': [1, 2, 3]}\n"
     ]
    }
   ],
   "source": [
    "#list of tuples to dictionary#\n",
    "l=[('a', 1), ('b',2), ('c', [1,2,3])]\n",
    "print(dict(l))"
   ]
  },
  {
   "cell_type": "code",
   "execution_count": 7,
   "id": "6e285b6b-d940-495c-ab87-9cbf93db9fe5",
   "metadata": {},
   "outputs": [
    {
     "name": "stdout",
     "output_type": "stream",
     "text": [
      "['a', 'b', 'c']\n"
     ]
    }
   ],
   "source": [
    "#dictionary to list#\n",
    "d= {'a':1, 'b':2, 'c':(1,2,3)}\n",
    "print(list(d))"
   ]
  },
  {
   "cell_type": "code",
   "execution_count": 8,
   "id": "82281bdc-2904-400b-96c2-d9587c1ae101",
   "metadata": {},
   "outputs": [
    {
     "name": "stdout",
     "output_type": "stream",
     "text": [
      "[1, 4, 'prasanna', 33]\n",
      "(1, 4, 'prasanna', 33)\n",
      "{1, 4, 33, 'prasanna'}\n"
     ]
    }
   ],
   "source": [
    "#tuple to list, set, string#\n",
    "t=(1, 4, 'prasanna', 33)\n",
    "print(list(t))\n",
    "print(str(t))\n",
    "print(set(t))"
   ]
  },
  {
   "cell_type": "code",
   "execution_count": 10,
   "id": "56c672ba-a586-46a2-80d2-bb64af11eeaf",
   "metadata": {},
   "outputs": [
    {
     "name": "stdout",
     "output_type": "stream",
     "text": [
      "{1, 2, 99, 'prassu', 4}\n",
      "[1, 2, 99, 'prassu', 4]\n",
      "(1, 2, 99, 'prassu', 4)\n"
     ]
    }
   ],
   "source": [
    "#set to list, tuple, string#\n",
    "s={'prassu', 1,2, 4, 99}\n",
    "print(str(s))\n",
    "print(list(s))\n",
    "print(tuple(s))"
   ]
  },
  {
   "cell_type": "raw",
   "id": "0ac07a8c-dd2d-42f3-8cf5-62ad770b6295",
   "metadata": {},
   "source": [
    "# output formating#\n",
    "- using old style formating \n",
    "-using modulo operator\n",
    "-using f- format method\n",
    "-using dot format method"
   ]
  },
  {
   "cell_type": "code",
   "execution_count": 3,
   "id": "6f263753-f27a-42bd-ac1f-8babf84b662c",
   "metadata": {},
   "outputs": [
    {
     "name": "stdout",
     "output_type": "stream",
     "text": [
      "Name: prassu age: 22 email: prassu@email\n"
     ]
    }
   ],
   "source": [
    "#using old style#\n",
    "name= 'prassu'\n",
    "age= 22\n",
    "email='prassu@email'\n",
    "print(\"Name:\", name, \"age:\" ,age, \"email:\",email)"
   ]
  },
  {
   "cell_type": "code",
   "execution_count": 19,
   "id": "e8862d5f-c8c8-40f9-8d21-1336223588a7",
   "metadata": {},
   "outputs": [
    {
     "name": "stdout",
     "output_type": "stream",
     "text": [
      "name is prassu, age is 22, email is prassu@email\n"
     ]
    }
   ],
   "source": [
    "#using modulo operator#\n",
    "name = 'prassu'\n",
    "age = 22\n",
    "email = 'prassu@email'\n",
    "print(\"name is %s, age is %d, email is %s\"% (name, age, email))"
   ]
  },
  {
   "cell_type": "code",
   "execution_count": 21,
   "id": "a1978b65-036f-4def-9b73-51d6ab87e39b",
   "metadata": {},
   "outputs": [
    {
     "name": "stdout",
     "output_type": "stream",
     "text": [
      "name is prassu, age is 22, email is prassu@email\n"
     ]
    }
   ],
   "source": [
    "#using f format method#\n",
    "name = 'prassu'\n",
    "age = 22\n",
    "email = 'prassu@email'\n",
    "print(f'name is {name}, age is {age}, email is {email}')"
   ]
  },
  {
   "cell_type": "code",
   "execution_count": 23,
   "id": "b67b32cf-05c1-4124-bb74-929f6dbe6418",
   "metadata": {},
   "outputs": [
    {
     "name": "stdout",
     "output_type": "stream",
     "text": [
      "name is prassu, val is 22, email is prassu@email\n"
     ]
    }
   ],
   "source": [
    "#using f format method#\n",
    "name = 'prassu'\n",
    "val = 22\n",
    "email = 'prassu@email'\n",
    "print(f'name is {name}, val is {val}, email is {email}')"
   ]
  },
  {
   "cell_type": "code",
   "execution_count": 25,
   "id": "f6dbf05b-0884-4a10-9595-c060cae08922",
   "metadata": {},
   "outputs": [
    {
     "name": "stdout",
     "output_type": "stream",
     "text": [
      "name is prassu, val is 22.10006, email is prassu@email\n"
     ]
    }
   ],
   "source": [
    "#using f format method#\n",
    "name = 'prassu'\n",
    "val = 22.1000564\n",
    "email = 'prassu@email'\n",
    "print(f'name is {name}, val is {val:.5f}, email is {email}')"
   ]
  },
  {
   "cell_type": "code",
   "execution_count": 26,
   "id": "f767318d-c65a-459a-976d-51707b4e131a",
   "metadata": {},
   "outputs": [
    {
     "name": "stdout",
     "output_type": "stream",
     "text": [
      " name is prassu, age is 22, email is prassu@email\n"
     ]
    }
   ],
   "source": [
    "#using dot format methods#\n",
    "name = 'prassu'\n",
    "val = 22\n",
    "email = 'prassu@email'\n",
    "print(\" name is {}, age is {}, email is {}\". format(name, age, email))"
   ]
  },
  {
   "cell_type": "code",
   "execution_count": null,
   "id": "e9015a5c-0729-4857-bc11-b3148e3f92fa",
   "metadata": {},
   "outputs": [],
   "source": []
  }
 ],
 "metadata": {
  "kernelspec": {
   "display_name": "Python 3 (ipykernel)",
   "language": "python",
   "name": "python3"
  },
  "language_info": {
   "codemirror_mode": {
    "name": "ipython",
    "version": 3
   },
   "file_extension": ".py",
   "mimetype": "text/x-python",
   "name": "python",
   "nbconvert_exporter": "python",
   "pygments_lexer": "ipython3",
   "version": "3.13.5"
  }
 },
 "nbformat": 4,
 "nbformat_minor": 5
}
