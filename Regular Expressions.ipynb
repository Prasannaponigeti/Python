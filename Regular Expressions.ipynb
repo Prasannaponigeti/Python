{
 "cells": [
  {
   "cell_type": "code",
   "execution_count": 2,
   "id": "54499592-b058-49e2-823d-97c695b06bf7",
   "metadata": {},
   "outputs": [
    {
     "name": "stdin",
     "output_type": "stream",
     "text": [
      " prasanna-reddy\n"
     ]
    },
    {
     "name": "stdout",
     "output_type": "stream",
     "text": [
      "valid username\n"
     ]
    }
   ],
   "source": [
    "# user name validation\n",
    "import re\n",
    "username = input()\n",
    "pattern = r\"^[a-zA-Z][a-zA-Z0-9_-]{8,14}\"\n",
    "res = re.fullmatch(pattern, username)\n",
    "if bool(res):\n",
    "    print(\"valid username\")\n",
    "else:\n",
    "    print(\"Not valid\")"
   ]
  },
  {
   "cell_type": "code",
   "execution_count": 8,
   "id": "3d27edbf-839b-46b5-8d98-b11e384419d3",
   "metadata": {},
   "outputs": [
    {
     "name": "stdin",
     "output_type": "stream",
     "text": [
      " 9059078135\n"
     ]
    },
    {
     "name": "stdout",
     "output_type": "stream",
     "text": [
      "valid number\n"
     ]
    }
   ],
   "source": [
    "# phone number\n",
    "import re\n",
    "phone = input()\n",
    "pattern = r\"^[6-9][0-9]{9}\"\n",
    "res = re.fullmatch(pattern,phone)\n",
    "if bool(res):\n",
    "    print(\"valid number\")\n",
    "else:\n",
    "    print(\"Not valid\")"
   ]
  },
  {
   "cell_type": "code",
   "execution_count": 9,
   "id": "edefabc1-e908-4941-ba65-924e40722f3f",
   "metadata": {},
   "outputs": [
    {
     "name": "stdin",
     "output_type": "stream",
     "text": [
      " +919059078135\n"
     ]
    },
    {
     "name": "stdout",
     "output_type": "stream",
     "text": [
      "valid number\n"
     ]
    }
   ],
   "source": [
    "# phone number\n",
    "import re\n",
    "phone = input()\n",
    "pattern = r\"^[\\+91]*[\\s]*[6-9][0-9]{9}\"\n",
    "res = re.fullmatch(pattern,phone)\n",
    "if bool(res):\n",
    "    print(\"valid number\")\n",
    "else:\n",
    "    print(\"Not valid\")"
   ]
  },
  {
   "cell_type": "code",
   "execution_count": 11,
   "id": "d1648501-4e4f-42d1-bfff-ea7b49c88901",
   "metadata": {},
   "outputs": [
    {
     "name": "stdin",
     "output_type": "stream",
     "text": [
      " prasanna@gmail.com\n"
     ]
    },
    {
     "name": "stdout",
     "output_type": "stream",
     "text": [
      "valid Email\n"
     ]
    }
   ],
   "source": [
    "# Email validation\n",
    "import re\n",
    "name = input().strip()\n",
    "pattern = r\"[a-zA-Z0-9]+@[a-zA-Z0-9]+\\.[a-zA-Z]{2,4}\"\n",
    "res = re.fullmatch(pattern,name)\n",
    "if bool(res):\n",
    "    print(\"valid Email\")\n",
    "else:\n",
    "    print(\"Not valid\")"
   ]
  },
  {
   "cell_type": "code",
   "execution_count": 12,
   "id": "1aff869a-08b4-4253-85e0-318f049d447d",
   "metadata": {},
   "outputs": [
    {
     "name": "stdin",
     "output_type": "stream",
     "text": [
      " prasanna@gmail.com.in\n"
     ]
    },
    {
     "name": "stdout",
     "output_type": "stream",
     "text": [
      "valid Email\n"
     ]
    }
   ],
   "source": [
    "# Email validation\n",
    "import re\n",
    "name = input().strip()\n",
    "pattern = r\"[a-zA-Z0-9.]+@[a-zA-Z0-9]+(\\.[a-zA-Z]{2,4})+$\"\n",
    "res = re.fullmatch(pattern,name)\n",
    "if bool(res):\n",
    "    print(\"valid Email\")\n",
    "else:\n",
    "    print(\"Not valid\")"
   ]
  },
  {
   "cell_type": "code",
   "execution_count": 13,
   "id": "55124fca-f1ed-4c82-aff0-aa739e80fa5f",
   "metadata": {},
   "outputs": [
    {
     "name": "stdin",
     "output_type": "stream",
     "text": [
      " 27/02/2025\n"
     ]
    },
    {
     "name": "stdout",
     "output_type": "stream",
     "text": [
      "Not valid\n"
     ]
    }
   ],
   "source": [
    "# Date validation\n",
    "import re\n",
    "number = input()\n",
    "pattern = r\"(0[1-9]|12[1-9]|3[01])/(0[1-9]|1[0-2])/[0-9]{4}$\"\n",
    "res = re.fullmatch(pattern,number)\n",
    "if bool(res):\n",
    "    print(\"valid\")\n",
    "else:\n",
    "    print(\"Not valid\")"
   ]
  },
  {
   "cell_type": "code",
   "execution_count": null,
   "id": "955ac0ca-b7c3-477f-887c-e9e986705991",
   "metadata": {},
   "outputs": [],
   "source": []
  }
 ],
 "metadata": {
  "kernelspec": {
   "display_name": "Python 3 (ipykernel)",
   "language": "python",
   "name": "python3"
  },
  "language_info": {
   "codemirror_mode": {
    "name": "ipython",
    "version": 3
   },
   "file_extension": ".py",
   "mimetype": "text/x-python",
   "name": "python",
   "nbconvert_exporter": "python",
   "pygments_lexer": "ipython3",
   "version": "3.13.5"
  }
 },
 "nbformat": 4,
 "nbformat_minor": 5
}
