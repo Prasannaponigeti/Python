{
 "cells": [
  {
   "cell_type": "markdown",
   "id": "1c9111fa-f545-415a-8485-d38ba660a74d",
   "metadata": {},
   "source": [
    "#### user defined functions\n",
    "- without parameters and without return\n",
    "- without parameters and with return\n",
    "- with parameters and without return\n",
    "- with parameters and with return"
   ]
  },
  {
   "cell_type": "code",
   "execution_count": 17,
   "id": "72460508-a113-4347-81f8-ec35b36e1368",
   "metadata": {},
   "outputs": [
    {
     "name": "stdout",
     "output_type": "stream",
     "text": [
      "30\n",
      "None\n"
     ]
    }
   ],
   "source": [
    "# 1. without parameters and without return\n",
    "#function defination\n",
    "def addition():\n",
    "    a=10\n",
    "    b=20\n",
    "    print(a+b)\n",
    "#function calling\n",
    "res= addition()\n",
    "print(res)"
   ]
  },
  {
   "cell_type": "code",
   "execution_count": 18,
   "id": "5208d24d-91b7-4a15-80a4-2d3ff501c353",
   "metadata": {},
   "outputs": [
    {
     "name": "stdout",
     "output_type": "stream",
     "text": [
      "30\n"
     ]
    }
   ],
   "source": [
    "# 2.without parameters and with return\n",
    "def addition():\n",
    "    a=10\n",
    "    b=20\n",
    "    return(a+b)\n",
    "#function calling\n",
    "res= addition()\n",
    "print(res)"
   ]
  },
  {
   "cell_type": "code",
   "execution_count": 19,
   "id": "e0e49018-7fed-44f9-8ef8-144ed8cf5da9",
   "metadata": {},
   "outputs": [
    {
     "name": "stdout",
     "output_type": "stream",
     "text": [
      "30\n",
      "None\n"
     ]
    }
   ],
   "source": [
    "#3.with parameters and without return\n",
    "def addition(a, b):\n",
    "    print(a+b)\n",
    "#function calling\n",
    "res=addition(10,20)\n",
    "print(res)"
   ]
  },
  {
   "cell_type": "code",
   "execution_count": 9,
   "id": "0b1f639c-26ef-413d-b9f9-52fb365b19be",
   "metadata": {},
   "outputs": [
    {
     "name": "stdout",
     "output_type": "stream",
     "text": [
      "25\n"
     ]
    }
   ],
   "source": [
    "# 4.with parameters and with return\n",
    "def addition(a,b):\n",
    "    c=a+b\n",
    "    return c\n",
    "#function calling\n",
    "res=addition(10,15)\n",
    "print(res)"
   ]
  },
  {
   "cell_type": "markdown",
   "id": "328aadf1-7891-4c72-befd-3968bae464eb",
   "metadata": {},
   "source": [
    "#### Types of Arguments\n",
    "- Positional arguments\n",
    "- default arguments\n",
    "- keyword arguments\n",
    "- variable length arguments\n",
    "- variable keyword arguments\n"
   ]
  },
  {
   "cell_type": "code",
   "execution_count": 21,
   "id": "2c2d8733-2c47-4d53-a28f-5c77b93180eb",
   "metadata": {},
   "outputs": [
    {
     "name": "stdout",
     "output_type": "stream",
     "text": [
      "2.0\n"
     ]
    }
   ],
   "source": [
    "# 1. Positional arguments-same order lo values ne pass cheyali\n",
    "# function defination\n",
    "def division(a,b):\n",
    "    if b==0:\n",
    "        return \"zero division not possible\"\n",
    "    return a / b\n",
    "#function calling\n",
    "c,d=10,5\n",
    "res=division(c,d)     #here if we change the values to d,c the output will also change\n",
    "print(res)"
   ]
  },
  {
   "cell_type": "code",
   "execution_count": 13,
   "id": "3b10c7f0-73ed-40d2-8b4b-171c45b5b2f0",
   "metadata": {},
   "outputs": [
    {
     "name": "stdout",
     "output_type": "stream",
     "text": [
      "2.0\n"
     ]
    }
   ],
   "source": [
    "#2.keyword arguments-any order we can pass the values\n",
    "def division(a,b):\n",
    "    if b==0:\n",
    "        return \"zero division not possible\"\n",
    "    return a / b\n",
    "#function calling\n",
    "c,d=10,5\n",
    "res=division(b=d,a=c)\n",
    "print(res)\n",
    "    "
   ]
  },
  {
   "cell_type": "code",
   "execution_count": 20,
   "id": "45a80569-eaa2-42ed-a6c4-d24d1b0e5d0d",
   "metadata": {},
   "outputs": [
    {
     "name": "stdout",
     "output_type": "stream",
     "text": [
      "25\n"
     ]
    }
   ],
   "source": [
    "# 3 default arguments\n",
    "def addition(a,b,c=0):  #if we didnt give any value for c in function calling and we give it in parameters it takes that default value we give it in parameters\n",
    "    return a+b+c\n",
    "res=addition(10,12,3)\n",
    "print(res)"
   ]
  },
  {
   "cell_type": "code",
   "execution_count": 23,
   "id": "c1c3f847-b3f1-47f8-bde4-1363aa07095e",
   "metadata": {},
   "outputs": [
    {
     "name": "stdout",
     "output_type": "stream",
     "text": [
      "22 17 67\n"
     ]
    }
   ],
   "source": [
    "#default arguments\n",
    "def addition(a,b,c=0,d=0):  \n",
    "    return a+b+c+d\n",
    "res1=addition(10,12)\n",
    "res2=addition(10,12,-5)\n",
    "res3=addition(10,2,34,21)\n",
    "print (res1,res2,res3)"
   ]
  },
  {
   "cell_type": "code",
   "execution_count": 15,
   "id": "6c4a4746-4f4f-4dec-a4ff-2940bd4b4fae",
   "metadata": {},
   "outputs": [
    {
     "name": "stdout",
     "output_type": "stream",
     "text": [
      "<class 'tuple'>\n",
      "10 (15, 10, 20, 30, 40, 1, 2, 3, 4)\n",
      "125\n"
     ]
    }
   ],
   "source": [
    "#variable length argument\n",
    "def addition(a, *args): #we can take any variable here instead of args\n",
    "    print(type(args))\n",
    "    print( a,args)\n",
    "    s= 0\n",
    "    for num in args:\n",
    "        s=s+num\n",
    "    return s\n",
    "res=addition(10,15,10,20,30,40,1,2,3,4)\n",
    "print(res)"
   ]
  },
  {
   "cell_type": "code",
   "execution_count": 14,
   "id": "f7ab3f9b-1331-437a-8057-fb4a0d056a76",
   "metadata": {},
   "outputs": [
    {
     "name": "stdout",
     "output_type": "stream",
     "text": [
      "<class 'dict'>\n",
      "10 {'b': 10, 'c': 20}\n",
      "None\n"
     ]
    }
   ],
   "source": [
    "#variable  length keyword arguments\n",
    "def addition(a,**kwargs):\n",
    "    print(type(kwargs))\n",
    "    print(a,kwargs)\n",
    "print(addition(b=10, a=10, c=20))"
   ]
  },
  {
   "cell_type": "code",
   "execution_count": 18,
   "id": "7dd4ce26-b9e0-4c20-ae57-bf57d79d496a",
   "metadata": {},
   "outputs": [
    {
     "name": "stdout",
     "output_type": "stream",
     "text": [
      "<class 'dict'>\n",
      "40 {'b': 10, 'd': 10, 'c': 20}\n",
      "40\n"
     ]
    }
   ],
   "source": [
    "#variable  length keyword arguments\n",
    "def addition(a,**kwargs):\n",
    "    print(type(kwargs))\n",
    "    print(a,kwargs)\n",
    "    s=0\n",
    "    for val in kwargs.values():\n",
    "        s+=val\n",
    "    return s\n",
    "print(addition(40,b=10, d=10, c=20))"
   ]
  },
  {
   "cell_type": "markdown",
   "id": "e5343253-e84f-46e0-b13c-57cfb995f5bc",
   "metadata": {},
   "source": [
    "#### scope of variables\n",
    "- Local variables- The variables can access the inside function, then those variables called as local variables.\n",
    "- Global variable-The variables are defined  outside the function and we can access those values inside the function but cannot be modify\n",
    "- Non local variable- the variables can defined inside nested function, those variables are called non local variables. "
   ]
  },
  {
   "cell_type": "code",
   "execution_count": 19,
   "id": "77dc3825-bbb6-4580-a309-bfff4832bf73",
   "metadata": {},
   "outputs": [
    {
     "name": "stdout",
     "output_type": "stream",
     "text": [
      "10\n"
     ]
    },
    {
     "ename": "NameError",
     "evalue": "name 'x' is not defined",
     "output_type": "error",
     "traceback": [
      "\u001b[1;31m---------------------------------------------------------------------------\u001b[0m",
      "\u001b[1;31mNameError\u001b[0m                                 Traceback (most recent call last)",
      "Cell \u001b[1;32mIn[19], line 6\u001b[0m\n\u001b[0;32m      4\u001b[0m     \u001b[38;5;28mprint\u001b[39m(x)\n\u001b[0;32m      5\u001b[0m fun()\n\u001b[1;32m----> 6\u001b[0m \u001b[38;5;28mprint\u001b[39m(x)\n",
      "\u001b[1;31mNameError\u001b[0m: name 'x' is not defined"
     ]
    }
   ],
   "source": [
    "#local variables\n",
    "def fun():\n",
    "    x=5\n",
    "    x=x+5\n",
    "    print(x)\n",
    "fun()\n",
    "print(x) #name error"
   ]
  },
  {
   "cell_type": "code",
   "execution_count": 20,
   "id": "3dc1e902-2d3c-42e6-a715-458b3f57b907",
   "metadata": {},
   "outputs": [
    {
     "name": "stdout",
     "output_type": "stream",
     "text": [
      "10\n",
      "11\n"
     ]
    }
   ],
   "source": [
    "#Global variable\n",
    "x=10\n",
    "def fun():\n",
    "    print(x)          # we cannot modify  global variables inside function\n",
    "fun()    \n",
    "x=x+1\n",
    "print(x)"
   ]
  },
  {
   "cell_type": "code",
   "execution_count": 23,
   "id": "69d6a810-56b3-4ba2-b1ed-1c1b6fe29910",
   "metadata": {},
   "outputs": [
    {
     "ename": "UnboundLocalError",
     "evalue": "cannot access local variable 'x' where it is not associated with a value",
     "output_type": "error",
     "traceback": [
      "\u001b[1;31m---------------------------------------------------------------------------\u001b[0m",
      "\u001b[1;31mUnboundLocalError\u001b[0m                         Traceback (most recent call last)",
      "Cell \u001b[1;32mIn[23], line 6\u001b[0m\n\u001b[0;32m      4\u001b[0m     x\u001b[38;5;241m=\u001b[39mx\u001b[38;5;241m+\u001b[39m\u001b[38;5;241m2\u001b[39m\n\u001b[0;32m      5\u001b[0m     \u001b[38;5;28mprint\u001b[39m(x)\n\u001b[1;32m----> 6\u001b[0m fun()\n",
      "Cell \u001b[1;32mIn[23], line 4\u001b[0m, in \u001b[0;36mfun\u001b[1;34m()\u001b[0m\n\u001b[0;32m      3\u001b[0m \u001b[38;5;28;01mdef\u001b[39;00m\u001b[38;5;250m \u001b[39m\u001b[38;5;21mfun\u001b[39m():\n\u001b[1;32m----> 4\u001b[0m     x\u001b[38;5;241m=\u001b[39mx\u001b[38;5;241m+\u001b[39m\u001b[38;5;241m2\u001b[39m\n\u001b[0;32m      5\u001b[0m     \u001b[38;5;28mprint\u001b[39m(x)\n",
      "\u001b[1;31mUnboundLocalError\u001b[0m: cannot access local variable 'x' where it is not associated with a value"
     ]
    }
   ],
   "source": [
    "#Global variable\n",
    "x=10 #global variable\n",
    "def fun():\n",
    "    x=x+2\n",
    "    print(x)\n",
    "fun()    \n"
   ]
  },
  {
   "cell_type": "code",
   "execution_count": 25,
   "id": "fb55e4d5-d698-4800-8622-33188d62621e",
   "metadata": {},
   "outputs": [
    {
     "name": "stdout",
     "output_type": "stream",
     "text": [
      "12\n",
      "13\n"
     ]
    }
   ],
   "source": [
    "#Global variable modify inside function by using 'global' keyword\n",
    "x=10\n",
    "def fun():\n",
    "    global x\n",
    "    x=x+2\n",
    "    print(x)          \n",
    "fun()    \n",
    "x=x+1\n",
    "print(x)"
   ]
  },
  {
   "cell_type": "code",
   "execution_count": 26,
   "id": "c42e292c-35c6-405d-a1f1-ff3028cefb8a",
   "metadata": {},
   "outputs": [
    {
     "name": "stdout",
     "output_type": "stream",
     "text": [
      "inner outer Global\n",
      "outer Global\n",
      "Global\n"
     ]
    }
   ],
   "source": [
    "#non local variable\n",
    "x=\"Global\"   #global variable\n",
    "def outer():\n",
    "    y= \"outer\"   #local variable\n",
    "    def inner():\n",
    "        z=\"inner\"  #non local variable\n",
    "        print(z, y, x)\n",
    "    inner()\n",
    "    print(y, x)\n",
    "outer()\n",
    "print(x)"
   ]
  },
  {
   "cell_type": "code",
   "execution_count": 2,
   "id": "56abf749-5829-40dd-9985-35fa98a80569",
   "metadata": {},
   "outputs": [
    {
     "name": "stdout",
     "output_type": "stream",
     "text": [
      "[1, 3, 5, 7, 9, 11, 13, 15, 17, 19, 21, 23, 25, 27, 29, 31, 33, 35, 37, 39]\n"
     ]
    }
   ],
   "source": [
    "#write a function program that returns first n odd numbers\n",
    "n=10\n",
    "n=20\n",
    "l=[]\n",
    "for i in range(n):\n",
    "    l.append(2*i+1)\n",
    "print(l)"
   ]
  },
  {
   "cell_type": "code",
   "execution_count": 4,
   "id": "c6ba7e30-ca56-4706-bb3f-76f28918aff7",
   "metadata": {},
   "outputs": [
    {
     "name": "stdout",
     "output_type": "stream",
     "text": [
      "[0, 2, 4, 6, 8, 10, 12, 14, 16, 18]\n"
     ]
    }
   ],
   "source": [
    "#write a function program that returns first n even numbers\n",
    "def first_n_even(n):\n",
    "    l=[]\n",
    "    for i in range(n):\n",
    "        l.append(2*i)\n",
    "    return l\n",
    "res=first_n_even(10)\n",
    "print(res)"
   ]
  },
  {
   "cell_type": "code",
   "execution_count": 5,
   "id": "a968e621-75dd-4de6-b452-ea3d05714796",
   "metadata": {},
   "outputs": [
    {
     "name": "stdout",
     "output_type": "stream",
     "text": [
      "[1, 3, 5, 7, 9, 11, 13, 15, 17, 19]\n"
     ]
    }
   ],
   "source": [
    "#write a function program that returns first n odd numbers\n",
    "def first_n_odd(n):\n",
    "    l=[]\n",
    "    for i in range(n):\n",
    "        l.append(2*i+1)\n",
    "    return l\n",
    "res=first_n_odd(10)\n",
    "print(res)"
   ]
  },
  {
   "cell_type": "code",
   "execution_count": 6,
   "id": "44e7c12b-fce8-44bf-9258-711c5485f27b",
   "metadata": {},
   "outputs": [
    {
     "name": "stdout",
     "output_type": "stream",
     "text": [
      "100\n",
      "[1, 3, 5, 7, 9, 11, 13, 15, 17, 19]\n"
     ]
    }
   ],
   "source": [
    "#write a function program that returns first n odd numbers\n",
    "def first_n_odd(n):\n",
    "    l=[]\n",
    "    s=0\n",
    "    for i in range(n):\n",
    "        l.append(2*i+1)\n",
    "        s+=2*i+1  #whenever we want to assign multiple values we have to write like that\n",
    "    return l, s\n",
    "l,s=first_n_odd(10)\n",
    "print(s)\n",
    "print(l)"
   ]
  },
  {
   "cell_type": "code",
   "execution_count": null,
   "id": "05184a05-6a71-47f7-98ef-3cd1e74435f3",
   "metadata": {},
   "outputs": [],
   "source": []
  }
 ],
 "metadata": {
  "kernelspec": {
   "display_name": "Python 3 (ipykernel)",
   "language": "python",
   "name": "python3"
  },
  "language_info": {
   "codemirror_mode": {
    "name": "ipython",
    "version": 3
   },
   "file_extension": ".py",
   "mimetype": "text/x-python",
   "name": "python",
   "nbconvert_exporter": "python",
   "pygments_lexer": "ipython3",
   "version": "3.13.5"
  }
 },
 "nbformat": 4,
 "nbformat_minor": 5
}
