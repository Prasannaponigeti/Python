{
 "cells": [
  {
   "cell_type": "code",
   "execution_count": 7,
   "id": "5bf9a0c0-c781-46a6-b28f-b8f88761afa3",
   "metadata": {},
   "outputs": [
    {
     "name": "stdin",
     "output_type": "stream",
     "text": [
      " 2\n"
     ]
    },
    {
     "name": "stdout",
     "output_type": "stream",
     "text": [
      "program done\n"
     ]
    }
   ],
   "source": [
    "#check whether the number is zero#\n",
    "#if condition checking#\n",
    "num= int(input())\n",
    "if num==0:\n",
    "    print(\"the input number is zero\")\n",
    "print(\"program done\")"
   ]
  },
  {
   "cell_type": "code",
   "execution_count": 8,
   "id": "5fdfb98b-90ef-4be6-a351-3d0fe1617ef9",
   "metadata": {},
   "outputs": [
    {
     "name": "stdin",
     "output_type": "stream",
     "text": [
      " 0\n"
     ]
    },
    {
     "name": "stdout",
     "output_type": "stream",
     "text": [
      "the input number is zero\n",
      "program done\n"
     ]
    }
   ],
   "source": [
    "#check whether the number is zero#\n",
    "#if condition checking#\n",
    "num= int(input())\n",
    "if num==0:\n",
    "    print(\"the input number is zero\")\n",
    "print(\"program done\")"
   ]
  },
  {
   "cell_type": "code",
   "execution_count": 5,
   "id": "d250b602-d322-4931-a7c0-0800745c3111",
   "metadata": {},
   "outputs": [
    {
     "name": "stdout",
     "output_type": "stream",
     "text": [
      "23\n"
     ]
    }
   ],
   "source": [
    "a=20\n",
    "b=3\n",
    "if a==3:\n",
    "    print(a+30)\n",
    "print(a+b)\n",
    "    "
   ]
  },
  {
   "cell_type": "code",
   "execution_count": 6,
   "id": "36598f8a-808e-4186-b821-17f1f1fd1be8",
   "metadata": {},
   "outputs": [
    {
     "name": "stdout",
     "output_type": "stream",
     "text": [
      "50\n",
      "23\n"
     ]
    }
   ],
   "source": [
    "a=20\n",
    "b=3\n",
    "if a==20:\n",
    "    print(a+30)\n",
    "print(a+b)\n",
    "    "
   ]
  },
  {
   "cell_type": "code",
   "execution_count": 2,
   "id": "b38ef2a8-8ad5-461d-86cf-f502df9cdd5f",
   "metadata": {},
   "outputs": [
    {
     "name": "stdin",
     "output_type": "stream",
     "text": [
      " 3\n"
     ]
    },
    {
     "name": "stdout",
     "output_type": "stream",
     "text": [
      "3 is a positive number\n"
     ]
    }
   ],
   "source": [
    "#if else condition#\n",
    "#write a program to check whether a number is positive or negative#\n",
    "num=int(input())\n",
    "if num>=0:\n",
    "    print(f'{num} is a positive number')\n",
    "else:\n",
    "    print(f'{num} is a negative number')"
   ]
  },
  {
   "cell_type": "code",
   "execution_count": 9,
   "id": "60e59680-2fed-4f97-8d2e-bd3bdac27e3f",
   "metadata": {},
   "outputs": [
    {
     "name": "stdin",
     "output_type": "stream",
     "text": [
      " -2\n"
     ]
    },
    {
     "name": "stdout",
     "output_type": "stream",
     "text": [
      "-2 is a negative number\n"
     ]
    }
   ],
   "source": [
    "#if else condition#\n",
    "#write a program to check whether a number is positive or negative#\n",
    "num=int(input())\n",
    "if num>=0:\n",
    "    print(f'{num} is a positive number')\n",
    "else:\n",
    "    print(f'{num} is a negative number')"
   ]
  },
  {
   "cell_type": "code",
   "execution_count": 12,
   "id": "82aba346-937b-41e5-9ef8-88bd5cb4d52e",
   "metadata": {},
   "outputs": [
    {
     "name": "stdin",
     "output_type": "stream",
     "text": [
      " -8\n"
     ]
    },
    {
     "name": "stdout",
     "output_type": "stream",
     "text": [
      "Negative\n"
     ]
    }
   ],
   "source": [
    "num=int(input())\n",
    "if num > 0:\n",
    "    print('Positive')\n",
    "elif num < 0:\n",
    "    print('Negative')\n",
    "else:\n",
    "    print('Zero')"
   ]
  },
  {
   "cell_type": "code",
   "execution_count": 14,
   "id": "fcb30441-ac15-4a94-8418-0790db9b0cf5",
   "metadata": {},
   "outputs": [
    {
     "name": "stdin",
     "output_type": "stream",
     "text": [
      " 3\n"
     ]
    },
    {
     "name": "stdout",
     "output_type": "stream",
     "text": [
      "Given number is Odd\n"
     ]
    }
   ],
   "source": [
    "#check whether a number is even or odd#\n",
    "num = int(input()) \n",
    "if num % 2 == 0: \n",
    "  print(\"Given number is Even\") \n",
    "else: \n",
    "  print(\"Given number is Odd\")"
   ]
  },
  {
   "cell_type": "code",
   "execution_count": 15,
   "id": "06b080fc-a05f-473a-b58a-8145e4ae094d",
   "metadata": {},
   "outputs": [
    {
     "name": "stdout",
     "output_type": "stream",
     "text": [
      "9\n"
     ]
    }
   ],
   "source": [
    "#find the greater of two numbers#\n",
    "a,b = 2, 9\n",
    "if a>b:\n",
    "  print(a)\n",
    "else:\n",
    "  print(b)"
   ]
  },
  {
   "cell_type": "code",
   "execution_count": 17,
   "id": "38037c73-8fdb-4026-9a1c-70a919880372",
   "metadata": {},
   "outputs": [
    {
     "name": "stdout",
     "output_type": "stream",
     "text": [
      "9\n"
     ]
    }
   ],
   "source": [
    "a, b= 2, 9\n",
    "print(max(a, b))"
   ]
  },
  {
   "cell_type": "code",
   "execution_count": 18,
   "id": "736cf9ca-d40f-4e6c-9c4b-446c4e9b30c4",
   "metadata": {},
   "outputs": [
    {
     "name": "stdout",
     "output_type": "stream",
     "text": [
      "24\n"
     ]
    }
   ],
   "source": [
    "#find the largest amomg three numbers#\n",
    "num1, num2, num3 = 3 , 15 , 24\n",
    "if num1 >= num2 and num1 >= num3:\n",
    "  print(num1)\n",
    "elif num2 >= num1 and num2 >= num3:\n",
    "  print(num2)\n",
    "else:\n",
    "  print(num3)"
   ]
  },
  {
   "cell_type": "code",
   "execution_count": 3,
   "id": "fa8bb523-1ffb-4f0b-89a2-4d75f36a17cc",
   "metadata": {},
   "outputs": [
    {
     "name": "stdin",
     "output_type": "stream",
     "text": [
      " 55\n"
     ]
    },
    {
     "name": "stdout",
     "output_type": "stream",
     "text": [
      "55 is divisible by  5 and 11.\n"
     ]
    }
   ],
   "source": [
    "#check if a number is divisible by 5 & 11\n",
    "num = int(input())\n",
    "if num % 5 == 0 and num % 11 == 0:\n",
    "    print(f\"{num} is divisible by  5 and 11.\")\n",
    "else:\n",
    "    print(f\"{num} is not divisible by  5 and 11.\")"
   ]
  },
  {
   "cell_type": "code",
   "execution_count": 23,
   "id": "4c9ce49f-7ba7-4a51-ac38-9f554cfdbb76",
   "metadata": {},
   "outputs": [
    {
     "name": "stdin",
     "output_type": "stream",
     "text": [
      " 2025\n"
     ]
    },
    {
     "name": "stdout",
     "output_type": "stream",
     "text": [
      "2025 is not leap year\n"
     ]
    }
   ],
   "source": [
    "#check whether the year is leap year or not#\n",
    "year=int(input())\n",
    "if (year % 4==0 and year %100!=0) or year % 400==0:\n",
    "    print(f'{year} is leap year')\n",
    "else:\n",
    "    print(f'{year} is not leap year')"
   ]
  },
  {
   "cell_type": "code",
   "execution_count": 3,
   "id": "d293ec1c-b755-4ecd-903a-8f67d8c7fb2a",
   "metadata": {},
   "outputs": [
    {
     "name": "stdin",
     "output_type": "stream",
     "text": [
      " e\n"
     ]
    },
    {
     "name": "stdout",
     "output_type": "stream",
     "text": [
      "e is a vowel\n"
     ]
    }
   ],
   "source": [
    "#check whether a character is a vowel or a consonant#\n",
    "p = str(input())\n",
    "if p == 'a' or p == 'e' or p == 'i' or p == 'o' or p == 'u' or p == 'A' or p == 'E' or p == 'I' or p == 'O' or p == 'U':\n",
    "    print(p, \"is a vowel\")  \n",
    "else:\n",
    "    print(p, \"is a consonant\")"
   ]
  },
  {
   "cell_type": "code",
   "execution_count": 8,
   "id": "3e1196d6-4e85-4eeb-9676-a40048b102b8",
   "metadata": {},
   "outputs": [
    {
     "name": "stdin",
     "output_type": "stream",
     "text": [
      " 21\n"
     ]
    },
    {
     "name": "stdout",
     "output_type": "stream",
     "text": [
      "21 is multiple of 3 and 7\n"
     ]
    }
   ],
   "source": [
    "#check whether a number is a multiple of 3 or 7#\n",
    "num= int(input())\n",
    "if num % 3 ==0 and num % 7==0:\n",
    "    print(f'{num} is multiple of 3 and 7')\n",
    "else:\n",
    "    print(f'{num} is not multiple of 3 and 7')"
   ]
  },
  {
   "cell_type": "code",
   "execution_count": 4,
   "id": "6e19b44d-9763-4b51-8d02-e6c62f46e49d",
   "metadata": {},
   "outputs": [
    {
     "name": "stdin",
     "output_type": "stream",
     "text": [
      " 22\n"
     ]
    },
    {
     "name": "stdout",
     "output_type": "stream",
     "text": [
      "22 years person is eligible for vote\n"
     ]
    }
   ],
   "source": [
    "#check whether the person is eligible for vote#\n",
    "age=int(input())\n",
    "if age>=18:\n",
    "    print(f\"{age} years person is eligible for vote\")\n",
    "else:\n",
    "    print(f\"{age} years person is not eligible for vote\")"
   ]
  },
  {
   "cell_type": "code",
   "execution_count": 2,
   "id": "28ade839-833e-4c8d-b928-9ec22d9a8ea5",
   "metadata": {},
   "outputs": [
    {
     "name": "stdin",
     "output_type": "stream",
     "text": [
      " p\n"
     ]
    },
    {
     "name": "stdout",
     "output_type": "stream",
     "text": [
      "The character is a lowercase letter\n"
     ]
    }
   ],
   "source": [
    "#check whether a character is uppercase, lowercase,digit,or special symbol#\n",
    "r = input()\n",
    "if r.isupper():\n",
    "    print(\"The character is an uppercase letter\")\n",
    "elif r.islower():\n",
    "    print(\"The character is a lowercase letter\")\n",
    "elif r.isdigit():\n",
    "    print(\"The character is a digit\")\n",
    "else:\n",
    "    print(\"The character is a special symbol\")"
   ]
  },
  {
   "cell_type": "code",
   "execution_count": null,
   "id": "00c3ede1-1263-44ba-ba37-5f9518f19f2a",
   "metadata": {},
   "outputs": [],
   "source": []
  }
 ],
 "metadata": {
  "kernelspec": {
   "display_name": "Python 3 (ipykernel)",
   "language": "python",
   "name": "python3"
  },
  "language_info": {
   "codemirror_mode": {
    "name": "ipython",
    "version": 3
   },
   "file_extension": ".py",
   "mimetype": "text/x-python",
   "name": "python",
   "nbconvert_exporter": "python",
   "pygments_lexer": "ipython3",
   "version": "3.13.5"
  }
 },
 "nbformat": 4,
 "nbformat_minor": 5
}
