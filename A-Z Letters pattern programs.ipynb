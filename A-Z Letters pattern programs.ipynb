{
 "cells": [
  {
   "cell_type": "code",
   "execution_count": 1,
   "id": "9db301fb-36f5-4af1-a473-8eb64cf41702",
   "metadata": {},
   "outputs": [
    {
     "name": "stdin",
     "output_type": "stream",
     "text": [
      " 10\n"
     ]
    },
    {
     "name": "stdout",
     "output_type": "stream",
     "text": [
      "  * * * * * * * *   \n",
      "*                 * \n",
      "*                 * \n",
      "*                 * \n",
      "*                 * \n",
      "* * * * * * * * * * \n",
      "*                 * \n",
      "*                 * \n",
      "*                 * \n",
      "*                 * \n"
     ]
    }
   ],
   "source": [
    "#pattern program to print letter 'A'\n",
    "n=int(input())\n",
    "for i in range(n):\n",
    "    for j in range(n):\n",
    "        if ((j==0 or j==n-1) and i!=0) or (i==0 or i==n/2) and (j<n-1 and j>0):\n",
    "            print(\"*\", end =\" \")\n",
    "        else:\n",
    "            print(\" \", end=\" \")\n",
    "    print()"
   ]
  },
  {
   "cell_type": "code",
   "execution_count": 2,
   "id": "975ad3d7-fce8-447a-a37d-ecb8e888b2d3",
   "metadata": {},
   "outputs": [
    {
     "name": "stdin",
     "output_type": "stream",
     "text": [
      " 10\n"
     ]
    },
    {
     "name": "stdout",
     "output_type": "stream",
     "text": [
      "* * * * * * * * *   \n",
      "*                 * \n",
      "*                 * \n",
      "*                 * \n",
      "*                 * \n",
      "* * * * * * * * *   \n",
      "*                 * \n",
      "*                 * \n",
      "*                 * \n",
      "* * * * * * * * *   \n"
     ]
    }
   ],
   "source": [
    "#pattern program to print letter 'B'\n",
    "n=int(input())\n",
    "for i in range(n):\n",
    "    for j in range(n):\n",
    "        if (j==0) or ((i==0 or i==n/2 or i==n-1) and (j>0 and j<n-1)) or ((j==n-1) and (i>0 and i<n-1) and (i!=n/2)):\n",
    "            print(\"*\", end =\" \")\n",
    "        else:\n",
    "            print(\" \", end=\" \")\n",
    "    print()"
   ]
  },
  {
   "cell_type": "code",
   "execution_count": 3,
   "id": "1c94360c-2df5-43d5-81ba-5dd1c5a710c6",
   "metadata": {},
   "outputs": [
    {
     "name": "stdin",
     "output_type": "stream",
     "text": [
      " 10\n"
     ]
    },
    {
     "name": "stdout",
     "output_type": "stream",
     "text": [
      "  * * * * * * * * * * * * \n",
      "*                         \n",
      "*                         \n",
      "*                         \n",
      "*                         \n",
      "*                         \n",
      "*                         \n",
      "*                         \n",
      "*                         \n",
      "  * * * * * * * * * * * * \n"
     ]
    }
   ],
   "source": [
    "#pattern program to print letter 'C'\n",
    "n=int(input())\n",
    "for i in range(n):\n",
    "    for j in range(n+3):\n",
    "        if ((i==0 or i==n-1) and j>0  or (j==0 and (i!=0 and i!=n-1))):\n",
    "            print(\"*\", end=\" \")\n",
    "        else:\n",
    "            print(\" \", end=\" \")\n",
    "    print()"
   ]
  },
  {
   "cell_type": "code",
   "execution_count": 4,
   "id": "8f9c1a54-611b-4d94-af3c-ae16a97d1672",
   "metadata": {},
   "outputs": [
    {
     "name": "stdin",
     "output_type": "stream",
     "text": [
      " 10\n"
     ]
    },
    {
     "name": "stdout",
     "output_type": "stream",
     "text": [
      "* * * * * * *   \n",
      "*             * \n",
      "*             * \n",
      "*             * \n",
      "*             * \n",
      "*             * \n",
      "*             * \n",
      "*             * \n",
      "*             * \n",
      "* * * * * * *   \n"
     ]
    }
   ],
   "source": [
    "#pattern program to print letter 'D'\n",
    "n=int(input())\n",
    "for i in range(n):\n",
    "    for j in range(n-2):\n",
    "        if ((i==0 or i==n-1) and (j>0 and j<n-3)) or (j==0 or (j==n-3 and (i!=0 and i!=n-1))):\n",
    "            print(\"*\", end =\" \")\n",
    "        else:\n",
    "            print(\" \", end= \" \")\n",
    "    print()"
   ]
  },
  {
   "cell_type": "code",
   "execution_count": 5,
   "id": "10419384-bbad-4d5f-bb75-6815e492bcb3",
   "metadata": {},
   "outputs": [
    {
     "name": "stdin",
     "output_type": "stream",
     "text": [
      " 10\n"
     ]
    },
    {
     "name": "stdout",
     "output_type": "stream",
     "text": [
      "* * * * * * * * * * \n",
      "*                   \n",
      "*                   \n",
      "*                   \n",
      "*                   \n",
      "* * * * * * * * * * \n",
      "*                   \n",
      "*                   \n",
      "*                   \n",
      "* * * * * * * * * * \n"
     ]
    }
   ],
   "source": [
    "#pattern program to print letter 'E'\n",
    "n=int(input())\n",
    "for i in range(n):\n",
    "    for j in range(n):\n",
    "        if i==0 or j==0 or i==n-1:\n",
    "            print(\"*\", end= \" \")\n",
    "        elif i==n//2:\n",
    "            print(\"*\", end= \" \" )\n",
    "        else:\n",
    "            print(\" \", end= \" \")\n",
    "    print()"
   ]
  },
  {
   "cell_type": "code",
   "execution_count": 6,
   "id": "cb55e3db-161d-490e-8a3d-3d29e90172d9",
   "metadata": {},
   "outputs": [
    {
     "name": "stdin",
     "output_type": "stream",
     "text": [
      " 10\n"
     ]
    },
    {
     "name": "stdout",
     "output_type": "stream",
     "text": [
      "* * * * * * * * * * \n",
      "*                   \n",
      "*                   \n",
      "*                   \n",
      "*                   \n",
      "* * * * * * * * * * \n",
      "*                   \n",
      "*                   \n",
      "*                   \n",
      "*                   \n"
     ]
    }
   ],
   "source": [
    "#pattern program to print letter 'F'\n",
    "n=int(input())\n",
    "for i in range(n):\n",
    "    for j in range(n):\n",
    "        if i==0 or j==0:\n",
    "            print(\"*\", end= \" \")\n",
    "        elif i==n//2:\n",
    "            print(\"*\", end=\" \")\n",
    "        else:\n",
    "            print(\" \", end= \" \")\n",
    "    print()"
   ]
  },
  {
   "cell_type": "code",
   "execution_count": 9,
   "id": "861339fb-966b-49d8-a266-a6f664d61875",
   "metadata": {},
   "outputs": [
    {
     "name": "stdout",
     "output_type": "stream",
     "text": [
      "* * * * * \n",
      "*         \n",
      "*         \n",
      "*         \n",
      "*   * * * \n",
      "*       * \n",
      "* * * * * \n"
     ]
    }
   ],
   "source": [
    "#pattern program to print letter 'G'\n",
    "for i in range(7):\n",
    "    for j in range(5):\n",
    "        if i==0 or j==0 or i==6  or (i==4 and j!=1) or (i==5 and j==4) :\n",
    "            print(\"*\", end= \" \")\n",
    "        else:\n",
    "            print(\" \", end= \" \")\n",
    "    print()"
   ]
  },
  {
   "cell_type": "code",
   "execution_count": 8,
   "id": "cd5796aa-837b-49d5-8fd0-09723fa03040",
   "metadata": {},
   "outputs": [
    {
     "name": "stdin",
     "output_type": "stream",
     "text": [
      " 10\n"
     ]
    },
    {
     "name": "stdout",
     "output_type": "stream",
     "text": [
      "*                 * \n",
      "*                 * \n",
      "*                 * \n",
      "*                 * \n",
      "*                 * \n",
      "* * * * * * * * * * \n",
      "*                 * \n",
      "*                 * \n",
      "*                 * \n",
      "*                 * \n"
     ]
    }
   ],
   "source": [
    "#pattern program to print letter 'H'\n",
    "n=int(input())\n",
    "for i in range(n):\n",
    "    for j in range(n):\n",
    "        if j==0 or j==n-1:\n",
    "            print(\"*\",end= \" \")\n",
    "        elif i==n/2:\n",
    "            print(\"*\", end= \" \")\n",
    "        else:\n",
    "            print(\" \", end= \" \")\n",
    "    print()"
   ]
  },
  {
   "cell_type": "code",
   "execution_count": 27,
   "id": "e3269957-84a4-44a2-9090-1e202d469c16",
   "metadata": {},
   "outputs": [
    {
     "name": "stdin",
     "output_type": "stream",
     "text": [
      " 10\n"
     ]
    },
    {
     "name": "stdout",
     "output_type": "stream",
     "text": [
      "* * * * * * * * * * \n",
      "          *         \n",
      "          *         \n",
      "          *         \n",
      "          *         \n",
      "          *         \n",
      "          *         \n",
      "          *         \n",
      "          *         \n",
      "* * * * * * * * * * \n"
     ]
    }
   ],
   "source": [
    "#pattern program to print letter 'I'\n",
    "n=int(input())\n",
    "for i in range(n):\n",
    "    for j in range(n):\n",
    "        if i==0 or i==n-1  and j!=i-n :\n",
    "            print(\"*\", end=\" \")\n",
    "        elif j==n//2:\n",
    "            print(\"*\", end=\" \")\n",
    "        else:\n",
    "            print(\" \", end= \" \")\n",
    "    print()"
   ]
  },
  {
   "cell_type": "code",
   "execution_count": 29,
   "id": "e2e7d7f9-4983-42a9-9fe6-f530771eb3b5",
   "metadata": {},
   "outputs": [
    {
     "name": "stdin",
     "output_type": "stream",
     "text": [
      " 10\n"
     ]
    },
    {
     "name": "stdout",
     "output_type": "stream",
     "text": [
      "* * * * * * * * * * \n",
      "          *         \n",
      "          *         \n",
      "          *         \n",
      "          *         \n",
      "          *         \n",
      "          *         \n",
      "          *         \n",
      "          *         \n",
      "* * * * * *         \n"
     ]
    }
   ],
   "source": [
    "#pattern program to print letter 'J'\n",
    "n=int(input())\n",
    "for i in range(n):\n",
    "    for j in range(n):\n",
    "        if ((i==0) or (i==n-1 and j<=n//2) or (j==n//2)):\n",
    "            print(\"*\", end= \" \")\n",
    "        else:\n",
    "            print(\" \", end=\" \")\n",
    "    print()"
   ]
  },
  {
   "cell_type": "code",
   "execution_count": 30,
   "id": "4f2500e7-06c6-41bf-8770-46505433f8c7",
   "metadata": {},
   "outputs": [
    {
     "name": "stdin",
     "output_type": "stream",
     "text": [
      " 10\n"
     ]
    },
    {
     "name": "stdout",
     "output_type": "stream",
     "text": [
      "*         *         \n",
      "*       *           \n",
      "*     *             \n",
      "*   *               \n",
      "* *                 \n",
      "*   *               \n",
      "*     *             \n",
      "*       *           \n",
      "*         *         \n",
      "*           *       \n"
     ]
    }
   ],
   "source": [
    "#pattern program to print letter 'K'\n",
    "n=int(input())\n",
    "s=0\n",
    "p=n/2\n",
    "for i in range(n):\n",
    "    for j in range(n):\n",
    "        if j==0 or i==j+n//3 and j>0:\n",
    "            print(\"*\", end=\" \")\n",
    "        elif i==s and j==p:\n",
    "            print(\"*\", end=\" \")\n",
    "            s=s+1\n",
    "            p=p-1\n",
    "        else:\n",
    "            print(\" \", end=\" \")\n",
    "    print()"
   ]
  },
  {
   "cell_type": "code",
   "execution_count": 34,
   "id": "f319c620-5958-4b39-993f-0ea2bcce928a",
   "metadata": {},
   "outputs": [
    {
     "name": "stdin",
     "output_type": "stream",
     "text": [
      " 10\n"
     ]
    },
    {
     "name": "stdout",
     "output_type": "stream",
     "text": [
      "*                   \n",
      "*                   \n",
      "*                   \n",
      "*                   \n",
      "*                   \n",
      "*                   \n",
      "*                   \n",
      "*                   \n",
      "*                   \n",
      "* * * * * * * * * * \n"
     ]
    }
   ],
   "source": [
    "#pattern program to print letter 'L'\n",
    "n =int(input())\n",
    "for i in range(n):\n",
    "    for j in range(n):\n",
    "        if j==0 or i==n-1:\n",
    "            print(\"*\", end=\" \")\n",
    "        else:\n",
    "            print(\" \", end= \" \")\n",
    "        \n",
    "    print()\n"
   ]
  },
  {
   "cell_type": "code",
   "execution_count": 22,
   "id": "29290006-2f7b-4535-b21b-771bb325631b",
   "metadata": {},
   "outputs": [
    {
     "name": "stdin",
     "output_type": "stream",
     "text": [
      " 7\n"
     ]
    },
    {
     "name": "stdout",
     "output_type": "stream",
     "text": [
      "*           * \n",
      "* *       * * \n",
      "*   *   *   * \n",
      "*     *     * \n",
      "*           * \n",
      "*           * \n",
      "*           * \n"
     ]
    }
   ],
   "source": [
    "#pattern program to print letter 'M'\n",
    "n = int(input())\n",
    "\n",
    "for i in range(n):\n",
    "    for j in range(n):\n",
    "        if j == 0 or j == n - 1:\n",
    "            print(\"*\", end=\" \")\n",
    "        elif i == j and j <= n // 2:\n",
    "            print(\"*\", end=\" \")\n",
    "        elif i + j == n - 1 and j >= n // 2:\n",
    "            print(\"*\", end=\" \")\n",
    "        else:\n",
    "            print(\" \", end=\" \")\n",
    "    print()\n"
   ]
  },
  {
   "cell_type": "code",
   "execution_count": 38,
   "id": "69ba7ecd-1223-475b-97ea-0773f1e86fa8",
   "metadata": {},
   "outputs": [
    {
     "name": "stdin",
     "output_type": "stream",
     "text": [
      " 10\n"
     ]
    },
    {
     "name": "stdout",
     "output_type": "stream",
     "text": [
      "*                 * \n",
      "* *               * \n",
      "*   *             * \n",
      "*     *           * \n",
      "*       *         * \n",
      "*         *       * \n",
      "*           *     * \n",
      "*             *   * \n",
      "*               * * \n",
      "*                 * \n"
     ]
    }
   ],
   "source": [
    "#pattern program to print letter 'N'\n",
    "n =int(input())\n",
    "for i in range(n):\n",
    "    for j in range(n):\n",
    "        if j == 0 or j == n - 1 or i == j:\n",
    "            print(\"*\", end=\" \")\n",
    "        else:\n",
    "            print(\" \", end=\" \")\n",
    "    print()"
   ]
  },
  {
   "cell_type": "code",
   "execution_count": 31,
   "id": "3ffa3861-2f25-4557-a949-4960d0ac84a0",
   "metadata": {},
   "outputs": [
    {
     "name": "stdin",
     "output_type": "stream",
     "text": [
      " 10\n"
     ]
    },
    {
     "name": "stdout",
     "output_type": "stream",
     "text": [
      "  * * * * * * * *   \n",
      "*                 * \n",
      "*                 * \n",
      "*                 * \n",
      "*                 * \n",
      "*                 * \n",
      "*                 * \n",
      "*                 * \n",
      "*                 * \n",
      "  * * * * * * * *   \n"
     ]
    }
   ],
   "source": [
    "#pattern program to print letter 'O'\n",
    "n=int(input())\n",
    "for i in range(n):\n",
    "    for j in range(n):\n",
    "        if ((i==0 and (j!=0 and j!=n-1)) or (i==n-1  and (j!=0 and j!=n-1)) or (j==0  and (i!=0 and i!=n-1))or (j==n-1 and (i!=0 and i!=n-1))):\n",
    "            print(\"*\", end=\" \")\n",
    "        else:\n",
    "            print(\" \", end=\" \")\n",
    "    print()"
   ]
  },
  {
   "cell_type": "code",
   "execution_count": 1,
   "id": "499ae2a9-7302-4295-aebc-d7fec09b1c3b",
   "metadata": {},
   "outputs": [
    {
     "name": "stdin",
     "output_type": "stream",
     "text": [
      " 10\n"
     ]
    },
    {
     "name": "stdout",
     "output_type": "stream",
     "text": [
      "* * * * * * * * *   \n",
      "*                 * \n",
      "*                 * \n",
      "*                 * \n",
      "*                 * \n",
      "* * * * * * * * *   \n",
      "*                   \n",
      "*                   \n",
      "*                   \n",
      "                    \n"
     ]
    }
   ],
   "source": [
    "#pattern program to print letter 'P'\n",
    "n=int(input())\n",
    "for i in range(n):\n",
    "    for j in range(n):\n",
    "        #to print first row\n",
    "        if i==0 and j< n-1:\n",
    "            print(\"*\", end= \" \")\n",
    "        #to print first column\n",
    "        elif j==0 and i<n-1:\n",
    "            print(\"*\", end= \" \")\n",
    "            #to print middle row\n",
    "        elif i==n//2 and j<n-1:\n",
    "            print(\"*\", end=\" \")\n",
    "            #to print half column\n",
    "        elif i<n//2 and j==n-1 and i!=0:\n",
    "            print(\"*\", end= \" \")\n",
    "        else:\n",
    "            print(\" \", end=\" \")\n",
    "    print()"
   ]
  },
  {
   "cell_type": "code",
   "execution_count": 8,
   "id": "ab896302-44d2-4072-b4b4-3bba661377a1",
   "metadata": {},
   "outputs": [
    {
     "name": "stdin",
     "output_type": "stream",
     "text": [
      " 10\n"
     ]
    },
    {
     "name": "stdout",
     "output_type": "stream",
     "text": [
      "  * * * * * * * *   \n",
      "*                 * \n",
      "*                 * \n",
      "*                 * \n",
      "*                 * \n",
      "*                 * \n",
      "*           *     * \n",
      "*             *   * \n",
      "  * * * * * * * *   \n",
      "                  * \n"
     ]
    }
   ],
   "source": [
    "#pattern program to print letter 'Q'\n",
    "n=int(input())\n",
    "for i in range(n):\n",
    "    for j in range(n):\n",
    "        if (\n",
    "            #first row\n",
    "            (i==0 and j!=0 and j!=n-1) or\n",
    "            #last row\n",
    "            (i==n-2 and j!=0 and j<n-2) or \n",
    "            #first column\n",
    "            (j==0 and i!=0 and i<n-2) or \n",
    "            #last column\n",
    "            (j==n-1 and i!=0 and i!=n-2) or \n",
    "            #Q tail\n",
    "            (n//2<i ==j>n//2)\n",
    "        ):\n",
    "            print(\"*\", end=\" \")\n",
    "        else:\n",
    "            print(\" \", end= \" \")\n",
    "    print()\n",
    "            \n"
   ]
  },
  {
   "cell_type": "code",
   "execution_count": 23,
   "id": "e2df5d9a-978b-4db2-89a6-7662f32c061c",
   "metadata": {},
   "outputs": [
    {
     "name": "stdout",
     "output_type": "stream",
     "text": [
      "* * * *   \n",
      "*       * \n",
      "*       * \n",
      "* * * *   \n",
      "*   *     \n",
      "*     *   \n",
      "*       * \n"
     ]
    }
   ],
   "source": [
    "#pattern program to print letter 'R'\n",
    "for i in range(7):\n",
    "    for j in range(5):\n",
    "        if (j==0) or ((i==0 or i==3) and (j>0 and j<4)) or ((j==4) and (i>0 and i<3)) or (i-j==2):\n",
    "            print(\"*\", end= \" \")\n",
    "        else:\n",
    "            print(\" \", end=\" \")\n",
    "    print()"
   ]
  },
  {
   "cell_type": "code",
   "execution_count": 36,
   "id": "82224215-225a-460a-9617-7871d9caf546",
   "metadata": {},
   "outputs": [
    {
     "name": "stdin",
     "output_type": "stream",
     "text": [
      " 8\n"
     ]
    },
    {
     "name": "stdout",
     "output_type": "stream",
     "text": [
      "  * * * * * * * \n",
      "*               \n",
      "*               \n",
      "*               \n",
      "  * * * * * *   \n",
      "              * \n",
      "              * \n",
      "* * * * * * * * \n"
     ]
    }
   ],
   "source": [
    "#pattern program to print letter 'S'\n",
    "n = int(input())\n",
    "for i in range(n):\n",
    "    for j in range(n):\n",
    "        if (i == 0 and j > 0) or (i == n // 2 and j > 0 and j < n - 1) or (i == n - 1 and j < n - 1 and j<n-1) or (i < n // 2 and j == 0 and i!=0) or (i > n // 2 and j == n - 1):\n",
    "            print(\"*\",end=\" \")\n",
    "           \n",
    "        else:\n",
    "            print(\" \", end=\" \")\n",
    "    print()\n",
    "\n"
   ]
  },
  {
   "cell_type": "code",
   "execution_count": 28,
   "id": "979e82ba-8499-47da-95ba-450852ecbbeb",
   "metadata": {},
   "outputs": [
    {
     "name": "stdin",
     "output_type": "stream",
     "text": [
      " 10\n"
     ]
    },
    {
     "name": "stdout",
     "output_type": "stream",
     "text": [
      "  * * * * * * * * * \n",
      "          *         \n",
      "          *         \n",
      "          *         \n",
      "          *         \n",
      "          *         \n",
      "          *         \n",
      "          *         \n",
      "          *         \n",
      "          *         \n"
     ]
    }
   ],
   "source": [
    "#pattern program to print letter 'T'\n",
    "n=int(input())\n",
    "for i in range(n):\n",
    "    for j in range(n):\n",
    "        if i==0 and j!=0:\n",
    "            print(\"*\", end=\" \")\n",
    "        elif j==n//2:\n",
    "            print(\"*\", end= \" \")\n",
    "        else:\n",
    "            print(\" \", end=\" \")\n",
    "    print()"
   ]
  },
  {
   "cell_type": "code",
   "execution_count": 33,
   "id": "b14fa331-9b8c-47f8-85ac-b6b70e9fd44c",
   "metadata": {},
   "outputs": [
    {
     "name": "stdin",
     "output_type": "stream",
     "text": [
      " 10\n"
     ]
    },
    {
     "name": "stdout",
     "output_type": "stream",
     "text": [
      "*                 * \n",
      "*                 * \n",
      "*                 * \n",
      "*                 * \n",
      "*                 * \n",
      "*                 * \n",
      "*                 * \n",
      "*                 * \n",
      "*                 * \n",
      "  * * * * * * * *   \n"
     ]
    }
   ],
   "source": [
    "#pattern program to print letter 'U'\n",
    "n=int(input())\n",
    "for i in range(n):\n",
    "    for j in range(n):\n",
    "        if ((j==0 and i!=n-1) or (j==n-1 and i!=n-1) or (i==n-1 and j!=0 and j!=n-1)) :\n",
    "            print(\"*\", end=\" \")\n",
    "        else:\n",
    "            print(\" \", end= \" \")\n",
    "    print()"
   ]
  },
  {
   "cell_type": "code",
   "execution_count": 30,
   "id": "5d5fa72c-a425-41dc-877a-ec65f18cf84d",
   "metadata": {},
   "outputs": [
    {
     "name": "stdin",
     "output_type": "stream",
     "text": [
      " 8\n"
     ]
    },
    {
     "name": "stdout",
     "output_type": "stream",
     "text": [
      "*                           * \n",
      "  *                       *   \n",
      "    *                   *     \n",
      "      *               *       \n",
      "        *           *         \n",
      "          *       *           \n",
      "            *   *             \n",
      "              *               \n"
     ]
    }
   ],
   "source": [
    "#pattern program to print letter 'V'\n",
    "n = int(input())\n",
    "for i in range(n):\n",
    "    for j in range(2 * n - 1):\n",
    "        if j == i or j == 2 * n - 2 - i:\n",
    "            print(\"*\", end=\" \")\n",
    "        else:\n",
    "            print(\" \", end=\" \")\n",
    "    print()\n"
   ]
  },
  {
   "cell_type": "code",
   "execution_count": 20,
   "id": "5cabe831-0122-4c1a-bf24-4d71fe145c78",
   "metadata": {},
   "outputs": [
    {
     "name": "stdout",
     "output_type": "stream",
     "text": [
      "*         * \n",
      "*         * \n",
      "*         * \n",
      "*   * *   * \n",
      "* *     * * \n",
      "*         * \n"
     ]
    }
   ],
   "source": [
    "#pattern program to print letter 'W'\n",
    "for i in range(6):\n",
    "    for j in range(6):\n",
    "        if(j==0 or j==5) or (i+j==5 and i>2) or (i-j==0 and i>2):\n",
    "            print(\"*\", end= \" \")\n",
    "        else:\n",
    "            print(\" \", end=\" \")\n",
    "    print()\n",
    "       "
   ]
  },
  {
   "cell_type": "code",
   "execution_count": 5,
   "id": "1497a87d-c42d-41e4-a2da-027dbd606873",
   "metadata": {},
   "outputs": [
    {
     "name": "stdin",
     "output_type": "stream",
     "text": [
      " 5\n"
     ]
    },
    {
     "name": "stdout",
     "output_type": "stream",
     "text": [
      "*       * \n",
      "  *   *   \n",
      "    *     \n",
      "  *   *   \n",
      "*       * \n"
     ]
    }
   ],
   "source": [
    "#pattern program to print letter 'X'\n",
    "n=int(input())\n",
    "for i in range(n):\n",
    "    for j in range(n):\n",
    "        if i==j or i+j==n-1:\n",
    "            print(\"*\", end= \" \")\n",
    "        else:\n",
    "            print(\" \", end=\" \")\n",
    "    print()"
   ]
  },
  {
   "cell_type": "code",
   "execution_count": 32,
   "id": "535fb4c5-7564-4027-9725-5ede1ac45d9e",
   "metadata": {},
   "outputs": [
    {
     "name": "stdin",
     "output_type": "stream",
     "text": [
      " 10\n"
     ]
    },
    {
     "name": "stdout",
     "output_type": "stream",
     "text": [
      "*                 * \n",
      "  *             *   \n",
      "    *         *     \n",
      "      *     *       \n",
      "        * *         \n",
      "        *           \n",
      "      *             \n",
      "    *               \n",
      "  *                 \n",
      "*                   \n"
     ]
    }
   ],
   "source": [
    "#pattern program to print letter 'Y'\n",
    "n=int(input())\n",
    "for i in range(n):\n",
    "    for j in range(n):\n",
    "        if i+j==n-1 or i==j and i<n//2:\n",
    "            print(\"*\", end=\" \")\n",
    "        else:\n",
    "            print(\" \", end=\" \")\n",
    "    print()"
   ]
  },
  {
   "cell_type": "code",
   "execution_count": 26,
   "id": "86fa05c5-069e-4231-b894-c6dfd55e00cc",
   "metadata": {},
   "outputs": [
    {
     "name": "stdin",
     "output_type": "stream",
     "text": [
      " 10\n"
     ]
    },
    {
     "name": "stdout",
     "output_type": "stream",
     "text": [
      "* * * * * * * * * * \n",
      "                *   \n",
      "              *     \n",
      "            *       \n",
      "          *         \n",
      "        *           \n",
      "      *             \n",
      "    *               \n",
      "  *                 \n",
      "* * * * * * * * * * \n"
     ]
    }
   ],
   "source": [
    "#pattern program to print letter 'Z'\n",
    "n=int(input())\n",
    "for i in range(n):\n",
    "    for j in range(n):\n",
    "        if i==0 or i==n-1:\n",
    "            print(\"*\", end=\" \")\n",
    "        elif j==n-i-1:\n",
    "            print(\"*\", end= \" \")\n",
    "        else:\n",
    "            print(\" \", end=\" \")\n",
    "    print()\n",
    "    "
   ]
  },
  {
   "cell_type": "code",
   "execution_count": null,
   "id": "f28b2963-b505-4109-80b4-836aa83836ad",
   "metadata": {},
   "outputs": [],
   "source": []
  }
 ],
 "metadata": {
  "kernelspec": {
   "display_name": "Python 3 (ipykernel)",
   "language": "python",
   "name": "python3"
  },
  "language_info": {
   "codemirror_mode": {
    "name": "ipython",
    "version": 3
   },
   "file_extension": ".py",
   "mimetype": "text/x-python",
   "name": "python",
   "nbconvert_exporter": "python",
   "pygments_lexer": "ipython3",
   "version": "3.13.5"
  }
 },
 "nbformat": 4,
 "nbformat_minor": 5
}
